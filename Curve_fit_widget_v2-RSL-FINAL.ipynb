{
 "cells": [
  {
   "cell_type": "markdown",
   "metadata": {},
   "source": [
    "# Demonstration to Show Interactive Data Analytics in Jupyter"
   ]
  },
  {
   "cell_type": "markdown",
   "metadata": {},
   "source": [
    "<b>Author: </b>Rich Lysakowski\n",
    "\n",
    "<b>Date:</b>   7/11/2019\n",
    "\n",
    "This demonstration shows how to take an analytic function (a Normal distribution), create a similarly shaped distribution, and then add some random noise and offsets to it to create a potentially very noisy dataset, which is then curvefit using the SciPy Optimize Package.  \n",
    "\n",
    "The final curvefit parameters are found by Scifit, and then a table and a comparison chart are produced for the results.\n",
    "\n",
    "The main point of this demonstration is to show how to use some simple Widgets from the Jupyter Widgets Package in the statistical mmodeling example.   "
   ]
  },
  {
   "cell_type": "markdown",
   "metadata": {},
   "source": [
    "## Verify WHERE this demo is running.  "
   ]
  },
  {
   "cell_type": "code",
   "execution_count": 1,
   "metadata": {},
   "outputs": [
    {
     "data": {
      "text/plain": [
       "'C:\\\\Anaconda3\\\\python.exe'"
      ]
     },
     "execution_count": 1,
     "metadata": {},
     "output_type": "execute_result"
    }
   ],
   "source": [
    "import sys; sys.executable"
   ]
  },
  {
   "cell_type": "markdown",
   "metadata": {},
   "source": [
    "# Simple interactive widget demo"
   ]
  },
  {
   "cell_type": "code",
   "execution_count": 2,
   "metadata": {},
   "outputs": [],
   "source": [
    "from ipywidgets import interact, interactive, fixed, interact_manual\n",
    "import ipywidgets as widgets\n",
    "from IPython.display import display\n",
    "\n",
    "import numpy as np\n",
    "import matplotlib.pyplot as plt\n",
    "#%matplotlib inline\n",
    "\n",
    "import pandas as pd\n",
    "\n",
    "from scipy.optimize import curve_fit as cf"
   ]
  },
  {
   "cell_type": "markdown",
   "metadata": {},
   "source": [
    "### Define Variables"
   ]
  },
  {
   "cell_type": "code",
   "execution_count": 3,
   "metadata": {},
   "outputs": [],
   "source": [
    "N_samples = 500\n",
    "x = np.linspace(-5, 5, N_samples)"
   ]
  },
  {
   "cell_type": "code",
   "execution_count": 4,
   "metadata": {},
   "outputs": [
    {
     "name": "stdout",
     "output_type": "stream",
     "text": [
      "Show the first 50 data points: \n",
      "\n",
      " [-5.         -4.97995992 -4.95991984 -4.93987976 -4.91983968 -4.8997996\n",
      " -4.87975952 -4.85971944 -4.83967936 -4.81963928 -4.7995992  -4.77955912\n",
      " -4.75951904 -4.73947896 -4.71943888 -4.6993988  -4.67935872 -4.65931864\n",
      " -4.63927856 -4.61923848 -4.5991984  -4.57915832 -4.55911824 -4.53907816\n",
      " -4.51903808 -4.498998   -4.47895792 -4.45891784 -4.43887776 -4.41883768\n",
      " -4.3987976  -4.37875752 -4.35871743 -4.33867735 -4.31863727 -4.29859719\n",
      " -4.27855711 -4.25851703 -4.23847695 -4.21843687 -4.19839679 -4.17835671\n",
      " -4.15831663 -4.13827655 -4.11823647 -4.09819639 -4.07815631 -4.05811623\n",
      " -4.03807615 -4.01803607].\n"
     ]
    }
   ],
   "source": [
    "npoints = 50\n",
    "print(f\"Show the first {npoints} data points: \\n\\n {x[0:npoints]}.\")"
   ]
  },
  {
   "cell_type": "markdown",
   "metadata": {},
   "source": [
    "### Define Function (ideal analytical fitting function and actual data generating function with noise)"
   ]
  },
  {
   "cell_type": "code",
   "execution_count": 5,
   "metadata": {},
   "outputs": [],
   "source": [
    "def f(x, a, mu,sigma):\n",
    "    r = a * np.exp(-(x-mu)**2 / (2*sigma**2))\n",
    "    return (r)"
   ]
  },
  {
   "cell_type": "markdown",
   "metadata": {},
   "source": [
    "## Define the Analytical Function and Noisy Test Data Function "
   ]
  },
  {
   "cell_type": "markdown",
   "metadata": {},
   "source": [
    "***Try Interactive Widgets to input data values.***"
   ]
  },
  {
   "cell_type": "code",
   "execution_count": 6,
   "metadata": {},
   "outputs": [],
   "source": [
    "# Pre-Defined Variables\n",
    "amplitude = 3\n",
    "ideal_mu = 0.0\n",
    "ideal_sigma = 0.8\n",
    "noise_sd = 0.6\n",
    "noise_mean = 0.1 "
   ]
  },
  {
   "cell_type": "markdown",
   "metadata": {},
   "source": [
    "**Figure out WHY default values cannot be set directly in the argument list below**"
   ]
  },
  {
   "cell_type": "code",
   "execution_count": 7,
   "metadata": {},
   "outputs": [],
   "source": [
    "def func(amplitude=amplitude, ideal_mu=ideal_mu, ideal_sigma=ideal_sigma, noise_sd=noise_sd, noise_mean=noise_mean):\n",
    "    r = amplitude * (np.exp(-(x-ideal_mu)**2) / (2*ideal_sigma**2))\n",
    "    \n",
    "    # Set the Figure Size\n",
    "    plt.figure(figsize=(8,5))\n",
    "    \n",
    "    # Create \n",
    "    plt.plot(x, r, c='k', lw=3)\n",
    "    plt.ylim=5\n",
    "    #plt.xlim=5\n",
    "    r = r + np.random.normal(loc=noise_mean, scale=noise_sd, size=N_samples)\n",
    "\n",
    "    plt.scatter(x, r, edgecolors='k', c='yellow', s=60)\n",
    "    plt.grid(True)\n",
    "    plt.show()\n",
    "    return (r)"
   ]
  },
  {
   "cell_type": "markdown",
   "metadata": {},
   "source": [
    "### Call the 'interactive' widget with the data generating function, which also plots the data real-time\n",
    "** Play with the *'noise_sd'* and *'noise_mean'* parameters to see how they impact the estimation (curve-fit) accuracy **"
   ]
  },
  {
   "cell_type": "code",
   "execution_count": 8,
   "metadata": {
    "scrolled": false
   },
   "outputs": [
    {
     "data": {
      "application/vnd.jupyter.widget-view+json": {
       "model_id": "000e6bede06446139d8b0c8d88523ef9",
       "version_major": 2,
       "version_minor": 0
      },
      "text/plain": [
       "interactive(children=(Dropdown(description='amplitude', index=2, options=(1, 2, 3, 4, 5), value=3), FloatSlide…"
      ]
     },
     "metadata": {},
     "output_type": "display_data"
    }
   ],
   "source": [
    "y=interactive(func, amplitude=[1,2,3,4,5], ideal_mu=(-5,5,0.5),\n",
    "              ideal_sigma=(0,2,0.2),\n",
    "              noise_sd=(0, 1, 0.1), noise_mean=(-1,1,0.1))\n",
    "display(y)"
   ]
  },
  {
   "cell_type": "markdown",
   "metadata": {},
   "source": [
    "### Run curve-fitting optimizer to estimate parameters, store, and plot"
   ]
  },
  {
   "cell_type": "code",
   "execution_count": 14,
   "metadata": {},
   "outputs": [],
   "source": [
    "# Curve-fit optimizer\n",
    "p = y.result"
   ]
  },
  {
   "cell_type": "code",
   "execution_count": 15,
   "metadata": {},
   "outputs": [
    {
     "name": "stdout",
     "output_type": "stream",
     "text": [
      "Values are p1 = [ 4.10626856 -1.01657726  0.75593935] \n",
      " and  _ = \n",
      "\n",
      "  [[ 1.24683023e-02  3.08290979e-11 -1.53033561e-03]\n",
      " [ 3.08290979e-11  5.63491411e-04 -5.79260715e-12]\n",
      " [-1.53033561e-03 -5.79260715e-12  5.63491415e-04]]\n"
     ]
    }
   ],
   "source": [
    "p1, _ = cf(f, xdata=x, ydata=p)\n",
    "print(f\"Values are p1 = {p1} \\n and  _ = \\n\\n  {_}\")"
   ]
  },
  {
   "cell_type": "code",
   "execution_count": 16,
   "metadata": {},
   "outputs": [
    {
     "data": {
      "text/plain": [
       "3"
      ]
     },
     "execution_count": 16,
     "metadata": {},
     "output_type": "execute_result"
    }
   ],
   "source": [
    "amplitude"
   ]
  },
  {
   "cell_type": "code",
   "execution_count": 17,
   "metadata": {},
   "outputs": [
    {
     "data": {
      "text/html": [
       "<div>\n",
       "<style scoped>\n",
       "    .dataframe tbody tr th:only-of-type {\n",
       "        vertical-align: middle;\n",
       "    }\n",
       "\n",
       "    .dataframe tbody tr th {\n",
       "        vertical-align: top;\n",
       "    }\n",
       "\n",
       "    .dataframe thead th {\n",
       "        text-align: right;\n",
       "    }\n",
       "</style>\n",
       "<table border=\"1\" class=\"dataframe\">\n",
       "  <thead>\n",
       "    <tr style=\"text-align: right;\">\n",
       "      <th></th>\n",
       "      <th>Original Params</th>\n",
       "      <th>Estimated Params</th>\n",
       "    </tr>\n",
       "  </thead>\n",
       "  <tbody>\n",
       "    <tr>\n",
       "      <th>Amplitude</th>\n",
       "      <td>5.0</td>\n",
       "      <td>4.106269</td>\n",
       "    </tr>\n",
       "    <tr>\n",
       "      <th>Mean</th>\n",
       "      <td>-1.0</td>\n",
       "      <td>-1.016577</td>\n",
       "    </tr>\n",
       "    <tr>\n",
       "      <th>Std.Dev</th>\n",
       "      <td>0.8</td>\n",
       "      <td>0.755939</td>\n",
       "    </tr>\n",
       "  </tbody>\n",
       "</table>\n",
       "</div>"
      ],
      "text/plain": [
       "           Original Params  Estimated Params\n",
       "Amplitude              5.0          4.106269\n",
       "Mean                  -1.0         -1.016577\n",
       "Std.Dev                0.8          0.755939"
      ]
     },
     "execution_count": 17,
     "metadata": {},
     "output_type": "execute_result"
    }
   ],
   "source": [
    "par_lst = list(p1)\n",
    "\n",
    "# Gather ideal parameters from the interactive widget object\n",
    "p2 = list(y.kwargs.values())\n",
    "p3 = p2[0:3]\n",
    "\n",
    "# Make the data matrix\n",
    "data = np.array([p3,par_lst])\n",
    "\n",
    "# Put it in a Data Frame\n",
    "df = pd.DataFrame(data=data.T, index=['Amplitude','Mean','Std.Dev'], columns=['Original Params','Estimated Params'])\n",
    "df"
   ]
  },
  {
   "cell_type": "code",
   "execution_count": 18,
   "metadata": {},
   "outputs": [
    {
     "data": {
      "image/png": "[encoded data removed]",
      "text/plain": [
       "<Figure size 720x432 with 1 Axes>"
      ]
     },
     "metadata": {
      "needs_background": "light"
     },
     "output_type": "display_data"
    }
   ],
   "source": [
    "# Plot the ideal and estimated curves\n",
    "plt.figure(figsize=(10,6))\n",
    "plt.plot(x,f(x,par_lst[0],par_lst[1],par_lst[2]),'k--',lw=2)\n",
    "plt.plot(x,f(x,p3[0],p3[1],p3[2]),c='green',lw=2)\n",
    "plt.legend(['Fitted curve with noise','Ideal curve w/o noise'],fontsize=12)\n",
    "plt.grid(True)\n",
    "plt.show()"
   ]
  },
  {
   "cell_type": "code",
   "execution_count": null,
   "metadata": {},
   "outputs": [],
   "source": []
  }
 ],
 "metadata": {
  "hide_input": false,
  "kernelspec": {
   "display_name": "Python 3",
   "language": "python",
   "name": "python3"
  },
  "language_info": {
   "codemirror_mode": {
    "name": "ipython",
    "version": 3
   },
   "file_extension": ".py",
   "mimetype": "text/x-python",
   "name": "python",
   "nbconvert_exporter": "python",
   "pygments_lexer": "ipython3",
   "version": "3.7.1"
  },
  "toc": {
   "base_numbering": 1,
   "nav_menu": {},
   "number_sections": true,
   "sideBar": true,
   "skip_h1_title": false,
   "title_cell": "Table of Contents",
   "title_sidebar": "Contents",
   "toc_cell": false,
   "toc_position": {},
   "toc_section_display": true,
   "toc_window_display": false
  },
  "varInspector": {
   "cols": {
    "lenName": 16,
    "lenType": 16,
    "lenVar": 40
   },
   "kernels_config": {
    "python": {
     "delete_cmd_postfix": "",
     "delete_cmd_prefix": "del ",
     "library": "var_list.py",
     "varRefreshCmd": "print(var_dic_list())"
    },
    "r": {
     "delete_cmd_postfix": ") ",
     "delete_cmd_prefix": "rm(",
     "library": "var_list.r",
     "varRefreshCmd": "cat(var_dic_list()) "
    }
   },
   "types_to_exclude": [
    "module",
    "function",
    "builtin_function_or_method",
    "instance",
    "_Feature"
   ],
   "window_display": false
  },
  "widgets": {
   "application/vnd.jupyter.widget-state+json": {
    "state": {
     "000e6bede06446139d8b0c8d88523ef9": {
      "model_module": "@jupyter-widgets/controls",
      "model_module_version": "1.5.0",
      "model_name": "VBoxModel",
      "state": {
       "_dom_classes": [
        "widget-interact"
       ],
       "children": [
        "IPY_MODEL_31427aa6accd41b38f7a6d233b92ac30",
        "IPY_MODEL_d441cf1c50884e6981e29b257b97c4e7",
        "IPY_MODEL_55b31ac5f10f4e3e847cd5ebaa0e26d0",
        "IPY_MODEL_c293271a9ca84775ac03767c6448b8c4",
        "IPY_MODEL_37444cf678364fabb231369e525e2443",
        "IPY_MODEL_d05e002a95f34787980a795d2e3e223d"
       ],
       "layout": "IPY_MODEL_1ffb2b588e2d4a769d1c387e00d0306f"
      }
     },
     "005f03830a9a47f7a1144a4f5eba3baa": {
      "model_module": "@jupyter-widgets/base",
      "model_module_version": "1.2.0",
      "model_name": "LayoutModel",
      "state": {}
     },
     "017118a23e7048fd9e52d6361fd0c2df": {
      "model_module": "@jupyter-widgets/controls",
      "model_module_version": "1.5.0",
      "model_name": "VBoxModel",
      "state": {
       "_dom_classes": [
        "widget-interact"
       ],
       "children": [
        "IPY_MODEL_c9d4bcf33bd9416483c2c41d75414b9b",
        "IPY_MODEL_d882bf1cba47401a845dddf178874564",
        "IPY_MODEL_9ba744ac93d24158a1f36ecd07bac4bf",
        "IPY_MODEL_e3a2589ff5fd426eaaa3bf7e0d61031f",
        "IPY_MODEL_cfe46ee326cc46dbb5845b14ccb7f644",
        "IPY_MODEL_bef43cb7266e45669a33acf74cd76032"
       ],
       "layout": "IPY_MODEL_e6392a3b9d184f2aa708d6c5f58c278b"
      }
     },
     "0256a658c0c5478697ce06059e958131": {
      "model_module": "@jupyter-widgets/base",
      "model_module_version": "1.2.0",
      "model_name": "LayoutModel",
      "state": {}
     },
     "03527e10014140609d6eb347c329c536": {
      "model_module": "@jupyter-widgets/base",
      "model_module_version": "1.2.0",
      "model_name": "LayoutModel",
      "state": {}
     },
     "048d5dabe5f34c44bb360df96606c9bc": {
      "model_module": "@jupyter-widgets/base",
      "model_module_version": "1.2.0",
      "model_name": "LayoutModel",
      "state": {}
     },
     "049259c29285429bb1f61bb5e831715b": {
      "model_module": "@jupyter-widgets/base",
      "model_module_version": "1.2.0",
      "model_name": "LayoutModel",
      "state": {}
     },
     "04e430aa52f4492687ec930feb6ca605": {
      "model_module": "@jupyter-widgets/base",
      "model_module_version": "1.2.0",
      "model_name": "LayoutModel",
      "state": {}
     },
     "04ed9b3dd54c4635bd71c070bc05201c": {
      "model_module": "@jupyter-widgets/controls",
      "model_module_version": "1.5.0",
      "model_name": "SliderStyleModel",
      "state": {
       "description_width": ""
      }
     },
     "0646bbad6fec45848807da1829af79cc": {
      "model_module": "@jupyter-widgets/base",
      "model_module_version": "1.2.0",
      "model_name": "LayoutModel",
      "state": {}
     },
     "067a1e87c4a64363bab43c2dc7c881d3": {
      "model_module": "@jupyter-widgets/controls",
      "model_module_version": "1.5.0",
      "model_name": "SliderStyleModel",
      "state": {
       "description_width": ""
      }
     },
     "070537a30fb645e983e5e935ce78e28f": {
      "model_module": "@jupyter-widgets/controls",
      "model_module_version": "1.5.0",
      "model_name": "SliderStyleModel",
      "state": {
       "description_width": ""
      }
     },
     "07081de37ae045e4b4516446718a51ab": {
      "model_module": "@jupyter-widgets/base",
      "model_module_version": "1.2.0",
      "model_name": "LayoutModel",
      "state": {}
     },
     "0766f453b3e342b09f8a6c011d146e46": {
      "model_module": "@jupyter-widgets/base",
      "model_module_version": "1.2.0",
      "model_name": "LayoutModel",
      "state": {}
     },
     "07b3fc3a3e0641dc90a7a2d052e37eb8": {
      "model_module": "@jupyter-widgets/controls",
      "model_module_version": "1.5.0",
      "model_name": "FloatSliderModel",
      "state": {
       "description": "ideal_sigma",
       "layout": "IPY_MODEL_29338d2d36ef4acf8f1617169bff46d4",
       "max": 2,
       "step": 0.2,
       "style": "IPY_MODEL_f40b5579e4944582807a0ec79ed38f8d",
       "value": 0.8
      }
     },
     "080e8337bce546f39ad1bc54e1e27a3c": {
      "model_module": "@jupyter-widgets/controls",
      "model_module_version": "1.5.0",
      "model_name": "FloatSliderModel",
      "state": {
       "description": "ideal_sigma",
       "layout": "IPY_MODEL_a5c6f450f8814818bf51a0715e2e282d",
       "max": 2,
       "step": 0.2,
       "style": "IPY_MODEL_cb2c44b0f2634e6c8affd0c580510c77",
       "value": 1
      }
     },
     "0857003fc14447ff8b758fe83ad5e456": {
      "model_module": "@jupyter-widgets/controls",
      "model_module_version": "1.5.0",
      "model_name": "VBoxModel",
      "state": {
       "_dom_classes": [
        "widget-interact"
       ],
       "children": [
        "IPY_MODEL_7573132ff56a4e6e9add63fb7feeeb45",
        "IPY_MODEL_b4bdd8a476824a44bb100a1485c41e04",
        "IPY_MODEL_2e15fa53b729499d83c3c1f4bf041b64",
        "IPY_MODEL_265c8282674c4b6a8a473d0fdb18f4ae",
        "IPY_MODEL_33925ae46ea9433aade699277fc25bce",
        "IPY_MODEL_42c6d702faef4fe7a078e73958b11226"
       ],
       "layout": "IPY_MODEL_3b87a071f80e430f9955ea79029be6c7"
      }
     },
     "089d55f936814b89bbfcf73bc57ae325": {
      "model_module": "@jupyter-widgets/base",
      "model_module_version": "1.2.0",
      "model_name": "LayoutModel",
      "state": {}
     },
     "09212e0017534d8cb9d5c099f90b2040": {
      "model_module": "@jupyter-widgets/output",
      "model_module_version": "1.0.0",
      "model_name": "OutputModel",
      "state": {
       "layout": "IPY_MODEL_cfd7d6ec90394e2dbf2a1e24bcbc2311",
       "outputs": [
        {
         "data": {
          "image/png": "iVBORw0KGgoAAAANSUhEUgAAAewAAAEvCAYAAACHVvJ6AAAABHNCSVQICAgIfAhkiAAAAAlwSFlzAAALEgAACxIB0t1+/AAAADh0RVh0U29mdHdhcmUAbWF0cGxvdGxpYiB2ZXJzaW9uMy4xLjAsIGh0dHA6Ly9tYXRwbG90bGliLm9yZy+17YcXAAAgAElEQVR4nO3deVxVdf7H8dcXc0msHLPIyahUsMzUQh2tKCFNsxq3dIR0mkbTcqnBFmtqbC+bsSyLMlPHTH7igpVrmgLaopXmnoq0mamZS5q4Jff7+4PrHUBAlHvvucv7+XjcB/csnPP5cIHPved8F2OtRURERAJbhNMBiIiIyMmpYIuIiAQBFWwREZEgoIItIiISBFSwRUREgoAKtoiISBA4w+kASlO7dm17ySWX+PQceXl5REZG+vQcvhYKOYDyCDShkEco5ADKI9D4Oo8VK1bsstaeV9K2gC3Yl1xyCcuXL/fpObKzs2nTpo1Pz+FroZADKI9AEwp5hEIOoDwCja/zMMb8UNo2XRIXEREJAirYIiIiQUAFW0REJAioYIuIiAQBFWwREZEgoIItIiISBFSwRUREgoAKtoiISBBQwRYREQkCKtgiEjBcLhdpaWkkJjanQYMoEhObk5aWhsvlcjo0EccF7NCkIhJeXC4XvXp1JTd3IUOH5tGkCaxZs5Phw/szd+503n03g4gIfcaQ8FXh335jTDVjzBfGmNXGmPXGmKdK2KeqMWaKMSbXGPO5MeaSip5XRELL5MmTyc1dyJIleXTrBjEx0K0bfPxxHjk5H5Genu50iCKO8sbb1SNAorW2KdAM6GCMaVVsnz7AXmttA2Ak8KIXzisiIWTcuJEMHZpHtWpF11erBo88ksfYsS87E5hIgKhwwbYFDrgXK7sftthunYB33M+nAzcaY0xFzy0SCnTftsCWLT/SpEnJ2668ErZs2erfgEQCjFduCBljKhljVgE7gY+stZ8X2+VC4EcAa+0xYB9wrjfOLeK0wgV33brVp1Rwj9+3ffXV/gwcuIJ583YycOAKXnmlP717dwuroh0dfRFr1pS8be1aiI6u69+ARAKMsbb4h+EKHMyYmsB7wGBr7bpC69cD7a21W93L3wAtrbW7i31/P6AfQFRUVJyv71kdOHCAGjVq+PQcvhYKOUBw5/Hdd99w5Mh+LrjARUREXVyurWzfHkG1amdz6aX1y/zePXv2sHPnDzRs6KLwNSdrYePGCKKiLqZWrVo+zuBETrwee/bs4eeff+Cyy7zzswjm36nClEdg8XUeCQkJK6y1zUvcaK316gN4Aniw2Lr5QGv38zOAXbjfLJT2iIuLs76WlZXl83P4WijkYG3w5jFp0iTbokWkPXSo4Fc3K2uEtRZ76BC2efNIm5aWVub3JyTE2enTS/4zmD4dm5Dg+7+DkjjxeuTn59ukpE62efNIO306dtOmgp9B8+aRNjm5s83Pzz+l4wXr71RxyiOw+DoPYLktpS56o5X4ee5P1hhjzgTaAhuL7TYTuNP9/HYg0x2YSFCraEMp3bf9n4iICCZNmkFKyhhSU+Po2DGK1NQ4UlLGqEuXCN7ph10HeMcYU4mCe+JTrbWzjTFPU/BOYSYwDnjXGJML7AF6euG8Io6raMEtuG+7k5iYE7eF433biIgIkpOTSU5OdjoUkYBT4YJtrV0DXFXC+mGFnh8Gulf0XCKBpqIFt0+fFIYP788ttxT9lH74MAwfHklKyhAvRywiwUrXmEQqoKDgRnL4cNH1xwtu375lF9ykpCRiYtoSHx9JRgbk5EBGBsTHRxIb246ePXUxSkQKqGCLVEDxgnvkyKkVXN23FZHy0n8DkQooXnA3b658ygX3+H3bzMzl5ObuIDNzOcnJyX4v1hXpTy4ivqeCLVJBhQtu48ZNHCu4FVF8AJeYmGNhO4CLSKAKnv8oIuIzxSfeqFpVE2+IBBoVbBHRxBsiQUAFW0Q0gItIEFDBFhFNvCESBFSwRaTC/clFxPdUsEWkwv3JRcT3VLBFxCv9yUXEt7wx+YeIhIDCE29kZ2czaNByp0MSkUL0tllERCQIqGCLiIgEARVsERGRIKCCLSIiEgRUsEVERIKACraIiEgQUMEWkZChOb0llKlgi0hI0JzeEupUsEUkJGhObwl1KtgiEhI0p7eEOhVsEQkJmtNbQp0KtoiEBM3pLaFOBVtEQoLm9JZQV+GCbYy5yBiTZYzZYIxZb4y5v4R92hhj9hljVrkfwyp6XhGRwjSnt4Q6b0yveQx4wFr7lTHmLGCFMeYja+3Xxfb72Fp7qxfOJyJyguNzeqenp5Oa+jJdu1Zmxow4UlKG0LNnT83pLUGvwgXbWrsd2O5+/psxZgNwIVC8YIuI+JTm9JZQZqy13juYMZcAS4DG1tr9hda3ATKArcA24EFr7foSvr8f0A8gKioqztf9Jg8cOECNGjV8eg5fC4UcQHkEmlDIIxRyAOURaHydR0JCwgprbfMSN1prvfIAagArgK4lbDsbqOF+3hHYfLLjxcXFWV/Lysry+Tl8LRRysFZ5BJpQyCMUcrBWeQQaX+cBLLel1EWv3NQxxlSm4BN0mrV2RglvCvZbaw+4n88FKhtjanvj3CIiIuHAG63EDTAO2GCtLXEoIWPMBe79MMa0dJ93d0XPLSIiEi680Ur8WqA3sNYYs8q97p9ANIC1djRwO3CvMeYYcAjo6f7oLyIiIuXgjVbinwDmJPu8Drxe0XOJiIiEK3VMFBERCQIq2CIiIkFABVtERCQIeKPRmYgEuWPHjvHVV1+RmZnJqlUFbUcPHjxIfHw8Z511lsPRiQioYIuEJZfLxdq1a8nMzCQzM5MlS5awf//+IvtMmTKFSpUq0bJlSxITE0lISOCaa67hzDPPdChqkfCmgi0SBqy1bNq0yVOgs7Oz2b375EMh5Ofns3TpUpYuXcpzzz1HlSpVuOaaa0hISCAxMZGWLVtSpUoVP2QgIirYIiHIWst3331HVlaWp0jv2LGjzO+58MILSUxMpHXr1mRmZrJ582ZWr15dZJ+jR4+SnZ1NdnY2TzzxBNWrVyc+Pt5TwK+++moqVarky9REwpYKtkiIsNYya9Ys3n//fTIzM/nhhx/K3P+8887zFNrExEQaNGiAe0BCLr/8ctq0acOuXbvIzs72FP6NGzcWOcbBgweZP38+8+fPB+Ccc87h+uuv56abbuKuu+4iMjLSN8mKhCEVbJEQsGfPHu6++25mzDhhKH+PmjVr0qZNG0+RvuKKKzwFujS1a9fm9ttv5/bbbwdg27ZtZGdnez61f/fdd0X237dvH7NmzWLWrFm89tprpKenc9VVV1U8QRFRwRYJdp988gnJycn8+OOPRdZHRkZy/fXXexqMNWvWrMKXq//4xz965psG+P7774tcdt+2bZtn35ycHFq1asWLL77I/ffff9I3ByJSNvXDFglS+fn5PP3009xwww1FivXdd9/NZ599xt69e5k7dy4PPvggcXFxPrm3fMkll3DXXXfx7rvvsnXrVjZt2sSIESM8l8KPHj1KSkoKt912G7/88ovXzy8STlSwRYLQ1q1bSUxM5IknnsDlcgFQq1Yt3n//fcaMGUPr1q2pXLmyX2MyxhAbG8sDDzzAypUrufrqqz3b5syZQ9OmTVm0aJFfYxIJJSrYIkHmgw8+oGnTpixZssSz7vrrr2f16tV06tTJwcj+JyYmhqVLlzJkyBDPuu3bt9OuXTv++c9/8vvvvzsYnUhwUsEWCRKHDh1i0KBBdO7cmT179gAQERHB008/TWZmJnXr1nU4wqKqVKnCSy+9xNy5cznvvPOAgpbsL7zwAtdff/0JDdZEpGwq2BLWXC4XaWlpJCY2p0GDKBITm5OWlua5zBwovv76a/70pz+RmprqWXfRRRexePFi/vWvfwV03+ebb76ZNWvW0K5dO8+6ZcuW0axZM6ZMmeJgZCLBRQVbwpbL5aJXr668+mp/Bg5cwbx5Oxk4cAWvvNKf3r27BUTRttby9ttv07x5c9auXetZ37VrV1atWsV1113nYHTld8EFF/Dhhx/y4osvcsYZBZ1T9u/fT8+ePenbty95eXkORygS+FSwJWxNnjyZ3NyFLFmSR7duEBMD3brBxx/nkZPzEenp6Y7Gt3fvXnr06EG/fv04dOgQANWqVWP06NFMnz6dWrVqORrfqYqIiODhhx/m008/pV69ep7148aNIy4uzjPpiIiUTAVbwta4cSMZOjSPatWKrq9WDR55JI+xY192JjDgs88+o1mzZkyfPt2z7oorruDLL7+kf//+Qd2nuWXLlqxcuZKkpCTPuk2bNvGnP/2JUaNGYa11MDqRwKWCLWFry5YfadKk5G1XXglbtmz1b0AU9K1+7rnnuP7669myZYtn/b333suXX35J48aN/R6TL5x99tmkpaUxYcKEIn2277//fjp16sSuXbscjlAk8KhgS9iKjr6INWtK3rZ2LURH+7fV9U8//UTbtm15/PHHyc/PBwqGE83IyOCNN94IuWktjTHceeedrFixosjwpbNmzaJp06ZkZWU5GJ1I4FHBlrDVp08Kw4dHcvhw0fWHD8Pw4ZH07Tuk5G/0gR9//JHWrVuTnZ3tWXfdddexevVqunbt6rc4nNCwYUOWLl1KSkqKZ922bdto164dH3zwgYORiQQWFWwJW0lJScTEtCU+PpKMDMjJgYwMiI+PJDa2HT179vRLHLt27eKmm27yDC8aERHBE088QVZWFtHR0X6JwWlVq1bl5ZdfZs6cOdSuXRsouD3wl7/8hcWLFzscnUhgUMGWoFaRftQRERFMmjSDlJQxpKbG0bFjFKmpcaSkjOHddzOIiPD9n8dvv/1Gx44dPdNWVq5cmdmzZ/Pkk096uj+Fk44dO7Jq1SoaNGgAwJEjR7jttttYuXKlw5GJOC/8/iNIyDjejzo3dyFDh+bRpAmsWbOT4cP7M3fu9HIV3YiIiCKzT/nTkSNH6NKlC19++SVQcE83LS2Nm2++2e+xBJILL7yQBQsWcO2117J9+3Z+++032rdvz6effkpMTIzT4Yk4psIfIYwxFxljsowxG4wx640x95ewjzHGjDLG5Bpj1hhjri7pWCKnItD7UZclPz+fXr16FZkM480336R79+4ORhU4Lr30UhYsWEDNmjUB+OWXX2jXrh0//fSTw5GJOMcb1/yOAQ9Yay8HWgEDjTGNiu1zMxDjfvQD3vTCeSXMBXI/6rJYaxkwYECRPtbPPvss/fv3dzCqwNO4cWPmzJnjaR3/ww8/0L59e8846iLhpsIF21q73Vr7lfv5b8AG4MJiu3UCJtoCy4Caxpg6FT23hLdA7EddHv/6178YM2aMZ/kf//gH//znPx2MKHBdc801ZGRkeO7nr1+/nltvvVVDmUpY8mqrGmPMJcBVwOfFNl0I/FhoeSsnFnWRUxJo/ajLY+TIkTz33HOe5V69evHSSy8F9chlvnbzzTfzzjvveJaXLl3K7bffztGjRx2MSsT/jLeGATTG1AAWA89Za2cU2zYHeMFa+4l7eRHwsLV2RbH9+lFwyZyoqKg4X9+DPHDgADVq1PDpOXwtFHKA08tjz549/PzzD1x2mYvC9c5a2Lgxgqioi/0+3nZZecyfP5/hw4d7llu1asUzzzwTkK3BA/H3asaMGbz22mue5cTERB577LFSGxYGYg6nQ3kEFl/nkZCQsMJa27zEjdbaCj+AysB8YEgp298CkgotbwLqlHXMuLg462tZWVk+P4evhUIO1p5eHvn5+TYpqZNt3jzSTp+O3bQJO306tnnzSJuc3Nnm5+d7P9CTKC2PmTNn2kqVKlnAAva6666zeXl5/g3uFATq79WwYcM8P0PADho0yLpcrhL3DdQcTpXyCCy+zgNYbkupixV+a28KruWNAzZYa0tr5TMTGGSMSQf+BOyz1m6v6LklvB3vR52enk5q6sts2bKV6Oi6pKQMoWfPnn7pR10eH3/8MT169PAMN9qkSRNmzZpF9erVHY4s+Dz55JPs2rWLN954A4DXX3+d2rVr88QTTzgcmYjveeNa3LVAb2CtMeb4/Hj/BKIBrLWjgblARyAXOAjc5YXzijjaj7o8Vq9ezW233cZh9/in9erV48MPP/R0V5JTY4zhtddeY/fu3UyZMgUoKOK1a9dm4MCBDkcn4lsVLti24L50mS1m3B/z9dckYeWbb76hffv27Nu3D4CoqCgWLFhAnTrqIFERERERTJw4kb1797JgwQIABg8eTK1atYpM2SkSagLjmqFIiNm+fTs33XQTP//8MwDnnHMO8+fPp379+j45X0WGaA1GVapUYcaMGbRq1QooaIvz17/+lQ8//NDhyER8RwVbxMv27t1L+/bt+fbbbwGoVq2aZ8pIXzg+ROurr/Zn4MAVzJu3k4EDV/DKK/3p3btbyBbtyMhI5syZQ6NGBeM0HTt2jG7durF06VKHIxPxDRVsES86fPgwt912G2vXrgWgUqVKTJs2jfj4eJ+dM5iHaK2oWrVqsWDBAi6++GIADh48yC233ML69esdjkzE+1SwRbzk999/56mnnuLTTz/1rPvvf//Lrbfe6tPzBusQrd5yfLKQ8847Dyi4wnHTTTexY8cOhyMT8S4VbBEvcLlc/P3vf2fZsmWedSNHjqR3794+P3egDNHq5H302NhY5s2bx1lnnQXAtm3bePDBB9m5c6fPzy3iLyrYIl7wxBNPMGnSJM/yY489xj/+8Q+/nDsQhmgNhPvocXFxzJw5k6pVqwLw008/cdttt3HkyBGfn1vEH1SwRSpo1qxZPPvss57l/v3788wzz/jt/H36pDB8eCTurt4ehw/D8OGR9O07xOcxBMp99DZt2pCenu4ZNOeLL77w2xsnEV9TwRapgG+//bbIZe/mzZuTmprq18k8kpKSiIlpS3x8JBkZkJMDGRkQHx9JbGw7evbs6fMYAuk+eufOnXn55f+db/To0UycONFv5xfxFRVskdN06NAhunXr5hkYJTo6mscff5xKlSr5NY7jQ7SmpIwhNTWOjh2jSE2NIyVlDO++m+GXIVoD5T76cffddx8JCQme5XvuuYc1pd03EAkSgTdNkEgQsNYyYMAAVq0qGI23SpUqTJ8+3bF5mp0eorXgPvpOYmJO3ObEVKfGGB566CF27NjBhg0bOHToEF27dmX58uUaFlaClj5hi5yGsWPHMmHCBM/yqFGjaNGihXMBOSwQ7qMXd+aZZzJjxgzPVIjffPMNd955Z8gOJCOhTwVb5BQtX76cQYMGeZb/+te/0q9fPwcjcl4g3EcvyWWXXcb48eM9yzNnzuTf//63I7GIVJQKtsgp2L17N7fffjtHjx4FCqbKfPPNN/3ayCwQBcJ99NJ0796dlJQUz/Jjjz3GokWLHItH5HTpHrZIOeXn53PHHXfwww8/AAUTemRkZGheazen76OX5cUXX+TLL7/kk08+weVykZSUxFdffUXduv69ty5SEfqELVJOzzzzDPPnz/csT5w4kQYNGjgYkZRX5cqVmTp1KlFRUQD88ssvdO/e3XOlRCQYqGCLlMO8efN4+umnPcuPPvoof/7znx2MSE5VnTp1mDp1qqfb3bJly3jwwQcdjkqk/FSwRU7i+++/54477sBaC8CNN97o15HMxHuuv/56XnzxRc/ya6+9xuTJkx2MSKT8VLBFynD48GFuv/129u7dCxTMDPV///d/fh8cRbxnyJAhdOvWzbPct29f1q1b52BEIuWjgi1Shvvuu48VK1YABfdBp0+fzvnnn+9wVFIRxhjGjx9Pw4YNgYI5tLt168b+/fsBZ2cdEymLCrZIKf773//y9ttve5ZHjhxJq1atHIxIvOXss88u0sI/JyeHu+66i/z8fMdnHRMpjQq2SAlWrlzJgAEDPMvJyclFliX4XXHFFYwdO9azPGPGDHr37h0Qs46JlEQFW6SYvXv30q1bNw67x9ls3LgxY8aMCfvBUUJRUlISgwcP9iynp0/m1lsDY9YxkeJUsEUKcblc9O7dm++++w6As846i4yMDCIjIx2OTHxlxIgRtG7dGgBr4bXXYNu2E/dzYtYxkcJUsEUKef7555kzZ45necKECcTGxjoYkfhalSpVmDp1Kueddx4Au3ZBjx7w++9F93Ni1jGRwrxSsI0x440xO40xJfaNMMa0McbsM8ascj+GeeO8It700UcfMWzY/341H3roIbp27epgROIvdevWJT093XPb49NPYejQ/213ctYxkeO89Ql7AtDhJPt8bK1t5n48fZJ9Rfxqy5YtJCUleQZHueGGG3j++ecdjkr8KTExschrPnIkvPJKYMw6JgJeKtjW2iXAHm8cS8Tfjh49Svfu3dm9ezdQMIRleno6Z5yhuXHCzdChQ4sMOTtkiOHf/24UELOOifjzt6+1MWa1MWaeMeYKP55XpEwPPfQQX3zxBQBnnHEG06ZN44ILLnA4KnGCMabIpC7WWg4ejKBz584q1uI4c/wSYIUPZMwlwGxrbeMStp0NuKy1B4wxHYFXrbUxJezXD+gHEBUVFefrPo8HDhygRo0aPj2Hr4VCDuBcHosXL+bJJ5/0LA8YMIDu3buf9vH0egSOiuTwzTffMGDAAM9sXh06dGBo4ZvafhQKrwUoj/JKSEhYYa1tXuJGa61XHsAlwLpy7vs9ULusfeLi4qyvZWVl+fwcvhYKOVjrTB65ubn27LPPtoAFbJcuXazL5arQMfV6BI6K5jB27FjP7wZgJ0yY4J3ATlEovBbWKo/yApbbUuqiX67xGGMuMO7ml8aYlhRcit/tj3OLlOTIkSP06NHDM370JZdcwvjx4zU4inj8/e9/p3fv3p7le++9l/Xr1zsYkYQ7b3XrmgwsBRoaY7YaY/oYY+4xxtzj3uV2YJ0xZjUwCujpfich4ogHHniAr776CiiY1GPq1KnUrFnT4agkkBhjeOONN7jssssAOHToED169CAvL8/hyCRceaUZrLU26STbXwde98a5RCpq6tSppKamepZfeuklWrRo4WBEEqhq1KjBtGnTaNmyJYcOHeLrr79mwIABTJgwQVdjxO/U7FHCyubNm+nbt69n+fbbb2fQoEEORiSBrnHjxrzxxhue5YkTJ/Lf//7XwYgkXKlgS9g4fPgwPXr04LfffgOgXr16jB07Vp+U5KT+9re/8be//c2zPHDgQNauXetcQBKWVLAlbKSkpLBq1SqgYPzoadOmcc455zgclQSL119/nUaNGgH/e/N34MABh6OScKKCLWFh8uTJjB492rM8cuRIrr76agcjkmATGRnJtGnTqF69OgAbN27knnvuQe1nxV9UsCXkbdq0iX79+nmW//KXv3Dvvfc6GJEEq0aNGhV545eWlsbYsWMdjEjCiQq2hLTjXXGOX7ps0KABY8aM0X1rOW29e/emT58+nuXBgwezevVqByOScKGCLSHt/vvvZ82aNQBUrVqVadOmcfbZZzsclQS7UaNG0bhxwSjMxwfhOd6YUcRXVLAlZKWlpfH22297ll999VWaNWvmYEQSKqpXr860adOIjIwEICcnh379+ul+tviUCraEpI0bN9K/f3/PclJSUpH72CIVddlll/HWW295ltPT04ssi3ibCraEnIMHD9K9e3fPEJKxsbG89dZbum8tXnfHHXdw9913e5b/8Y9/sHLlSgcjklCmgi0hZ/Dgwaxbtw6AatWqMW3aNM466yyHo5JQ9eqrr9K0aVPgxEllRLxJBVtCysSJExk/frxn+bXXXqNJkyYORiSh7swzz2Tq1KmeOZJzc3Pp27ev7meL16lgS8j4+uuvi/Sv7tWrV5HuNyK+EhsbW6SB47Rp04qMPy7iDSrYEhLy8vLo3r07Bw8eBAoaBL355pu6by1+07NnT+655x7P8pAhQ1ixYoWDEUmoUcGWkDBw4EC+/vproOAS5bRp0zyXKEX8ZeTIkVx11VUAHD16lB49erBv3z6Ho5JQoYItQW/8+PG88847nuXU1FTPoBYi/lStWjWmTp3qaeT47bff8ve//133s8UrVLCDkMvlIi0tjcTE5qxbt5rExOakpaXhcrmcDs3vPv/8cwYMGOBZvvPOO7nrrrscjEjCXYMGDRg3bpxnecaMGbzwwgsORiShQgU7yLhcLnr16sqrr/Zn4MAVxMQcY+DAFbzySn969+4WVkV727ZtdOnShSNHjgDQuHFjUlNTHY5KBLp3787gwYM9y48//jizZs1yMCIJBSrYQWby5Mnk5i5kyZI8unWDqlWhWzf4+OM8cnI+Ij093ekQ/eLw4cN07dqV7du3A1CrVi0++OADz1CRIk576aWXaNOmDQDWWu644w42bNjgbFAS1FSwg8y4cSMZOjSPatWKrq9WDR55JI+xY192JjA/stZy77338vnnnwNQqVIlpk6dSr169RyOTOR/KleuzLRp07j44osB+O233+jUqRN79+51ODIJVirYQWbLlh8pbRyQK6+ELVu2+jegCjjde/GvvfYaEyZM8CyPGDGCG2+80cfRipy62rVr88EHH1C9enUANm/eTFJSEvn5+Q5HJsFIBTvIREdfhHu2yBOsXQvR0XX9G9BpOt178YsWLWLIkCGe5TvvvJP777/fX2GLnLKmTZsWeYM5f/58Hn30UecCkqClgh1k+vRJYfjwSA4fLrr+8GEYPjySvn2HlPyNAeZ07sV/++239OjRw/PppGXLlowePVqDo0jA6969O4899phn+T//+Q9paWkORiTBSAU7yCQlJRET05b4+EgyMuDIEcjIgPj4SGJj29GzZ0+nQyyXU70Xf+DAATp16sSePXsAqFOnDu+99x7Vih9AJAAUvt3ToEEUiYnNadiwIbfeeqtnn759+7J8+XIHoyxbSTmEa/fRQOGVgm2MGW+M2WmMWVfKdmOMGWWMyTXGrDHGXO2N84ajiIgIJk2aQUrKGFJT49i8uTKpqXGkpIzh3XcziIgIjvdgp3Iv3uVy8de//tUzA1eVKlWYMWMGf/zjH/0RqsgpKX67Z968nQwcuIJRo+7lzDMtl19+OVDQ06FLly7s2LHD4YhPVFoO4dh9NJB467/7BKBDGdtvBmLcj37Am146b1iKiIggOTmZzMzlNPtl+DsAACAASURBVG7chMzM5SQnJwdNsYZTuxf/7LPP8t5773mWR48eTatWrXwdoshpKX67Jybmf7d7vvsum759+1KzZk0Atm7dSrdu3TxjCQSKsnIIp+6jgcYr/+GttUuAPWXs0gmYaAssA2oaY+p449wSnMp7L/7999/niSee8Gy///77NZKZBLST3e6ZPfv/SE9P97zB/uyzzxg8eHBADV+q7qOByV8fyS4Efiy0vNW9TsJUee7Fr1u3jt69e3u+JzExkREjRjgYtcjJled2T/v27XnxxRc9699++21Gjx7tpwhPLpS6j4YS4613dcaYS4DZ1toTZl0wxswBXrDWfuJeXgQ8bK1dUWy/fhRcMicqKirO15ddDhw4EPQzOgV7Dnv27GHXrp/5wx/OZe/e3dSuHUWtWrXYv38/9957L9u2bQMKGpm9+eabnHPOOQ5HXLZgfz2OC4U8nMohJ2cD559/EPdV7yJ+/RV27qxObOzlWGt5/vnnWbhwIVAwANCIESNo1qxZke9xIo/y5nAqQuF3CnyfR0JCwgprbfMSN1prvfIALgHWlbLtLSCp0PImoE5Zx4uLi7O+lpWV5fNz+Foo5GBt0Tx+//1327ZtWwtYwEZGRto1a9Y4F9wpCMXXI1g5lcOkSZNs8+aR9tChov/WDh3CNm8eadPS0jz7Hjx40MbFxXl+12vXrm2///77IsdzIo9TyaG8QuF3ylrf5wEst6XURX9dEp8J/NXdWrwVsM9au91P55Yg8/DDD3s+dQBMnDiRK6+80sGIRMqv+O2enJzSu16eeeaZvP/++0RFRQGwa9cuOnfuTF5enlPhA6eWg/iPt7p1TQaWAg2NMVuNMX2MMfcYY+5x7zIX+BbIBd4GBpRyKAkivuin+c477zBy5EjP8hNPPEHXrl29Ea6IXxTvetmxY1SZXS/r1q1LRkYGlStXBmDVqlWOz6F9qjmIf5zhjYNYa5NOst0CA71xLgkMx/tp5uYuZOjQPJo0gTVrdjJ8eH/mzp1+Wn/Un3/+Of379/csd+7cmWHDhnk7dBGfO971Mjk5uVz7X3vttaSmptKvXz8Apk6dSrNmzRwdwvRUcxDf09skOS3e7qe5a9euInNbX3HFFUycOFHv5CVs3H333Qwc+L/PNY899hizZ892MCIJNPpvKKfFm/00Dx8+zLBhwzxzW//hD3/ggw8+4KyzzvJmyCIBb+TIkdxwww1AQYPg5ORkfvjhB4ejkkChgi2nxVv9NK17busNGzYABZfhpk6dSv369b0VqkjQKGkO7ccff5xff/3V4cgkEKhgy2nx1jSfTz75ZJGpB1966SXatm3rhQhFgtN5553H+++/75lDe+vWrfz5z392vOW4OE8FW06LN6b5/Pe//83TTz/tWdbc1iIFmjVrVuSN7Mcff0yXLl04XPwPTsKKCraclor203z99dcZOnSoZ7lFixa89dZbmttaxK179+689NJLnuWPPvqIHj168PvvvzsYlThJBVtOS0X6aY4fP57Bgwd7lm+44Qaefvppqlat6o/QRYLGkCFDikx2M2vWLHr37k1+fr6DUYlTvNIPW8LT6fTTTE9Pp2/fvp7lVq1aMWvWLFasWFHGd4mEr969e3P++ed7JguZMmUKZ555JuPGjVO3xzCjV1v85oMPPqBXr16eEZyaNWvGvHnz1H1LpAzGGF544YUiV6UmTJjAoEGDAmpKTvE9FWzxi/nz59OjRw/PpbxGjRqxYMECapY0HZCIFGGM4ZVXXqFPnz6edW+++SYPP/ywinYYUcEWn1u8eDGdO3fm6NGjADRo0ICFCxdy3nnnORyZSPCIiIjgrbfeKnILasSIETz11FMORiX+pIItPrVs2TJuvfVWT3eU6OhoFi1aRJ06dRyOTCT4VKpUiQkTJtC5c2fPuqeeeor//Oc/DkYl/qKCLT6zatUqbr75Zg4cOABAnTp1WLRoEdHR0Q5HJhK8KleuTHp6Oh06dPCse/jhh0lNTXUwKvEHFWzxia+//pp27dp5hlSsXbs2CxcupEGDBg5HJhL8qlatSkZGBm3atPGsGzRoEOPHj3cuKPE5FWzxutzcXNq2bcuuXbsAqFmzJh999BGNGjVyODKR0FG9enVmzpxJq1atPOv69u17yjPlSfBQwRav2rJlCzfeeKNn5q0aNWrw4Ycf0qxZM4cjEwk9Z511FvPmzeOqq64CCibT6dWrFx988IHDkYkvqGCL12zfvp0bb7yRLVu2AHDmmWcye/Zs/vSnPzkcmUjoqlmzJgsWLPBcwcrPz6dHjx7Mnz/f4cjE21SwxSt++eUX2rZtS25uLgBVqlThvffe88ztKyK+U7yNyNGjR+nSpQuLFy92ODLxJhVsqbBff/2V9u3b8/XXXwMFXU+mTp1K+/btHY5MJHwU74Vx6NAhbr31VpYtW+ZwZBXjcrlIS0sjMbE5DRpEkZjYnLS0NFwul9Oh+Z0KtlTIb7/9xs0338zKlSuBghGZJk2aRKdOnRyOTCT8REdHk5mZ6Rnn4MCBA9x8882sWrXK4chOj8vlolevrrz6an8GDlzBvHk7GThwBa+80p/evbuFXdFWwZbT9vPPP9O+ffsi7+DHjRt30qk1RcR36tevz8KFC6lduzZQcAWsbdu2fPzxxw5HduomT55Mbu5ClizJo1s3iImBbt3g44/zyMn5KOxaxKtgy2n56quvaNGiBUuXLvWse/3114tMBSgizmjUqBEfffSRZ6z+3bt3c+ONN/L22287HNmpGTduJEOH5lGtWtH11arBI4/kMXbsy84E5hAVbDllU6ZM4brrruPHH38ECsY4fvXVVxk4cKDDkYnIcc2aNWPBggWeMft///13+vXrx6BBg/j9998djq58tmz5kSZNSt525ZWwZctW/wbkMBVsKTeXy8Xjjz9Oz549OXToEADnnHMOs2fP5r777nM4OhEprkWLFixfvrzIOAipqam0b9/eM7BRIIuOvog1a0retnYtREfX9W9ADvNKwTbGdDDGbDLG5BpjHilh+9+MMb8YY1a5H329cV7xn/3799OlSxeee+45z7rY2Fg+//xzbr75ZgcjE5GyREdH88knn9C9e3fPuqysLFq2bMnatWsdjOzk+vRJYfjwSNxzB3kcPgzDh0fSt+8QZwJzSIULtjGmEpAK3Aw0ApKMMSWNQTnFWtvM/Rhb0fOK/3zzzTe0bt2amTNnetZ16NCBzz//nIYNGzoYmYiUR2RkJFOmTOHZZ5/1rPvuu+9o3bo177//voORlS0pKYmYmLbEx0eSkQE5OZCRAfHxkcTGtgu7Bq7e+ITdEsi11n5rrT0KpAPq0xMiFi1aRIsWLTx9rAEefPBBZs+e7WnQIiKBzxjDY489xvvvv0+NGjUAyMvLo0uXLjzzzDNYax2O8EQRERFMmjSDlJQxpKbG0bFjFKmpcaSkjOHddzOIiAivu7reyPZC4MdCy1vd64rrZoxZY4yZboy5yAvnFR+y1jJq1Cjat2/P3r17gYIZgiZOnMh//vMfKlWq5HCEIqGr8GAh69at9upgIZ06dWLp0qXUq1fPs27YsGH06NGDvLy8Ch/f2yIiIkhOTiYzczm5uTvIzFxOcnJy2BVrAFPRd1XGmO5Ae2ttX/dyb6CltXZwoX3OBQ5Ya48YY+4BelhrE0s4Vj+gH0BUVFScr/vYHThwwPNOM1j5IoejR4/y6quvMnfuXM+6c889l2eeeYbLL7/cq+c6LhReC1AegSSYc/juu284cmQ/F1zgIiKiLi7XVrZvj6BatbO59NL6XjnHvn37eOqppzyDHkFBH+5nn32WCy64wCvnKCyYX4/CfJ1HQkLCCmtt8xI3Wmsr9ABaA/MLLT8KPFrG/pWAfSc7blxcnPW1rKwsn5/D17ydw44dO+y1115rAc+jZcuW9qeffvLqeYoLhdfCWuURSII1h0mTJtkWLSLtoUMF/w6zskZYa7GHDmGbN4+0aWlpXjvX0aNH7eDBg4v8vZ933nl2yZIlXjvHccH6ehTn6zyA5baUuuiNawpfAjHGmEuNMVWAnsDMwjsYY+oUWvwzsMEL5xUvOz4YyqeffupZ17t3bxYvXswf//hHByMTCR/+HCykcuXKjBo1ijFjxlC5cmWgYCKfYBxkJRxUuGBba48Bg4D5FBTiqdba9caYp40xf3bvdp8xZr0xZjVwH/C3ip5XvKukwVBGjBjBO++8Q7Xi/zlExGecGCzk7rvvJjMzM6gHWQkHXrlrb62da62NtdbWt9Y+5143zFo70/38UWvtFdbaptbaBGvtRm+c93T4sjFHMCptMJQ5c+bwwAMPYIxxOEKR8OLUYCHXXXddUA+yEg7Cqpld8ZlfYmKOhfXML7t37z5hMJSGDRvy+eef06FDBwcjEwlfTg4WUtYgKytWrPDZeaV8wqpgF5/5pWrV8Jz5JT8/n9GjRxMbG3vCYCjLli3TYCgiDio+WMiRI/4dLKS0QVZatmzJgAED2LNnj0/PL6ULq4KtmV9g6dKltGzZknvvvbfIH95DDz2kwVBEAkDxwUI2b67s98FCShpkxeVy8eabbxIbG8vbb78ddlckA0FYFexwnvll586d3HXXXVxzzTV89dVXnvWXXnops2bN4t///rcGQxEJEIUHC2ncuIljg4V06tSJr776ivbt23vW7d69m379+tGqVSu++OILv8YT7sKqYIfjzC/Hjh1j1KhRxMbGMmHCBM/6atWq0a1bNy66qCb/+EefsG98JyIli4mJYd68ecyYMYOLL77Ys/7LL7+kVatW3H333WqU5idhVbDDbeaXJUuWcPXVV3P//fezb98+z/pOnTrRrl08W7Z8yH33rWTevJ1h3fhORMpmjKFLly58/fXXDBs2jKpVqwIFA2+NHTuW2NhY3njjDfLz8x2ONLSFVcF2ujGHv2zbto1evXpxww03FJk+7/g75e7du7Njx2eexncxMeHZ+E4klBXuwtqgQZRXrqJVr16dp556ivXr13Pbbbd51u/du5eBAwfSvHlzPvvsM2+ELyUIq4IdCI05fOn3339nxIgRNGzYkLS0NM/66tWr88ILL7B27Vo6dOigxnciIa54F1ZvX0WrX78+M2fOZPbs2dSv/7+xzVetWsW1117LnXfeyY4dOyqahhQT3BXqNARKYw5vW7RoEU2bNuWhhx7iwIEDnvU9evRg48aNPPLII57LWOHc+E4kHBTvwuqrq2i33HIL69at45lnnuHMM8/0rJ84cSINGzbklVde0UhpXhTcVUrYuXMnPXr0oG3btmzY8L8h2i+//HIWLlzIlClTuOiiorOZhmPjO5Fw4s+raNWqVePxxx9nw4YNdO3a1bN+//79pKSkcPXVV5Odne2184UzFewgtXXrVv71r39x5513Mm3aNM/6GjVqMGLECFavXs2NN95Y4veGW+M7kXDjxFW0iy++mIyMDObPn19k8KV169aRkJDAk08+ybJly47P2iinQQU7iOTn5zN37lw6derExRdfzLPPPsvhQlW3V69e5OTk8MADD3hm3ilJ8cZ3OTmh2fhOJFw5eRXtpptuYs2aNbz44otERkZ61i9evJjWrVtz1VVXMXr0aH777TefxRCqVLCDwI4dO3j++eepX78+t9xyCzNnzizSaKRJkyYsWbKEd999lzp16pRxpALFG9917BgVUo3vRMKd01fRqlSpwsMPP8zGjRtP+ACwevVq7r33XurUqUP//v1ZuXKlT2MJJfrPHKBcLheLFi2ie/fuXHTRRTz22GP88MMPRfZJTExk2LBhrFixgvj4+FM6fuHGd7m5O0Km8Z2IBM5VtLp16zJ58mS++OILOnToUKRhWl5eHmPGjOHqq6+mZcuWjB8/nry8PL/EFaz03znA7Nq1y9M1q23btkyfPp1jx455tteqVYsHHniATZs2sWjRIhISEjjjjDMcjFhEAk2gXUVr0aIFQ4cOZdu2bYwaNYpGjRoV2f7ll1/Sp08fLrzwQgYPHsy6dev8Gl+wUMEOANZaPv74Y+644w4uvPBCHnroIXJzc4vsc9111zFp0iR++uknRowYQWxsrEPRikgwCMSraDVr1vQU5OP/86pUqeLZvm/fPl5//XWuvPJK4uPjmTRpUpF2OuFOBdtBe/fuZdSoUVxxxRVcf/31/N///R9Hjx71bD/nnHNO+OWuVryfhohIkDHGnPAhJCYmpsg+n3zyCb179+bCCy/kwQcfJCcnx6FoA4eupfrRsWPHWLFiBZmZmWRmZvLJJ5+U+O6xZcuW3HPPPfzlL3+hevXqDkQqIuIftWvX5oEHHiAlJYXs7GxGjx7Ne++957kVuGfPHl566SVeeuklrrrqKhISEkhMTCQ+Pp6zzz7b4ej9SwXbh1wuF2vWrCEzM5OsrCwWL15caleGGjVqcMcdd9C/f3+uuuoqP0cqIuKsiIgIEhMTSUxMZMeOHfz3v/9lzJgxfP/99559Vq5cycqVK3n55ZepVKkSLVq08HzPNddcU6RRWyhSwfYiay2bNm3yfILOzs5m9+7dZX5Ps2bNuOeee0hOTuass87yU6QiIoHrggsu4NFHH2Xo0KEsWLCA0aNHM3v27CKzgeXn57Ns2TKWLVvG888/T5UqVbjmmmtITEwkISGBli1bFrk/HgpUsCvo+++/9xTozMxMtm/fXub+F110kecdYUJCwgnDhoqISIGIiAg6dOhAhw4d2L9/P5988onnf+2qVauKjJp29OhRsrOzPcOgVq9enfj4eM//26uuuopKlSo5lIl3qGCX08GDB8nJyWHTpk1s3LiRTZs2sXTp0iKXa0py/vnnFynQ9evXxxjjn6BFRELE2WefTceOHenYsSMAu3fvZvHixZ4CXnguBSj4nz1//nzmz58PFDTive6662jUqBENGzakYcOGXHbZZdSuXdvvuZwuFexCrLVs3bq1SFE+/vzHH38s1zFq1qxJmzZtPEW6UaNGKtAiIl527rnn0rVrV8+EI9u3byc7O9tTwL/99tsi++/bt485c+YwZ86cIutr1apVpIAff16/fv2Au6QelgU7Ly+PnJwcFi1aRHZ2tqco5+TkcPDgwVM6VmRkJNdff73nE3SzZs2C/rKLiEiwqVOnDklJSSQlJQEFtyuzsrI8BXzbtm0lft+ePXtYunQpS5cuLbK+UqVK1KtX74RivnfvXqy1jnwQ80rBNsZ0AF4FKgFjrbXDi22vCkwE4oDdwF+std9749ynaseOHeUab7u4SpUqUb9+fc+L17BhQxo3bkxcXFyZE22IiIj/XXLJJdx1113cddddWGvJyclh5cqVJ1xBLe1DWn5+Pps3b2bz5s3Mnj27yLa3336bvn37+iONIipcsI0xlYBUoB2wFfjSGDPTWvt1od36AHuttQ2MMT2BF4G/VPTcpyMqKooaNWpw4MCBErfXqlXL806q8OWRevXqUaVKFVwuF5MnT2bcuJFs2fIj0dEX0adPCklJSRqHW0QkABljPP/LC7PW8tNPPxUp4McL+pYtW0o9XoMGDXwdcom88Qm7JZBrrf0WwBiTDnQCChfsTsCT7ufTgdeNMcY6MDGqMYYrrriCX3/9lXPPPZdrr722SGEuqwGCy+WiV6+u5OYuZOjQPJo0gTVrdjJ8eH/mzp1e7jF6VfRFRJxnjKFu3brUrVuXtm3bFtl28OBBNm/efEIxX79+/QmF31+8UbAvBAq3yNoK/Km0fay1x4wx+4BzgV1eOP8pW7p0KcYYsrOzadOmTbm/b/LkyeTmLmTJkjyOjxAaEwO33JJHfPxHpKenk5ycXOYxvFX0RUTEd6pXr07Tpk1p2rRpkfVZWVlccMEFjsRkKvoh1xjTHWhvre3rXu4NtLTWDi60z3r3Plvdy9+499ld7Fj9gH4AUVFRcenp6RWK7WQOHDhAjRo1yr1/Ts4Gzj//IDVrnrjt119h587qxMZeXuYx9uzZw86dP9CwoYvCbRashY0bI4iKuphatWqVO6ZTzSFQKY/AEgp5hEIOoDwCja/zSEhIWGGtbV7iRmtthR5Aa2B+oeVHgUeL7TMfaO1+fgYFn6xNWceNi4uzvpaVlXVK+9evf77NySk55E2bsPXrR530GAkJcXb69JKPMX06NiHh1PI+1RwClfIILKGQRyjkYK3yCDS+zgNYbkupi9649volEGOMudQYUwXoCcwsts9M4E7389uBTHdgQSU6+iLWrCl529q1EB1d96TH2LLlR5o0KXnblVfCli1bKxChiIiEqgoXbGvtMWAQBZ+iNwBTrbXrjTFPG2P+7N5tHHCuMSYXGAI8UtHzOqFPnxSGD4+k+ARbhw/D8OGR9O075KTH8EbRFxGR8OOV1k3W2rnW2lhrbX1r7XPudcOstTPdzw9ba7tbaxtYa1tad4vyYJOUlERMTFvi4yPJyICcHMjIgPj4SGJj29GzZ8+THsMbRV9ERMKPmiOfgoiICCZNmkFKyhhSU+Po2DGK1NQ4UlLGlLt1tzeKvoiI+I/L5SItLY3ExOasW7eaxMTmpKWl4XK5/BpHWA5NWhEREREkJyeftPtWWd8/adIM0tPTSU19mS1bthIdXZeUlCH07NlTXbpERAJI8a64NWokMXDgCke64qpgO6CiRV9ERPyj+Pgb2dnQvv2pjb/hLfo4JyIiUopx40YydOj/Bss6rlo1eOSRPMaOfdlvsahgi4iIlCKQuuKqYIuIiJQikLriqmCLiIiUIpC64qpgi4hIyCrcJatBg6hT7pJVvCvukSPOdcVVK3EREQlJ3pgdsXhX3K5dKzNjRpwjXXFVsEVEJCR5Y0pkKNoVNzs7m0GDlvs48lLicOSsIiIiPhZIXbK8QQVbRERCUiB1yfIGFWwREQlJgdQlyxtUsEVEJCQFUpcsb1DBFhGRkBRqsyOqlbiIiISkUJsdUQVbRERCVijNjhhcby9ERETClAq2iIhIEFDBFhERCQIq2CIiIkFABVtERCQIqGCLiIgEARVsERGRIKCCLSIiEgQqVLCNMbWMMR8ZYza7v/6hlP3yjTGr3I+ZFTmniIhIOKroJ+xHgEXW2hhgkXu5JIestc3cjz9X8JwiIiJhp6IFuxPwjvv5O0DnCh5PRERESmCstaf/zcb8aq2tWWh5r7X2hMvixphjwCrgGDDcWvt+KcfrB/QDiIqKiktPTz/t2MrjwIED1KhRw6fn8LVQyAGUR6AJhTxCIQdQHoHG13kkJCSssNY2L3GjtbbMB7AQWFfCoxPwa7F995ZyjD+6v9YDvgfqn+y8cXFx1teysrJ8fg5fC4UcrFUegSYU8giFHKxVHoHG13kAy20pdfGks3VZa9uWts0Y87Mxpo61drsxpg6ws5RjbHN//dYYkw1cBXxzsnOLiIhIgYrew54J3Ol+fifwQfEdjDF/MMZUdT+vDVwLfF3B84qIiISVihbs4UA7Y8xmoJ17GWNMc2PMWPc+lwPLjTGrgSwK7mGrYIuIhDiXy0VaWhqJic1Zt241iYnNSUtLw+VyOR1aUDrpJfGyWGt3AzeWsH450Nf9/DPgyoqcR0REgovL5aJXr67k5i5k6NA8atRIYuDAFQwf3p+5c6fz7rsZRERo7K5ToZ+WiIh43eTJk8nNXciSJXl06wZVq0K3bvDxx3nk5HyEr3sBhSIVbBER8bpx40YydGge1aoVXV+tGjzySB5jx77sTGBBTAVbRES8bsuWH2nSpORtV14JW7Zs9W9AIUAFW0REvC46+iLWrCl529q1EB1d178BhQAVbBER8bo+fVIYPjySw4eLrj98GIYPj6Rv3yHOBBbEVLBFRMTrkpKSiIlpS3x8JBkZcOQIZGRAfHwksbHt6Nmzp9MhBh0VbBER8bqIiAgmTZpBSsoYUlPj2Ly5MqmpcaSkjFGXrtNUoX7YIiIipYmIiCA5OZnk5GSys7MZNGi50yEFNb3FERERCQIq2CIiIkFABVtERCQIqGCLiIgEARVsERGRIKCCLSIiEgRUsEVERIKACraIiEgQUMEWEREJAsZa63QMJTLG/AL84OPT1AZ2+fgcvhYKOYDyCDShkEco5ADKI9D4Oo+LrbXnlbQhYAu2PxhjlltrmzsdR0WEQg6gPAJNKOQRCjmA8gg0TuahS+IiIiJBQAVbREQkCIR7wR7jdABeEAo5gPIINKGQRyjkAMoj0DiWR1jfwxYREQkW4f4JW0REJCiEVcE2xvzHGLPRGLPGGPOeMaZmKft1MMZsMsbkGmMe8XecZTHGdDfGrDfGuIwxpbZUNMZ8b4xZa4xZZYwJuFnjTyGPgH0tAIwxtYwxHxljNru//qGU/fLdr8UqY8xMf8dZkpP9bI0xVY0xU9zbPzfGXOL/KE+uHHn8zRjzS6Gff18n4iyLMWa8MWanMWZdKduNMWaUO8c1xpir/R1jeZQjjzbGmH2FXoth/o6xPIwxFxljsowxG9z/p+4vYR//vybW2rB5ADcBZ7ifvwi8WMI+lYBvgHpAFWA10Mjp2AvFdznQEMgGmpex3/dAbafjrUgegf5auGP8N/CI+/kjJf1OubcdcDrWU/3ZAgOA0e7nPYEpTsd9mnn8DXjd6VhPksf1wNXAulK2dwTmAQZoBXzudMynmUcbYLbTcZYjjzrA1e7nZwE5Jfxe+f01CatP2NbaBdbaY+7FZUDdEnZrCeRaa7+11h4F0oFO/orxZKy1G6y1m5yOo6LKmUdAvxZunYB33M/fATo7GMupKM/PtnBu04EbjTHGjzGWRzD8jpyUtXYJsKeMXToBE22BZUBNY0wd/0RXfuXIIyhYa7dba79yP/8N2ABcWGw3v78mYVWwi/k7Be+OirsQ+LHQ8lZOfKGCgQUWGGNWGGP6OR3MaQqG1yLKWrsdCv7IgfNL2a+aMWa5MWaZMSYQinp5fraefdxvdPcB5/oluvIr7+9IN/dly+nGmIv8E5pXBcPfQnm1NsasNsbMM8Zc8+e96AAAAtZJREFU4XQwJ+O+FXQV8HmxTX5/Tc7w5cGdYIxZCFxQwqbHrLUfuPd5DDgGpJV0iBLW+bUpfXlyKIdrrbXbjDHnAx8ZYza63/36jRfycPy1gLLzOIXDRLtfj3pApjFmrbX2G+9EeFrK87MNiJ//SZQnxlnAZGvtEWPMPRRcNUj0eWTeFQyvRXl8RcHQmweMMR2B94EYh2MqlTGmBpAB/MNau7/45hK+xaevScgVbGtt27K2G2PuBG4FbrTuGxHFbAUKvwOvC2zzXoQnd7IcynmMbe6vO40x71Fw6dCvBdsLeTj+WkDZeRhjfjbG1LHWbndfDttZyjGOvx7fGmOyKXjH7mTBLs/P9vg+W40xZwDnEHiXO0+ah7V2d6HFtylovxJsAuJvoaIKFz1r7VxjzBvGmNrW2oAbY9wYU5mCYp1mrZ1Rwi5+f03C6pK4MaYDMBT4s7X2YCm7fQnEGGMuNcZUoaCxTUC06i0vY0ykMeas488paGxXYqvNABcMr8VM4E738zuBE64cGGP+YIyp6n5eG7gW+NpvEZasPD/bwrndDmSW8ibXSSfNo9h9xT9TcD8y2MwE/upumdwK2Hf8VkwwMcZccLwdhDGmJQU1aHfZ3+V/7hjHARustS+Xspv/XxOnW+P58wHkUnDPYZX7cbwF7B+BuYX260hBq8BvKLh863jshWLrQsE7uyPAz8D84jlQ0GJ2tfuxPtByKG8egf5auOM7F1gEbHZ/reVe3xwY635+DbDW/XqsBfo4HXdpP1vgaQre0AJUA6a5/26+AOo5HfNp5vGC++9gNZAFXOZ0zCXkMBnYDvzu/rvoA9wD3OPeboBUd45rKaOHSIDnMajQa7EMuMbpmEvJ4zoKLm+vKVQvOjr9mmikMxERkSAQVpfERUREgpUKtoiISBBQwRYREQkCKtgiIiJBQAVbREQkCKhgi4iIBAEVbBERkSCggi0iIhIE/h+5aic7Y++xgwAAAABJRU5ErkJggg==\n",
          "text/plain": "<Figure size 576x360 with 1 Axes>"
         },
         "metadata": {
          "needs_background": "light"
         },
         "output_type": "display_data"
        }
       ]
      }
     },
     "092e5a543b2d43e0b2be484ebf7b77d7": {
      "model_module": "@jupyter-widgets/base",
      "model_module_version": "1.2.0",
      "model_name": "LayoutModel",
      "state": {}
     },
     "0964a56855a14f2aa9f8214308e9a843": {
      "model_module": "@jupyter-widgets/base",
      "model_module_version": "1.2.0",
      "model_name": "LayoutModel",
      "state": {}
     },
     "09f71a6d87424083af7b0f23cd261d08": {
      "model_module": "@jupyter-widgets/base",
      "model_module_version": "1.2.0",
      "model_name": "LayoutModel",
      "state": {}
     },
     "0a8c0633c2244ffbac5bd1ce642c0cda": {
      "model_module": "@jupyter-widgets/base",
      "model_module_version": "1.2.0",
      "model_name": "LayoutModel",
      "state": {}
     },
     "0c29bedd965842b18f8da3c4db43f742": {
      "model_module": "@jupyter-widgets/controls",
      "model_module_version": "1.5.0",
      "model_name": "DropdownModel",
      "state": {
       "_options_labels": [
        "1",
        "2",
        "3",
        "4",
        "5"
       ],
       "description": "amplitude",
       "index": 2,
       "layout": "IPY_MODEL_445f5f2f08534cb093890667df219ca2",
       "style": "IPY_MODEL_d7ddca432534421185d886b88bff1324"
      }
     },
     "0c8e12c06d194cf5aeec5a0d86d2e352": {
      "model_module": "@jupyter-widgets/base",
      "model_module_version": "1.2.0",
      "model_name": "LayoutModel",
      "state": {}
     },
     "0ce815c324a0430fb10083d5e390407e": {
      "model_module": "@jupyter-widgets/controls",
      "model_module_version": "1.5.0",
      "model_name": "VBoxModel",
      "state": {
       "_dom_classes": [
        "widget-interact"
       ],
       "children": [
        "IPY_MODEL_d45841523a3140e28093f8c078144fa0",
        "IPY_MODEL_d154f453945d4faf999a7c384630ea1d",
        "IPY_MODEL_39351978be474c67890ef6ac7f90d598",
        "IPY_MODEL_cee06eb51a7948428c1cd435b6ecb684",
        "IPY_MODEL_147d930001ce4d7e983e0df175d2fbb9",
        "IPY_MODEL_adf2dd5025644c129ff13a7eca7fc76a"
       ],
       "layout": "IPY_MODEL_ab7f9682d511413aba78da84da7be6a1"
      }
     },
     "0dbc70b3bbf945eca91b198464e7235e": {
      "model_module": "@jupyter-widgets/controls",
      "model_module_version": "1.5.0",
      "model_name": "FloatSliderModel",
      "state": {
       "description": "noise_mean",
       "layout": "IPY_MODEL_1de4770f9968476b92f6fe68811c8aac",
       "max": 1,
       "min": -1,
       "step": 0.2,
       "style": "IPY_MODEL_1ef280db2867465f8108229668cb3087"
      }
     },
     "0df282cceed54fc48d719f617453c834": {
      "model_module": "@jupyter-widgets/base",
      "model_module_version": "1.2.0",
      "model_name": "LayoutModel",
      "state": {}
     },
     "0e706f510225439e9845faa26e2440db": {
      "model_module": "@jupyter-widgets/controls",
      "model_module_version": "1.5.0",
      "model_name": "FloatSliderModel",
      "state": {
       "description": "noise_mean",
       "layout": "IPY_MODEL_304a7be418df46f6a4cc087443d13083",
       "max": 1,
       "min": -1,
       "step": 0.2,
       "style": "IPY_MODEL_e6d1d8777dd34c4f8c8bf99f74d09797"
      }
     },
     "0e87194c83e5403da69863969618acf1": {
      "model_module": "@jupyter-widgets/controls",
      "model_module_version": "1.5.0",
      "model_name": "VBoxModel",
      "state": {
       "_dom_classes": [
        "widget-interact"
       ],
       "children": [
        "IPY_MODEL_7f9a1f94c6e64b5cb48209fb1d3b87c3",
        "IPY_MODEL_d970a5e078454f019bcff13ad77b24ce",
        "IPY_MODEL_1b63d61307814a409f4b1f287d37c58c",
        "IPY_MODEL_b9e23b25b81940fdaae2e33b66107dda",
        "IPY_MODEL_4cdd07d345ca403cb8c077e1fcefe7e3",
        "IPY_MODEL_f07023c3bbd74b0f92aa0aed2d17e76a"
       ],
       "layout": "IPY_MODEL_c225dcbab25e472a8626851eb1d310a3"
      }
     },
     "0eab60a4adad446197e003de73794751": {
      "model_module": "@jupyter-widgets/controls",
      "model_module_version": "1.5.0",
      "model_name": "SliderStyleModel",
      "state": {
       "description_width": ""
      }
     },
     "0f4cd2982cd84602868310b0b20afdd5": {
      "model_module": "@jupyter-widgets/base",
      "model_module_version": "1.2.0",
      "model_name": "LayoutModel",
      "state": {}
     },
     "0f4ffe4859934aa9a77efb2e6a2513c9": {
      "model_module": "@jupyter-widgets/controls",
      "model_module_version": "1.5.0",
      "model_name": "SliderStyleModel",
      "state": {
       "description_width": ""
      }
     },
     "11c528d9866b43aeb464afbcc1fb01f0": {
      "model_module": "@jupyter-widgets/controls",
      "model_module_version": "1.5.0",
      "model_name": "FloatSliderModel",
      "state": {
       "description": "ideal_mu",
       "layout": "IPY_MODEL_04e430aa52f4492687ec930feb6ca605",
       "max": 5,
       "min": -5,
       "step": 0.5,
       "style": "IPY_MODEL_863a5e04eb3449cc96eba3e39d37a586"
      }
     },
     "13ce6ed2f92e4636a011c142398d5f3f": {
      "model_module": "@jupyter-widgets/controls",
      "model_module_version": "1.5.0",
      "model_name": "FloatSliderModel",
      "state": {
       "description": "ideal_sigma",
       "layout": "IPY_MODEL_3a51532822504da4bd20085066f58f01",
       "max": 2,
       "step": 0.2,
       "style": "IPY_MODEL_8e3eb73021da42adb6e2ba6dceac9ecd",
       "value": 0.8
      }
     },
     "1466eccf56d54c5d8da0808f3f0a32e0": {
      "model_module": "@jupyter-widgets/controls",
      "model_module_version": "1.5.0",
      "model_name": "DescriptionStyleModel",
      "state": {
       "description_width": ""
      }
     },
     "147d930001ce4d7e983e0df175d2fbb9": {
      "model_module": "@jupyter-widgets/controls",
      "model_module_version": "1.5.0",
      "model_name": "DropdownModel",
      "state": {
       "_options_labels": [
        "1",
        "2",
        "3",
        "4",
        "5"
       ],
       "description": "amplitude",
       "index": 2,
       "layout": "IPY_MODEL_fe9f4fc44287420585f0485abd5a94d7",
       "style": "IPY_MODEL_47bd7cd8c8fd432d8d4a329d2c898918"
      }
     },
     "153fda5cfa28470186510a43af42e446": {
      "model_module": "@jupyter-widgets/base",
      "model_module_version": "1.2.0",
      "model_name": "LayoutModel",
      "state": {}
     },
     "154105abe20943d5b476d5bd076f91e8": {
      "model_module": "@jupyter-widgets/controls",
      "model_module_version": "1.5.0",
      "model_name": "VBoxModel",
      "state": {
       "_dom_classes": [
        "widget-interact"
       ],
       "children": [
        "IPY_MODEL_998106818d9d4512a7c1123dffd233e4",
        "IPY_MODEL_d646cd2e750642e6b16f27cbb4a56915",
        "IPY_MODEL_07b3fc3a3e0641dc90a7a2d052e37eb8",
        "IPY_MODEL_62a1483894824fca9151b7d3b1863c2f",
        "IPY_MODEL_c7e57aa425ad45f99ff599f2ccc7e093",
        "IPY_MODEL_09212e0017534d8cb9d5c099f90b2040"
       ],
       "layout": "IPY_MODEL_51e86b8dcfa44f80a5e578b76643e2c7"
      }
     },
     "16296a830b47441281fe10a467854afe": {
      "model_module": "@jupyter-widgets/controls",
      "model_module_version": "1.5.0",
      "model_name": "SliderStyleModel",
      "state": {
       "description_width": ""
      }
     },
     "172b3f13f3dd429c9bb9f20f7d7450d6": {
      "model_module": "@jupyter-widgets/base",
      "model_module_version": "1.2.0",
      "model_name": "LayoutModel",
      "state": {}
     },
     "17a243bb90e543ae9fcdc8713ea40871": {
      "model_module": "@jupyter-widgets/base",
      "model_module_version": "1.2.0",
      "model_name": "LayoutModel",
      "state": {}
     },
     "189e9dbcff274491ad5349795b30685b": {
      "model_module": "@jupyter-widgets/base",
      "model_module_version": "1.2.0",
      "model_name": "LayoutModel",
      "state": {}
     },
     "19834ae8f02941c5a5a80ed466f611e5": {
      "model_module": "@jupyter-widgets/controls",
      "model_module_version": "1.5.0",
      "model_name": "DescriptionStyleModel",
      "state": {
       "description_width": ""
      }
     },
     "1b63d61307814a409f4b1f287d37c58c": {
      "model_module": "@jupyter-widgets/controls",
      "model_module_version": "1.5.0",
      "model_name": "FloatSliderModel",
      "state": {
       "description": "ideal_sigma",
       "layout": "IPY_MODEL_e56f7cc4037d42d29ff4cdfc96a662eb",
       "max": 2,
       "step": 0.2,
       "style": "IPY_MODEL_6585e22e18514c13af7046b7a7b764f9",
       "value": 1
      }
     },
     "1bac4232daa340b782969288ab9aaa08": {
      "model_module": "@jupyter-widgets/controls",
      "model_module_version": "1.5.0",
      "model_name": "DescriptionStyleModel",
      "state": {
       "description_width": ""
      }
     },
     "1c08f1ef62274e0b8871e8d67fb1f040": {
      "model_module": "@jupyter-widgets/controls",
      "model_module_version": "1.5.0",
      "model_name": "SliderStyleModel",
      "state": {
       "description_width": ""
      }
     },
     "1de4770f9968476b92f6fe68811c8aac": {
      "model_module": "@jupyter-widgets/base",
      "model_module_version": "1.2.0",
      "model_name": "LayoutModel",
      "state": {}
     },
     "1ef280db2867465f8108229668cb3087": {
      "model_module": "@jupyter-widgets/controls",
      "model_module_version": "1.5.0",
      "model_name": "SliderStyleModel",
      "state": {
       "description_width": ""
      }
     },
     "1ef5fb96dfbe45338e2c2ad3f005b26c": {
      "model_module": "@jupyter-widgets/controls",
      "model_module_version": "1.5.0",
      "model_name": "SliderStyleModel",
      "state": {
       "description_width": ""
      }
     },
     "1eff6d292134403eb384fca51a01f5ba": {
      "model_module": "@jupyter-widgets/controls",
      "model_module_version": "1.5.0",
      "model_name": "SliderStyleModel",
      "state": {
       "description_width": ""
      }
     },
     "1f9ce7072e9c4946b6ccd7188b5eca14": {
      "model_module": "@jupyter-widgets/controls",
      "model_module_version": "1.5.0",
      "model_name": "SliderStyleModel",
      "state": {
       "description_width": ""
      }
     },
     "1faf37689ca04f36b1ad6ca4c0197e3c": {
      "model_module": "@jupyter-widgets/controls",
      "model_module_version": "1.5.0",
      "model_name": "VBoxModel",
      "state": {
       "_dom_classes": [
        "widget-interact"
       ],
       "children": [
        "IPY_MODEL_ae3370e3066a409d9ccd33a5f8144ce0",
        "IPY_MODEL_ea92d0a4569249b995afc01f8d8339d8",
        "IPY_MODEL_48158ce33d8e47a2848c5ab9e010248f",
        "IPY_MODEL_0c29bedd965842b18f8da3c4db43f742",
        "IPY_MODEL_d2014a72959e4395b933f8b5043bdbc7",
        "IPY_MODEL_60a710674a8c46909f1fdc1ec799f1b9"
       ],
       "layout": "IPY_MODEL_5950c9b52bf34cefb41a2a3ce0135fba"
      }
     },
     "1ff1b141114340d780d6d0ccd1889adc": {
      "model_module": "@jupyter-widgets/controls",
      "model_module_version": "1.5.0",
      "model_name": "FloatSliderModel",
      "state": {
       "description": "ideal_sigma",
       "layout": "IPY_MODEL_092e5a543b2d43e0b2be484ebf7b77d7",
       "max": 2,
       "step": 0.2,
       "style": "IPY_MODEL_9d0b37076d6449c582585af19d232021",
       "value": 0.6
      }
     },
     "1ffb2b588e2d4a769d1c387e00d0306f": {
      "model_module": "@jupyter-widgets/base",
      "model_module_version": "1.2.0",
      "model_name": "LayoutModel",
      "state": {}
     },
     "207fb5808a88433b8d0bfd075d76a589": {
      "model_module": "@jupyter-widgets/controls",
      "model_module_version": "1.5.0",
      "model_name": "FloatSliderModel",
      "state": {
       "description": "ideal_sigma",
       "layout": "IPY_MODEL_e718c48b3cf94ab591b712afdb5ed391",
       "max": 2,
       "step": 0.2,
       "style": "IPY_MODEL_1f9ce7072e9c4946b6ccd7188b5eca14",
       "value": 0.8
      }
     },
     "20f31d1cd75c40f791eaf15d7400a47a": {
      "model_module": "@jupyter-widgets/controls",
      "model_module_version": "1.5.0",
      "model_name": "DropdownModel",
      "state": {
       "_options_labels": [
        "1",
        "2",
        "3",
        "4",
        "5"
       ],
       "description": "amplitude",
       "index": 2,
       "layout": "IPY_MODEL_f88bcc6fdc444588bb6fceca9bb61016",
       "style": "IPY_MODEL_19834ae8f02941c5a5a80ed466f611e5"
      }
     },
     "21351219bcea4fb8bb2d08d1b00a06c7": {
      "model_module": "@jupyter-widgets/controls",
      "model_module_version": "1.5.0",
      "model_name": "FloatSliderModel",
      "state": {
       "description": "ideal_sigma",
       "layout": "IPY_MODEL_d225e8fdc4e4488894981561ad0fcb6d",
       "max": 2,
       "step": 0.2,
       "style": "IPY_MODEL_b3260fae76e34a80b5523d92d8cca1ac",
       "value": 1
      }
     },
     "22ede8f5685b48d18c12f821d9fbca47": {
      "model_module": "@jupyter-widgets/output",
      "model_module_version": "1.0.0",
      "model_name": "OutputModel",
      "state": {
       "layout": "IPY_MODEL_960422ec34634e1c8f06116fdcbcdb20",
       "outputs": [
        {
         "data": {
          "image/png": "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\n",
          "text/plain": "<Figure size 576x360 with 1 Axes>"
         },
         "metadata": {
          "needs_background": "light"
         },
         "output_type": "display_data"
        }
       ]
      }
     },
     "230cfb758df14ddc976ce8768b5ef520": {
      "model_module": "@jupyter-widgets/controls",
      "model_module_version": "1.5.0",
      "model_name": "SliderStyleModel",
      "state": {
       "description_width": ""
      }
     },
     "230ec4ea1e0849898bc3fcafc4a73468": {
      "model_module": "@jupyter-widgets/base",
      "model_module_version": "1.2.0",
      "model_name": "LayoutModel",
      "state": {}
     },
     "23f969de1b0f4fb5a349ee390a8ba392": {
      "model_module": "@jupyter-widgets/controls",
      "model_module_version": "1.5.0",
      "model_name": "VBoxModel",
      "state": {
       "_dom_classes": [
        "widget-interact"
       ],
       "children": [
        "IPY_MODEL_c34e3e42a6d04f63a1c15ba4e32142f8",
        "IPY_MODEL_aa539a70ef7e41259b31fcbf283dea71",
        "IPY_MODEL_f10ddda1a36b4cd3b285275d61eb2d4e",
        "IPY_MODEL_da0d113d499c4663998f1753aa3d7663",
        "IPY_MODEL_20f31d1cd75c40f791eaf15d7400a47a",
        "IPY_MODEL_8730921a511d4660a8708a7eac4fd9b3"
       ],
       "layout": "IPY_MODEL_47ed1b3bb6d1486ab9aaceb5da3d3d22"
      }
     },
     "24543b6e2e0c44b09d237edfd2fcc464": {
      "model_module": "@jupyter-widgets/base",
      "model_module_version": "1.2.0",
      "model_name": "LayoutModel",
      "state": {}
     },
     "256ba3d39a1f451da25f300501762fa0": {
      "model_module": "@jupyter-widgets/controls",
      "model_module_version": "1.5.0",
      "model_name": "DropdownModel",
      "state": {
       "_options_labels": [
        "1",
        "2",
        "3",
        "4",
        "5"
       ],
       "description": "amplitude",
       "index": 0,
       "layout": "IPY_MODEL_e0d15046a62b455a941f313983ea58d8",
       "style": "IPY_MODEL_a48e67adac8b4e4b92e18279292e0d77"
      }
     },
     "259f81229cba4c789b760d99bf03c752": {
      "model_module": "@jupyter-widgets/controls",
      "model_module_version": "1.5.0",
      "model_name": "SliderStyleModel",
      "state": {
       "description_width": ""
      }
     },
     "25e3a6668a814d949d4cecde09c485fd": {
      "model_module": "@jupyter-widgets/controls",
      "model_module_version": "1.5.0",
      "model_name": "SliderStyleModel",
      "state": {
       "description_width": ""
      }
     },
     "265c8282674c4b6a8a473d0fdb18f4ae": {
      "model_module": "@jupyter-widgets/controls",
      "model_module_version": "1.5.0",
      "model_name": "FloatSliderModel",
      "state": {
       "description": "noise_sd",
       "layout": "IPY_MODEL_64d12c0c9fbe499da1999a70bd30ee1f",
       "max": 1,
       "step": 0.1,
       "style": "IPY_MODEL_d0940be2fedc4a9193d37c6fcf6f9d02",
       "value": 0.6
      }
     },
     "27079b1f348b48bb869ea8958a1c57d9": {
      "model_module": "@jupyter-widgets/base",
      "model_module_version": "1.2.0",
      "model_name": "LayoutModel",
      "state": {}
     },
     "2853509f63804b8d98a51f7e9d24900b": {
      "model_module": "@jupyter-widgets/controls",
      "model_module_version": "1.5.0",
      "model_name": "SliderStyleModel",
      "state": {
       "description_width": ""
      }
     },
     "29338d2d36ef4acf8f1617169bff46d4": {
      "model_module": "@jupyter-widgets/base",
      "model_module_version": "1.2.0",
      "model_name": "LayoutModel",
      "state": {}
     },
     "29ed0b477c364eeab69a4fcb970c43e8": {
      "model_module": "@jupyter-widgets/controls",
      "model_module_version": "1.5.0",
      "model_name": "FloatSliderModel",
      "state": {
       "description": "ideal_sigma",
       "layout": "IPY_MODEL_facc9378e4594b858523bd386fb9dca5",
       "max": 2,
       "step": 0.2,
       "style": "IPY_MODEL_a2bce66189d241b7991007dc6bf0366d",
       "value": 1
      }
     },
     "2a1541a32ba74f2785e1127bc8d47d67": {
      "model_module": "@jupyter-widgets/base",
      "model_module_version": "1.2.0",
      "model_name": "LayoutModel",
      "state": {}
     },
     "2ad1856106bf4316b01947156ed8997c": {
      "model_module": "@jupyter-widgets/base",
      "model_module_version": "1.2.0",
      "model_name": "LayoutModel",
      "state": {}
     },
     "2cfe4658a9164b27820ce5f77edf48ef": {
      "model_module": "@jupyter-widgets/controls",
      "model_module_version": "1.5.0",
      "model_name": "SliderStyleModel",
      "state": {
       "description_width": ""
      }
     },
     "2d11911bba0f427b9469ce9d8632c647": {
      "model_module": "@jupyter-widgets/controls",
      "model_module_version": "1.5.0",
      "model_name": "SliderStyleModel",
      "state": {
       "description_width": ""
      }
     },
     "2e15fa53b729499d83c3c1f4bf041b64": {
      "model_module": "@jupyter-widgets/controls",
      "model_module_version": "1.5.0",
      "model_name": "FloatSliderModel",
      "state": {
       "description": "ideal_sigma",
       "layout": "IPY_MODEL_d516c40e5618404694a8655f4fbde5fc",
       "max": 2,
       "step": 0.2,
       "style": "IPY_MODEL_e03cbd2ef7b34fcc8988e7dfa14cec2c",
       "value": 0.8
      }
     },
     "2e51e4e72c374a4790ad6ca494810816": {
      "model_module": "@jupyter-widgets/base",
      "model_module_version": "1.2.0",
      "model_name": "LayoutModel",
      "state": {}
     },
     "304a7be418df46f6a4cc087443d13083": {
      "model_module": "@jupyter-widgets/base",
      "model_module_version": "1.2.0",
      "model_name": "LayoutModel",
      "state": {}
     },
     "30d1c0e74b6647aca3d0b7cdbf16b21d": {
      "model_module": "@jupyter-widgets/controls",
      "model_module_version": "1.5.0",
      "model_name": "DropdownModel",
      "state": {
       "_options_labels": [
        "1",
        "2",
        "3",
        "4",
        "5"
       ],
       "description": "amplitude",
       "index": 2,
       "layout": "IPY_MODEL_495874dc68ba4efda1e7fc006ae35242",
       "style": "IPY_MODEL_e6b93647b59a450692ea802811152c56"
      }
     },
     "312a090bb5e446079cba2d7fd3a626d4": {
      "model_module": "@jupyter-widgets/controls",
      "model_module_version": "1.5.0",
      "model_name": "SliderStyleModel",
      "state": {
       "description_width": ""
      }
     },
     "3139d3b84114484dbca1ad4ca561797e": {
      "model_module": "@jupyter-widgets/controls",
      "model_module_version": "1.5.0",
      "model_name": "SliderStyleModel",
      "state": {
       "description_width": ""
      }
     },
     "31427aa6accd41b38f7a6d233b92ac30": {
      "model_module": "@jupyter-widgets/controls",
      "model_module_version": "1.5.0",
      "model_name": "DropdownModel",
      "state": {
       "_options_labels": [
        "1",
        "2",
        "3",
        "4",
        "5"
       ],
       "description": "amplitude",
       "index": 4,
       "layout": "IPY_MODEL_0c8e12c06d194cf5aeec5a0d86d2e352",
       "style": "IPY_MODEL_a9d970b9f3f94b558edc69f3deab5338"
      }
     },
     "315ef696117e424f8182e830660a2467": {
      "model_module": "@jupyter-widgets/controls",
      "model_module_version": "1.5.0",
      "model_name": "SliderStyleModel",
      "state": {
       "description_width": ""
      }
     },
     "3225cb72602240ed8613e31fcebc1969": {
      "model_module": "@jupyter-widgets/base",
      "model_module_version": "1.2.0",
      "model_name": "LayoutModel",
      "state": {}
     },
     "322b4823a249490d9e9abbc65e16f7ea": {
      "model_module": "@jupyter-widgets/base",
      "model_module_version": "1.2.0",
      "model_name": "LayoutModel",
      "state": {}
     },
     "33925ae46ea9433aade699277fc25bce": {
      "model_module": "@jupyter-widgets/controls",
      "model_module_version": "1.5.0",
      "model_name": "FloatSliderModel",
      "state": {
       "description": "noise_mean",
       "layout": "IPY_MODEL_6ece95ac72cd4174bd28b759f2be3857",
       "max": 1,
       "min": -1,
       "step": 0.2,
       "style": "IPY_MODEL_f121ab66579143f1882caaeb7266779b"
      }
     },
     "34846cf0466a4f2389f79b8fdbe72f5f": {
      "model_module": "@jupyter-widgets/base",
      "model_module_version": "1.2.0",
      "model_name": "LayoutModel",
      "state": {}
     },
     "35405568af564b89beea419ae8c9498e": {
      "model_module": "@jupyter-widgets/output",
      "model_module_version": "1.0.0",
      "model_name": "OutputModel",
      "state": {
       "layout": "IPY_MODEL_6de5348810c74be3ab1dd4cba3cea725",
       "outputs": [
        {
         "data": {
          "image/png": "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\n",
          "text/plain": "<Figure size 576x360 with 1 Axes>"
         },
         "metadata": {
          "needs_background": "light"
         },
         "output_type": "display_data"
        }
       ]
      }
     },
     "37387c6f414e4b91b13a73cae70a1aa3": {
      "model_module": "@jupyter-widgets/controls",
      "model_module_version": "1.5.0",
      "model_name": "FloatSliderModel",
      "state": {
       "description": "ideal_sigma",
       "layout": "IPY_MODEL_6f108d794f884a43a7ad7e5064fbcb04",
       "max": 2,
       "step": 0.2,
       "style": "IPY_MODEL_86cda4e015d844438541b59d8ac8f526",
       "value": 0.8
      }
     },
     "37444cf678364fabb231369e525e2443": {
      "model_module": "@jupyter-widgets/controls",
      "model_module_version": "1.5.0",
      "model_name": "FloatSliderModel",
      "state": {
       "description": "noise_mean",
       "layout": "IPY_MODEL_73b2b5e487a6407792f29565e7105b45",
       "max": 1,
       "min": -1,
       "step": 0.1,
       "style": "IPY_MODEL_f7d8f622231e49c7a099509e4792cb8f",
       "value": 0.2
      }
     },
     "39351978be474c67890ef6ac7f90d598": {
      "model_module": "@jupyter-widgets/controls",
      "model_module_version": "1.5.0",
      "model_name": "FloatSliderModel",
      "state": {
       "description": "noise_sd",
       "layout": "IPY_MODEL_189e9dbcff274491ad5349795b30685b",
       "max": 1,
       "step": 0.1,
       "style": "IPY_MODEL_e6783faee2a84875ad624633574a99cc",
       "value": 0.6
      }
     },
     "398ce02f27ad42fbb2816b2564d5269c": {
      "model_module": "@jupyter-widgets/controls",
      "model_module_version": "1.5.0",
      "model_name": "SliderStyleModel",
      "state": {
       "description_width": ""
      }
     },
     "3a51532822504da4bd20085066f58f01": {
      "model_module": "@jupyter-widgets/base",
      "model_module_version": "1.2.0",
      "model_name": "LayoutModel",
      "state": {}
     },
     "3a636075cfb84abe9cf6542b1cd352af": {
      "model_module": "@jupyter-widgets/controls",
      "model_module_version": "1.5.0",
      "model_name": "SliderStyleModel",
      "state": {
       "description_width": ""
      }
     },
     "3b87a071f80e430f9955ea79029be6c7": {
      "model_module": "@jupyter-widgets/base",
      "model_module_version": "1.2.0",
      "model_name": "LayoutModel",
      "state": {}
     },
     "3cf0d46ede344e90bd1c6bad853802ac": {
      "model_module": "@jupyter-widgets/controls",
      "model_module_version": "1.5.0",
      "model_name": "SliderStyleModel",
      "state": {
       "description_width": ""
      }
     },
     "3d5a3603294c454f8dbb69818325253f": {
      "model_module": "@jupyter-widgets/base",
      "model_module_version": "1.2.0",
      "model_name": "LayoutModel",
      "state": {}
     },
     "3e70b3c3f14a429d865687bc04eca397": {
      "model_module": "@jupyter-widgets/base",
      "model_module_version": "1.2.0",
      "model_name": "LayoutModel",
      "state": {}
     },
     "401c65556e904796b82695bdd3f85983": {
      "model_module": "@jupyter-widgets/base",
      "model_module_version": "1.2.0",
      "model_name": "LayoutModel",
      "state": {}
     },
     "40b086c6c3f144999974acbe5c26ff34": {
      "model_module": "@jupyter-widgets/base",
      "model_module_version": "1.2.0",
      "model_name": "LayoutModel",
      "state": {}
     },
     "40d776c1f81c49ba8a8118e0ac7bb90b": {
      "model_module": "@jupyter-widgets/base",
      "model_module_version": "1.2.0",
      "model_name": "LayoutModel",
      "state": {}
     },
     "42c6d702faef4fe7a078e73958b11226": {
      "model_module": "@jupyter-widgets/output",
      "model_module_version": "1.0.0",
      "model_name": "OutputModel",
      "state": {
       "layout": "IPY_MODEL_d023ba9f570e47e8a6deadfcd34705cd",
       "outputs": [
        {
         "data": {
          "image/png": "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\n",
          "text/plain": "<Figure size 576x360 with 1 Axes>"
         },
         "metadata": {
          "needs_background": "light"
         },
         "output_type": "display_data"
        }
       ]
      }
     },
     "432f44b15c2a4bbb868ca94d357a2c90": {
      "model_module": "@jupyter-widgets/base",
      "model_module_version": "1.2.0",
      "model_name": "LayoutModel",
      "state": {}
     },
     "445f5f2f08534cb093890667df219ca2": {
      "model_module": "@jupyter-widgets/base",
      "model_module_version": "1.2.0",
      "model_name": "LayoutModel",
      "state": {}
     },
     "44ab4b9e51bd4f1ab2fbfb5dce90b479": {
      "model_module": "@jupyter-widgets/controls",
      "model_module_version": "1.5.0",
      "model_name": "SliderStyleModel",
      "state": {
       "description_width": ""
      }
     },
     "44d8541f55d9475e8285182a20ee5814": {
      "model_module": "@jupyter-widgets/base",
      "model_module_version": "1.2.0",
      "model_name": "LayoutModel",
      "state": {}
     },
     "45981d14333e4e958b6eb44e34d9e6f2": {
      "model_module": "@jupyter-widgets/base",
      "model_module_version": "1.2.0",
      "model_name": "LayoutModel",
      "state": {}
     },
     "45e35eb2f5f24ecaac860268eebe1b9a": {
      "model_module": "@jupyter-widgets/controls",
      "model_module_version": "1.5.0",
      "model_name": "DescriptionStyleModel",
      "state": {
       "description_width": ""
      }
     },
     "464ab1e5e9df44249b165065d3ec4103": {
      "model_module": "@jupyter-widgets/controls",
      "model_module_version": "1.5.0",
      "model_name": "DropdownModel",
      "state": {
       "_options_labels": [
        "1",
        "2",
        "3",
        "4",
        "5"
       ],
       "description": "amplitude",
       "index": 2,
       "layout": "IPY_MODEL_44d8541f55d9475e8285182a20ee5814",
       "style": "IPY_MODEL_1466eccf56d54c5d8da0808f3f0a32e0"
      }
     },
     "46a0a35292284032ab76e1eb2c5a6641": {
      "model_module": "@jupyter-widgets/controls",
      "model_module_version": "1.5.0",
      "model_name": "DropdownModel",
      "state": {
       "_options_labels": [
        "1",
        "2",
        "3",
        "4",
        "5"
       ],
       "description": "amplitude",
       "index": 2,
       "layout": "IPY_MODEL_a97537ad244e48fba990a926b2b09db6",
       "style": "IPY_MODEL_9272e5effeb341258d675de803ce2493"
      }
     },
     "46c3d242182645ca9a2eafb070395256": {
      "model_module": "@jupyter-widgets/controls",
      "model_module_version": "1.5.0",
      "model_name": "FloatSliderModel",
      "state": {
       "description": "ideal_mu",
       "layout": "IPY_MODEL_3225cb72602240ed8613e31fcebc1969",
       "max": 5,
       "min": -5,
       "step": 0.5,
       "style": "IPY_MODEL_315ef696117e424f8182e830660a2467"
      }
     },
     "47bd7cd8c8fd432d8d4a329d2c898918": {
      "model_module": "@jupyter-widgets/controls",
      "model_module_version": "1.5.0",
      "model_name": "DescriptionStyleModel",
      "state": {
       "description_width": ""
      }
     },
     "47ed1b3bb6d1486ab9aaceb5da3d3d22": {
      "model_module": "@jupyter-widgets/base",
      "model_module_version": "1.2.0",
      "model_name": "LayoutModel",
      "state": {}
     },
     "47fd0fea5a684ef49ffc961d06eb4ac4": {
      "model_module": "@jupyter-widgets/controls",
      "model_module_version": "1.5.0",
      "model_name": "VBoxModel",
      "state": {
       "_dom_classes": [
        "widget-interact"
       ],
       "children": [
        "IPY_MODEL_ae5f151fa5dd475ca8c56f7ed6f1f751",
        "IPY_MODEL_30d1c0e74b6647aca3d0b7cdbf16b21d",
        "IPY_MODEL_a6605d1287f942478c1fc958377aa340",
        "IPY_MODEL_99ead28cab2145d3a4ddf43fd4781d65",
        "IPY_MODEL_b0cc87dd13344b8786c69f7620b19220",
        "IPY_MODEL_f5db8953402d45b38a8764a8510eeb62"
       ],
       "layout": "IPY_MODEL_8b2b146f78c748b7aebd0d029ec00454"
      }
     },
     "48158ce33d8e47a2848c5ab9e010248f": {
      "model_module": "@jupyter-widgets/controls",
      "model_module_version": "1.5.0",
      "model_name": "FloatSliderModel",
      "state": {
       "description": "noise_mean",
       "layout": "IPY_MODEL_005f03830a9a47f7a1144a4f5eba3baa",
       "max": 1,
       "min": -1,
       "step": 0.2,
       "style": "IPY_MODEL_ccaa096214d5433ea5a3626b3863e10e"
      }
     },
     "495874dc68ba4efda1e7fc006ae35242": {
      "model_module": "@jupyter-widgets/base",
      "model_module_version": "1.2.0",
      "model_name": "LayoutModel",
      "state": {}
     },
     "4963e1a5673e4676ad055ffec08ec8dc": {
      "model_module": "@jupyter-widgets/base",
      "model_module_version": "1.2.0",
      "model_name": "LayoutModel",
      "state": {}
     },
     "49d8460358684d2f80a2d11a034cbe80": {
      "model_module": "@jupyter-widgets/base",
      "model_module_version": "1.2.0",
      "model_name": "LayoutModel",
      "state": {}
     },
     "49ffb4159b004a7da8df0366718317cb": {
      "model_module": "@jupyter-widgets/controls",
      "model_module_version": "1.5.0",
      "model_name": "FloatSliderModel",
      "state": {
       "description": "noise_sd",
       "layout": "IPY_MODEL_b9b3a982f1654cfb89f009b84f7f5efe",
       "max": 1,
       "step": 0.1,
       "style": "IPY_MODEL_b6a98197632a4bb2a34045d27c6f04dc",
       "value": 0.5
      }
     },
     "4b41525db8b14c06951d8892362d5bcc": {
      "model_module": "@jupyter-widgets/base",
      "model_module_version": "1.2.0",
      "model_name": "LayoutModel",
      "state": {}
     },
     "4bfe122ca1a54c93b5a2eea779f54f0c": {
      "model_module": "@jupyter-widgets/controls",
      "model_module_version": "1.5.0",
      "model_name": "SliderStyleModel",
      "state": {
       "description_width": ""
      }
     },
     "4ca920c07013471fa9493d2d405f16d3": {
      "model_module": "@jupyter-widgets/base",
      "model_module_version": "1.2.0",
      "model_name": "LayoutModel",
      "state": {}
     },
     "4cdd07d345ca403cb8c077e1fcefe7e3": {
      "model_module": "@jupyter-widgets/controls",
      "model_module_version": "1.5.0",
      "model_name": "FloatSliderModel",
      "state": {
       "description": "noise_mean",
       "layout": "IPY_MODEL_09f71a6d87424083af7b0f23cd261d08",
       "max": 1,
       "min": -1,
       "step": 0.2,
       "style": "IPY_MODEL_daa415dc168c4a8e874631f4ee8e8cc0",
       "value": 0.4
      }
     },
     "4db57953fd4b4200b71c09ed96812823": {
      "model_module": "@jupyter-widgets/controls",
      "model_module_version": "1.5.0",
      "model_name": "DropdownModel",
      "state": {
       "_options_labels": [
        "1",
        "2",
        "3",
        "4",
        "5"
       ],
       "description": "amplitude",
       "index": 2,
       "layout": "IPY_MODEL_bbf961c0253a415ab37edc2206ca9622",
       "style": "IPY_MODEL_8055f54451554a1c99b852b3434d7cc9"
      }
     },
     "4f0e89a51bf14ec5aa429828629f9a41": {
      "model_module": "@jupyter-widgets/controls",
      "model_module_version": "1.5.0",
      "model_name": "FloatSliderModel",
      "state": {
       "description": "noise_sd",
       "layout": "IPY_MODEL_6881bab858c34ce68ee3667cff8249c5",
       "max": 1,
       "step": 0.1,
       "style": "IPY_MODEL_e97d790fb0684de3b72e63006a22a5b3",
       "value": 0.75
      }
     },
     "4f1d9b6e6446465bb80235e303093d9d": {
      "model_module": "@jupyter-widgets/base",
      "model_module_version": "1.2.0",
      "model_name": "LayoutModel",
      "state": {}
     },
     "5039548bc0224d01a00ac0a47c23ba47": {
      "model_module": "@jupyter-widgets/base",
      "model_module_version": "1.2.0",
      "model_name": "LayoutModel",
      "state": {}
     },
     "50d248459b3b4e58964f38ae011eba26": {
      "model_module": "@jupyter-widgets/base",
      "model_module_version": "1.2.0",
      "model_name": "LayoutModel",
      "state": {}
     },
     "51e86b8dcfa44f80a5e578b76643e2c7": {
      "model_module": "@jupyter-widgets/base",
      "model_module_version": "1.2.0",
      "model_name": "LayoutModel",
      "state": {}
     },
     "521da190bf4c49218ab2c94b2c39c3e8": {
      "model_module": "@jupyter-widgets/base",
      "model_module_version": "1.2.0",
      "model_name": "LayoutModel",
      "state": {}
     },
     "5222b33134aa4902af536367dd03ff8e": {
      "model_module": "@jupyter-widgets/base",
      "model_module_version": "1.2.0",
      "model_name": "LayoutModel",
      "state": {}
     },
     "522a5cb599fd4f8a8d35e21ea8ae1295": {
      "model_module": "@jupyter-widgets/controls",
      "model_module_version": "1.5.0",
      "model_name": "DescriptionStyleModel",
      "state": {
       "description_width": ""
      }
     },
     "52c16d239f724f2fb9773c7828987b34": {
      "model_module": "@jupyter-widgets/controls",
      "model_module_version": "1.5.0",
      "model_name": "FloatSliderModel",
      "state": {
       "description": "noise_sd",
       "layout": "IPY_MODEL_7ab22ad566fa41ed95e93c66f22fff48",
       "max": 1,
       "step": 0.1,
       "style": "IPY_MODEL_90920666d8e94c6a8f6b47fdf6c27bf7",
       "value": 0.6
      }
     },
     "52e50f82be434d76bbdf05d0f8d42b9c": {
      "model_module": "@jupyter-widgets/controls",
      "model_module_version": "1.5.0",
      "model_name": "VBoxModel",
      "state": {
       "_dom_classes": [
        "widget-interact"
       ],
       "children": [
        "IPY_MODEL_46c3d242182645ca9a2eafb070395256",
        "IPY_MODEL_29ed0b477c364eeab69a4fcb970c43e8",
        "IPY_MODEL_0e706f510225439e9845faa26e2440db",
        "IPY_MODEL_76b61ba6b70446759b11229e0e10afeb",
        "IPY_MODEL_7c51fe8006ff4f3386567f4afd554f9d",
        "IPY_MODEL_35405568af564b89beea419ae8c9498e"
       ],
       "layout": "IPY_MODEL_5039548bc0224d01a00ac0a47c23ba47"
      }
     },
     "532fe3a4099647b7859037498e8deae2": {
      "model_module": "@jupyter-widgets/controls",
      "model_module_version": "1.5.0",
      "model_name": "DescriptionStyleModel",
      "state": {
       "description_width": ""
      }
     },
     "5498976ff197497baa570c67501761f8": {
      "model_module": "@jupyter-widgets/controls",
      "model_module_version": "1.5.0",
      "model_name": "SliderStyleModel",
      "state": {
       "description_width": ""
      }
     },
     "55b31ac5f10f4e3e847cd5ebaa0e26d0": {
      "model_module": "@jupyter-widgets/controls",
      "model_module_version": "1.5.0",
      "model_name": "FloatSliderModel",
      "state": {
       "description": "ideal_sigma",
       "layout": "IPY_MODEL_d5a3ffa4b59244808d5ef23aa473b3b4",
       "max": 2,
       "step": 0.2,
       "style": "IPY_MODEL_6f45d0410466450faa6844ca750b6ff3",
       "value": 0.8
      }
     },
     "5618022958d947958b56fb5b9dd83f47": {
      "model_module": "@jupyter-widgets/controls",
      "model_module_version": "1.5.0",
      "model_name": "FloatSliderModel",
      "state": {
       "description": "noise_sd",
       "layout": "IPY_MODEL_d08e3b4933bd41c993e4a149570ccbdf",
       "max": 1,
       "step": 0.1,
       "style": "IPY_MODEL_067a1e87c4a64363bab43c2dc7c881d3",
       "value": 0.6
      }
     },
     "580774fdfbd343d2ab294f922a286b38": {
      "model_module": "@jupyter-widgets/controls",
      "model_module_version": "1.5.0",
      "model_name": "DropdownModel",
      "state": {
       "_options_labels": [
        "1",
        "2",
        "3",
        "4",
        "5"
       ],
       "description": "amplitude",
       "index": 2,
       "layout": "IPY_MODEL_fa3e5bec8b48451bbb552f22c9f94794",
       "style": "IPY_MODEL_abbf0aa6645c422ab04666f4edaf1256"
      }
     },
     "58651254b8a346c99ee4530bee1458c3": {
      "model_module": "@jupyter-widgets/base",
      "model_module_version": "1.2.0",
      "model_name": "LayoutModel",
      "state": {}
     },
     "587b898797514addab7dd54019c4e356": {
      "model_module": "@jupyter-widgets/controls",
      "model_module_version": "1.5.0",
      "model_name": "SliderStyleModel",
      "state": {
       "description_width": ""
      }
     },
     "5950c9b52bf34cefb41a2a3ce0135fba": {
      "model_module": "@jupyter-widgets/base",
      "model_module_version": "1.2.0",
      "model_name": "LayoutModel",
      "state": {}
     },
     "5956981054684b4ca0bde497db00b129": {
      "model_module": "@jupyter-widgets/output",
      "model_module_version": "1.0.0",
      "model_name": "OutputModel",
      "state": {
       "layout": "IPY_MODEL_9ad18ecd9a624014b88c318fca61ec1e",
       "outputs": [
        {
         "data": {
          "image/png": "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\n",
          "text/plain": "<Figure size 576x360 with 1 Axes>"
         },
         "metadata": {
          "needs_background": "light"
         },
         "output_type": "display_data"
        }
       ]
      }
     },
     "59c388945a9c4b5690619891085bdbd9": {
      "model_module": "@jupyter-widgets/output",
      "model_module_version": "1.0.0",
      "model_name": "OutputModel",
      "state": {
       "layout": "IPY_MODEL_0766f453b3e342b09f8a6c011d146e46",
       "outputs": [
        {
         "data": {
          "image/png": "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\n",
          "text/plain": "<Figure size 576x360 with 1 Axes>"
         },
         "metadata": {
          "needs_background": "light"
         },
         "output_type": "display_data"
        }
       ]
      }
     },
     "59c98dbd280d4744a8ecec92b6612348": {
      "model_module": "@jupyter-widgets/base",
      "model_module_version": "1.2.0",
      "model_name": "LayoutModel",
      "state": {}
     },
     "5a229b90c0404f3a81e18902448503af": {
      "model_module": "@jupyter-widgets/controls",
      "model_module_version": "1.5.0",
      "model_name": "SliderStyleModel",
      "state": {
       "description_width": ""
      }
     },
     "5b09661343f7417a96df4cba850096e9": {
      "model_module": "@jupyter-widgets/controls",
      "model_module_version": "1.5.0",
      "model_name": "VBoxModel",
      "state": {
       "_dom_classes": [
        "widget-interact"
       ],
       "children": [
        "IPY_MODEL_f142a95bb31d43cd994812fc5149932b",
        "IPY_MODEL_648292db873241beb737796875307ca3",
        "IPY_MODEL_c15ec1f5004742e1b3d00ef96f85139d",
        "IPY_MODEL_ea1d3d09f633446db31b8207d5de8680",
        "IPY_MODEL_5e44c4b85f8b4abb9bb2d52a14e952d0",
        "IPY_MODEL_22ede8f5685b48d18c12f821d9fbca47"
       ],
       "layout": "IPY_MODEL_03527e10014140609d6eb347c329c536"
      }
     },
     "5c6f15f26c2849a9a2df65b566ccb578": {
      "model_module": "@jupyter-widgets/base",
      "model_module_version": "1.2.0",
      "model_name": "LayoutModel",
      "state": {}
     },
     "5d70809835fc43839468de8b161dcd9a": {
      "model_module": "@jupyter-widgets/controls",
      "model_module_version": "1.5.0",
      "model_name": "SliderStyleModel",
      "state": {
       "description_width": ""
      }
     },
     "5d740106f592436889a997843622466d": {
      "model_module": "@jupyter-widgets/controls",
      "model_module_version": "1.5.0",
      "model_name": "SliderStyleModel",
      "state": {
       "description_width": ""
      }
     },
     "5e44c4b85f8b4abb9bb2d52a14e952d0": {
      "model_module": "@jupyter-widgets/controls",
      "model_module_version": "1.5.0",
      "model_name": "FloatSliderModel",
      "state": {
       "description": "noise_mean",
       "layout": "IPY_MODEL_40d776c1f81c49ba8a8118e0ac7bb90b",
       "max": 1,
       "min": -1,
       "step": 0.2,
       "style": "IPY_MODEL_e94c8c2a599142ceb9f56d569b28b2d2",
       "value": 0.1
      }
     },
     "60a710674a8c46909f1fdc1ec799f1b9": {
      "model_module": "@jupyter-widgets/output",
      "model_module_version": "1.0.0",
      "model_name": "OutputModel",
      "state": {
       "layout": "IPY_MODEL_27079b1f348b48bb869ea8958a1c57d9",
       "outputs": [
        {
         "data": {
          "image/png": "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\n",
          "text/plain": "<Figure size 576x360 with 1 Axes>"
         },
         "metadata": {
          "needs_background": "light"
         },
         "output_type": "display_data"
        }
       ]
      }
     },
     "60b61eb769f74f3a8ec64ff3fd665ac3": {
      "model_module": "@jupyter-widgets/controls",
      "model_module_version": "1.5.0",
      "model_name": "FloatSliderModel",
      "state": {
       "description": "ideal_mu",
       "layout": "IPY_MODEL_cea5e8b713524ed7917f05d32a7f12ca",
       "max": 5,
       "min": -5,
       "step": 0.5,
       "style": "IPY_MODEL_eada2721ba374026a44a06a3c7628b4e"
      }
     },
     "626ff010794d463d8ee6428414724743": {
      "model_module": "@jupyter-widgets/controls",
      "model_module_version": "1.5.0",
      "model_name": "SliderStyleModel",
      "state": {
       "description_width": ""
      }
     },
     "62a1483894824fca9151b7d3b1863c2f": {
      "model_module": "@jupyter-widgets/controls",
      "model_module_version": "1.5.0",
      "model_name": "FloatSliderModel",
      "state": {
       "description": "noise_sd",
       "layout": "IPY_MODEL_2a1541a32ba74f2785e1127bc8d47d67",
       "max": 1,
       "step": 0.1,
       "style": "IPY_MODEL_5d70809835fc43839468de8b161dcd9a",
       "value": 0.6
      }
     },
     "62a2bc64ca1b4cd1bc33b48fcbd1c5ad": {
      "model_module": "@jupyter-widgets/controls",
      "model_module_version": "1.5.0",
      "model_name": "FloatSliderModel",
      "state": {
       "description": "ideal_mu",
       "layout": "IPY_MODEL_892ab5832ccf4dfdb6d85db661f922a1",
       "max": 5,
       "min": -5,
       "step": 0.5,
       "style": "IPY_MODEL_a716adb2a3044a609c69f76d093e6619"
      }
     },
     "63f082dbb0eb4eac843b31718ff0ba27": {
      "model_module": "@jupyter-widgets/controls",
      "model_module_version": "1.5.0",
      "model_name": "SliderStyleModel",
      "state": {
       "description_width": ""
      }
     },
     "644723695607439798cd28452cc31560": {
      "model_module": "@jupyter-widgets/controls",
      "model_module_version": "1.5.0",
      "model_name": "SliderStyleModel",
      "state": {
       "description_width": ""
      }
     },
     "648292db873241beb737796875307ca3": {
      "model_module": "@jupyter-widgets/controls",
      "model_module_version": "1.5.0",
      "model_name": "DropdownModel",
      "state": {
       "_options_labels": [
        "1",
        "2",
        "3",
        "4",
        "5"
       ],
       "description": "amplitude",
       "index": 2,
       "layout": "IPY_MODEL_45981d14333e4e958b6eb44e34d9e6f2",
       "style": "IPY_MODEL_6c1e6f84770047d9b67e2b5763ae3ffb"
      }
     },
     "64d12c0c9fbe499da1999a70bd30ee1f": {
      "model_module": "@jupyter-widgets/base",
      "model_module_version": "1.2.0",
      "model_name": "LayoutModel",
      "state": {}
     },
     "6560596ca4e443d1af00416dfa557d5e": {
      "model_module": "@jupyter-widgets/controls",
      "model_module_version": "1.5.0",
      "model_name": "SliderStyleModel",
      "state": {
       "description_width": ""
      }
     },
     "6585e22e18514c13af7046b7a7b764f9": {
      "model_module": "@jupyter-widgets/controls",
      "model_module_version": "1.5.0",
      "model_name": "SliderStyleModel",
      "state": {
       "description_width": ""
      }
     },
     "65a3fde6c4d743bb825039016b77b504": {
      "model_module": "@jupyter-widgets/controls",
      "model_module_version": "1.5.0",
      "model_name": "SliderStyleModel",
      "state": {
       "description_width": ""
      }
     },
     "6635689411994df9bcc2e26cfb1c1683": {
      "model_module": "@jupyter-widgets/controls",
      "model_module_version": "1.5.0",
      "model_name": "SliderStyleModel",
      "state": {
       "description_width": ""
      }
     },
     "664941afb4b94b6ab0e233308632a296": {
      "model_module": "@jupyter-widgets/base",
      "model_module_version": "1.2.0",
      "model_name": "LayoutModel",
      "state": {}
     },
     "668c9638126143dfbabdddff7df3ff15": {
      "model_module": "@jupyter-widgets/base",
      "model_module_version": "1.2.0",
      "model_name": "LayoutModel",
      "state": {}
     },
     "67d5a5751eac43c3b5055ea3634eb3d1": {
      "model_module": "@jupyter-widgets/base",
      "model_module_version": "1.2.0",
      "model_name": "LayoutModel",
      "state": {}
     },
     "685cf79c7a3f4bb4a02531c3d5af63d6": {
      "model_module": "@jupyter-widgets/controls",
      "model_module_version": "1.5.0",
      "model_name": "FloatSliderModel",
      "state": {
       "description": "noise_sd",
       "layout": "IPY_MODEL_49d8460358684d2f80a2d11a034cbe80",
       "max": 1,
       "step": 0.1,
       "style": "IPY_MODEL_1c08f1ef62274e0b8871e8d67fb1f040",
       "value": 0.5
      }
     },
     "6881bab858c34ce68ee3667cff8249c5": {
      "model_module": "@jupyter-widgets/base",
      "model_module_version": "1.2.0",
      "model_name": "LayoutModel",
      "state": {}
     },
     "68ba881932364e1b83b6c849fbfa4f5c": {
      "model_module": "@jupyter-widgets/base",
      "model_module_version": "1.2.0",
      "model_name": "LayoutModel",
      "state": {}
     },
     "6987aa50f61b4c068e0322468811b97f": {
      "model_module": "@jupyter-widgets/controls",
      "model_module_version": "1.5.0",
      "model_name": "DropdownModel",
      "state": {
       "_options_labels": [
        "1",
        "2",
        "3",
        "4",
        "5"
       ],
       "description": "amplitude",
       "index": 2,
       "layout": "IPY_MODEL_ea9489e98f224e8c8a03437ccd590c17",
       "style": "IPY_MODEL_e9bb2beaac8e402a918499b6e2248d16"
      }
     },
     "6bb795ba5d494e858673d3ed63abb787": {
      "model_module": "@jupyter-widgets/controls",
      "model_module_version": "1.5.0",
      "model_name": "FloatSliderModel",
      "state": {
       "description": "noise_mean",
       "layout": "IPY_MODEL_172b3f13f3dd429c9bb9f20f7d7450d6",
       "max": 1,
       "min": -1,
       "step": 0.2,
       "style": "IPY_MODEL_587b898797514addab7dd54019c4e356",
       "value": 0.1
      }
     },
     "6c1e6f84770047d9b67e2b5763ae3ffb": {
      "model_module": "@jupyter-widgets/controls",
      "model_module_version": "1.5.0",
      "model_name": "DescriptionStyleModel",
      "state": {
       "description_width": ""
      }
     },
     "6c58a9bddf69414a888b54079217b821": {
      "model_module": "@jupyter-widgets/controls",
      "model_module_version": "1.5.0",
      "model_name": "VBoxModel",
      "state": {
       "_dom_classes": [
        "widget-interact"
       ],
       "children": [
        "IPY_MODEL_ab9e4fee8293468a8ee94443cda7f7a7",
        "IPY_MODEL_6987aa50f61b4c068e0322468811b97f",
        "IPY_MODEL_207fb5808a88433b8d0bfd075d76a589",
        "IPY_MODEL_52c16d239f724f2fb9773c7828987b34",
        "IPY_MODEL_93bb2c94f05548aaac0c01fe10cbdf1a",
        "IPY_MODEL_afb655f5c5ee4624a4b9e68364fd3a7c"
       ],
       "layout": "IPY_MODEL_153fda5cfa28470186510a43af42e446"
      }
     },
     "6de5348810c74be3ab1dd4cba3cea725": {
      "model_module": "@jupyter-widgets/base",
      "model_module_version": "1.2.0",
      "model_name": "LayoutModel",
      "state": {}
     },
     "6e6543b044404fbf88d7cf2af86a3eeb": {
      "model_module": "@jupyter-widgets/controls",
      "model_module_version": "1.5.0",
      "model_name": "FloatSliderModel",
      "state": {
       "description": "ideal_mu",
       "layout": "IPY_MODEL_be0b03abd99248e19c3ced6689cceb16",
       "max": 5,
       "min": -5,
       "step": 0.5,
       "style": "IPY_MODEL_8e716cf1fce04acaa9f06c71c4246cda"
      }
     },
     "6ec7d649e7f4469183d1d12a6afba5fe": {
      "model_module": "@jupyter-widgets/controls",
      "model_module_version": "1.5.0",
      "model_name": "SliderStyleModel",
      "state": {
       "description_width": ""
      }
     },
     "6ece95ac72cd4174bd28b759f2be3857": {
      "model_module": "@jupyter-widgets/base",
      "model_module_version": "1.2.0",
      "model_name": "LayoutModel",
      "state": {}
     },
     "6ef40152a2f546589b6e4d57a369f61e": {
      "model_module": "@jupyter-widgets/base",
      "model_module_version": "1.2.0",
      "model_name": "LayoutModel",
      "state": {}
     },
     "6f108d794f884a43a7ad7e5064fbcb04": {
      "model_module": "@jupyter-widgets/base",
      "model_module_version": "1.2.0",
      "model_name": "LayoutModel",
      "state": {}
     },
     "6f45d0410466450faa6844ca750b6ff3": {
      "model_module": "@jupyter-widgets/controls",
      "model_module_version": "1.5.0",
      "model_name": "SliderStyleModel",
      "state": {
       "description_width": ""
      }
     },
     "709ce7faa68643619b191ec91834b2f4": {
      "model_module": "@jupyter-widgets/controls",
      "model_module_version": "1.5.0",
      "model_name": "SliderStyleModel",
      "state": {
       "description_width": ""
      }
     },
     "7111d830c2ac4043a6bd722e4f180a5a": {
      "model_module": "@jupyter-widgets/base",
      "model_module_version": "1.2.0",
      "model_name": "LayoutModel",
      "state": {}
     },
     "7137a8fa5a8746a8ae82c72625aa6678": {
      "model_module": "@jupyter-widgets/base",
      "model_module_version": "1.2.0",
      "model_name": "LayoutModel",
      "state": {}
     },
     "73b2b5e487a6407792f29565e7105b45": {
      "model_module": "@jupyter-widgets/base",
      "model_module_version": "1.2.0",
      "model_name": "LayoutModel",
      "state": {}
     },
     "73caacea62454778b56bc37fa326290d": {
      "model_module": "@jupyter-widgets/controls",
      "model_module_version": "1.5.0",
      "model_name": "FloatSliderModel",
      "state": {
       "description": "ideal_sigma",
       "layout": "IPY_MODEL_8c4c2df3d70c484d9b00476c52f5fee9",
       "max": 2,
       "step": 0.2,
       "style": "IPY_MODEL_7fdbd8dc2f6446f68314a9ebc3957c57",
       "value": 1
      }
     },
     "7411b60f32d24ad99002351a4cc91081": {
      "model_module": "@jupyter-widgets/controls",
      "model_module_version": "1.5.0",
      "model_name": "DescriptionStyleModel",
      "state": {
       "description_width": ""
      }
     },
     "7573132ff56a4e6e9add63fb7feeeb45": {
      "model_module": "@jupyter-widgets/controls",
      "model_module_version": "1.5.0",
      "model_name": "DropdownModel",
      "state": {
       "_options_labels": [
        "1",
        "2",
        "3",
        "4",
        "5"
       ],
       "description": "amplitude",
       "index": 2,
       "layout": "IPY_MODEL_feb7eabc479c47dc87ab9af5dc595307",
       "style": "IPY_MODEL_a04e912356e3408ea03041d04ddc9d15"
      }
     },
     "76b61ba6b70446759b11229e0e10afeb": {
      "model_module": "@jupyter-widgets/controls",
      "model_module_version": "1.5.0",
      "model_name": "DropdownModel",
      "state": {
       "_options_labels": [
        "1",
        "2",
        "3",
        "4",
        "5"
       ],
       "description": "amplitude",
       "index": 2,
       "layout": "IPY_MODEL_07081de37ae045e4b4516446718a51ab",
       "style": "IPY_MODEL_522a5cb599fd4f8a8d35e21ea8ae1295"
      }
     },
     "7769a2bb8d8a400ba8117d05f1b3be1c": {
      "model_module": "@jupyter-widgets/controls",
      "model_module_version": "1.5.0",
      "model_name": "VBoxModel",
      "state": {
       "_dom_classes": [
        "widget-interact"
       ],
       "children": [
        "IPY_MODEL_a8cbcaa21dfb4c8ab9dd4e1c3ec8eeea",
        "IPY_MODEL_ddcf5865d4fd45c2a36eb72e949a3729",
        "IPY_MODEL_21351219bcea4fb8bb2d08d1b00a06c7",
        "IPY_MODEL_a8588a2c90e44b86b31bb82df1554a00",
        "IPY_MODEL_7af50d5fb3f942f2ad7f5332ed422e23",
        "IPY_MODEL_f08628219e7c4a3bbc900a26b0cd77fd"
       ],
       "layout": "IPY_MODEL_c605402ffb3a412db7f6091f55c6137a"
      }
     },
     "780ae344c55d47de80222b748ee00b0f": {
      "model_module": "@jupyter-widgets/base",
      "model_module_version": "1.2.0",
      "model_name": "LayoutModel",
      "state": {}
     },
     "78d9e8e0b7aa4cf1b0ba92b1ac268785": {
      "model_module": "@jupyter-widgets/controls",
      "model_module_version": "1.5.0",
      "model_name": "DescriptionStyleModel",
      "state": {
       "description_width": ""
      }
     },
     "7903fe8c0b71486e99b50025b71e349f": {
      "model_module": "@jupyter-widgets/base",
      "model_module_version": "1.2.0",
      "model_name": "LayoutModel",
      "state": {}
     },
     "7ab22ad566fa41ed95e93c66f22fff48": {
      "model_module": "@jupyter-widgets/base",
      "model_module_version": "1.2.0",
      "model_name": "LayoutModel",
      "state": {}
     },
     "7adf3a115a11430c93e664237f8aa0fd": {
      "model_module": "@jupyter-widgets/controls",
      "model_module_version": "1.5.0",
      "model_name": "SliderStyleModel",
      "state": {
       "description_width": ""
      }
     },
     "7ae08cfefe804d3794fd50408aa8fcca": {
      "model_module": "@jupyter-widgets/controls",
      "model_module_version": "1.5.0",
      "model_name": "FloatSliderModel",
      "state": {
       "description": "noise_sd",
       "layout": "IPY_MODEL_85d63cdbe5ea470ba6dd2574ae40a254",
       "max": 1,
       "step": 0.1,
       "style": "IPY_MODEL_259f81229cba4c789b760d99bf03c752"
      }
     },
     "7af50d5fb3f942f2ad7f5332ed422e23": {
      "model_module": "@jupyter-widgets/controls",
      "model_module_version": "1.5.0",
      "model_name": "FloatSliderModel",
      "state": {
       "description": "noise_mean",
       "layout": "IPY_MODEL_867394b9a0eb4b5f880e9c467702f0dc",
       "max": 1,
       "min": -1,
       "step": 0.2,
       "style": "IPY_MODEL_84c7e2eefb774d8aad481b2b482d6d7d"
      }
     },
     "7b0bd36bf3d84d2ca1d28c75795102ca": {
      "model_module": "@jupyter-widgets/output",
      "model_module_version": "1.0.0",
      "model_name": "OutputModel",
      "state": {
       "layout": "IPY_MODEL_a6363d3e07e148cf98f99126fbf0c2b2",
       "outputs": [
        {
         "data": {
          "image/png": "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\n",
          "text/plain": "<Figure size 576x360 with 1 Axes>"
         },
         "metadata": {
          "needs_background": "light"
         },
         "output_type": "display_data"
        }
       ]
      }
     },
     "7b757a56c0f44e9faf9139b7ccb2fd7c": {
      "model_module": "@jupyter-widgets/base",
      "model_module_version": "1.2.0",
      "model_name": "LayoutModel",
      "state": {}
     },
     "7bf9005c4d4841009d55c1cb3eb9b4d2": {
      "model_module": "@jupyter-widgets/controls",
      "model_module_version": "1.5.0",
      "model_name": "FloatSliderModel",
      "state": {
       "description": "noise_mean",
       "layout": "IPY_MODEL_521da190bf4c49218ab2c94b2c39c3e8",
       "max": 1,
       "min": -1,
       "step": 0.2,
       "style": "IPY_MODEL_709ce7faa68643619b191ec91834b2f4"
      }
     },
     "7c51fe8006ff4f3386567f4afd554f9d": {
      "model_module": "@jupyter-widgets/controls",
      "model_module_version": "1.5.0",
      "model_name": "FloatSliderModel",
      "state": {
       "description": "noise_sd",
       "layout": "IPY_MODEL_eb8a0835851b49a48c12de52e8b2bd79",
       "max": 1,
       "step": 0.1,
       "style": "IPY_MODEL_7f93e8fce756426292934714226778da",
       "value": 0.75
      }
     },
     "7f93e8fce756426292934714226778da": {
      "model_module": "@jupyter-widgets/controls",
      "model_module_version": "1.5.0",
      "model_name": "SliderStyleModel",
      "state": {
       "description_width": ""
      }
     },
     "7f9a1f94c6e64b5cb48209fb1d3b87c3": {
      "model_module": "@jupyter-widgets/controls",
      "model_module_version": "1.5.0",
      "model_name": "FloatSliderModel",
      "state": {
       "description": "ideal_mu",
       "layout": "IPY_MODEL_ba55003802234eba91faf4bde4ce0b40",
       "max": 5,
       "min": -5,
       "step": 0.5,
       "style": "IPY_MODEL_ee5368d9e6874e5490b2b252129b8de7",
       "value": 1
      }
     },
     "7fdbd8dc2f6446f68314a9ebc3957c57": {
      "model_module": "@jupyter-widgets/controls",
      "model_module_version": "1.5.0",
      "model_name": "SliderStyleModel",
      "state": {
       "description_width": ""
      }
     },
     "801ad0a744b847a68be7fa172fc75c77": {
      "model_module": "@jupyter-widgets/controls",
      "model_module_version": "1.5.0",
      "model_name": "VBoxModel",
      "state": {
       "_dom_classes": [
        "widget-interact"
       ],
       "children": [
        "IPY_MODEL_9c826479069f406ba5a1ddcd1187362b",
        "IPY_MODEL_977b52a4c1af4414964a2854a983c70f",
        "IPY_MODEL_0dbc70b3bbf945eca91b198464e7235e",
        "IPY_MODEL_464ab1e5e9df44249b165065d3ec4103",
        "IPY_MODEL_4f0e89a51bf14ec5aa429828629f9a41",
        "IPY_MODEL_59c388945a9c4b5690619891085bdbd9"
       ],
       "layout": "IPY_MODEL_aef14ff400984be69a2f40432ca76dbb"
      }
     },
     "8055f54451554a1c99b852b3434d7cc9": {
      "model_module": "@jupyter-widgets/controls",
      "model_module_version": "1.5.0",
      "model_name": "DescriptionStyleModel",
      "state": {
       "description_width": ""
      }
     },
     "808bec2701d84ddab3bbea35839e8055": {
      "model_module": "@jupyter-widgets/controls",
      "model_module_version": "1.5.0",
      "model_name": "SliderStyleModel",
      "state": {
       "description_width": ""
      }
     },
     "814b7eff028247cc96a169e414e3a79d": {
      "model_module": "@jupyter-widgets/controls",
      "model_module_version": "1.5.0",
      "model_name": "SliderStyleModel",
      "state": {
       "description_width": ""
      }
     },
     "81e91a29b59b409183149eee776f3414": {
      "model_module": "@jupyter-widgets/controls",
      "model_module_version": "1.5.0",
      "model_name": "DropdownModel",
      "state": {
       "_options_labels": [
        "1",
        "2",
        "3",
        "4",
        "5"
       ],
       "description": "amplitude",
       "index": 4,
       "layout": "IPY_MODEL_2ad1856106bf4316b01947156ed8997c",
       "style": "IPY_MODEL_8752b8cb607a4754ae29e69f8a039ede"
      }
     },
     "836f3fa95dd044f68ba9a01e301a6a79": {
      "model_module": "@jupyter-widgets/controls",
      "model_module_version": "1.5.0",
      "model_name": "SliderStyleModel",
      "state": {
       "description_width": ""
      }
     },
     "842e7c532ec34bf7bc04b5d0b85f78be": {
      "model_module": "@jupyter-widgets/controls",
      "model_module_version": "1.5.0",
      "model_name": "SliderStyleModel",
      "state": {
       "description_width": ""
      }
     },
     "84bddfa3a39b45599d2738d0ec3dda6c": {
      "model_module": "@jupyter-widgets/controls",
      "model_module_version": "1.5.0",
      "model_name": "VBoxModel",
      "state": {
       "_dom_classes": [
        "widget-interact"
       ],
       "children": [
        "IPY_MODEL_81e91a29b59b409183149eee776f3414",
        "IPY_MODEL_fa218a7cfe484346a7d5f24e780c67b3",
        "IPY_MODEL_1ff1b141114340d780d6d0ccd1889adc",
        "IPY_MODEL_c9b1ea054a9a498285cdc999d890d1fe",
        "IPY_MODEL_ccb151517a734672bc6b01a051d90095",
        "IPY_MODEL_ebabdb2a9d6d48b38fd0c667b44f944a"
       ],
       "layout": "IPY_MODEL_668c9638126143dfbabdddff7df3ff15"
      }
     },
     "84c7e2eefb774d8aad481b2b482d6d7d": {
      "model_module": "@jupyter-widgets/controls",
      "model_module_version": "1.5.0",
      "model_name": "SliderStyleModel",
      "state": {
       "description_width": ""
      }
     },
     "85b61849782548fe95bffcdbb5517d1a": {
      "model_module": "@jupyter-widgets/base",
      "model_module_version": "1.2.0",
      "model_name": "LayoutModel",
      "state": {}
     },
     "85cb6a4d536b44e5b5552a4ed9470940": {
      "model_module": "@jupyter-widgets/base",
      "model_module_version": "1.2.0",
      "model_name": "LayoutModel",
      "state": {}
     },
     "85d63cdbe5ea470ba6dd2574ae40a254": {
      "model_module": "@jupyter-widgets/base",
      "model_module_version": "1.2.0",
      "model_name": "LayoutModel",
      "state": {}
     },
     "863a5e04eb3449cc96eba3e39d37a586": {
      "model_module": "@jupyter-widgets/controls",
      "model_module_version": "1.5.0",
      "model_name": "SliderStyleModel",
      "state": {
       "description_width": ""
      }
     },
     "867394b9a0eb4b5f880e9c467702f0dc": {
      "model_module": "@jupyter-widgets/base",
      "model_module_version": "1.2.0",
      "model_name": "LayoutModel",
      "state": {}
     },
     "86cda4e015d844438541b59d8ac8f526": {
      "model_module": "@jupyter-widgets/controls",
      "model_module_version": "1.5.0",
      "model_name": "SliderStyleModel",
      "state": {
       "description_width": ""
      }
     },
     "8730921a511d4660a8708a7eac4fd9b3": {
      "model_module": "@jupyter-widgets/output",
      "model_module_version": "1.0.0",
      "model_name": "OutputModel",
      "state": {
       "layout": "IPY_MODEL_5222b33134aa4902af536367dd03ff8e",
       "outputs": [
        {
         "data": {
          "image/png": "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\n",
          "text/plain": "<Figure size 576x360 with 1 Axes>"
         },
         "metadata": {
          "needs_background": "light"
         },
         "output_type": "display_data"
        }
       ]
      }
     },
     "873beebf364c4d82a98bc41cbcb832c5": {
      "model_module": "@jupyter-widgets/controls",
      "model_module_version": "1.5.0",
      "model_name": "SliderStyleModel",
      "state": {
       "description_width": ""
      }
     },
     "8752b8cb607a4754ae29e69f8a039ede": {
      "model_module": "@jupyter-widgets/controls",
      "model_module_version": "1.5.0",
      "model_name": "DescriptionStyleModel",
      "state": {
       "description_width": ""
      }
     },
     "892ab5832ccf4dfdb6d85db661f922a1": {
      "model_module": "@jupyter-widgets/base",
      "model_module_version": "1.2.0",
      "model_name": "LayoutModel",
      "state": {}
     },
     "8a7d3110669b48539cba76785881179f": {
      "model_module": "@jupyter-widgets/base",
      "model_module_version": "1.2.0",
      "model_name": "LayoutModel",
      "state": {}
     },
     "8b082288409b40b483db66b998c5be7e": {
      "model_module": "@jupyter-widgets/controls",
      "model_module_version": "1.5.0",
      "model_name": "FloatSliderModel",
      "state": {
       "description": "noise_sd",
       "layout": "IPY_MODEL_4f1d9b6e6446465bb80235e303093d9d",
       "max": 1,
       "step": 0.1,
       "style": "IPY_MODEL_2d11911bba0f427b9469ce9d8632c647",
       "value": 0.5
      }
     },
     "8b2b146f78c748b7aebd0d029ec00454": {
      "model_module": "@jupyter-widgets/base",
      "model_module_version": "1.2.0",
      "model_name": "LayoutModel",
      "state": {}
     },
     "8bc72b162d364f208c8d783f9a0352e7": {
      "model_module": "@jupyter-widgets/base",
      "model_module_version": "1.2.0",
      "model_name": "LayoutModel",
      "state": {}
     },
     "8c4c2df3d70c484d9b00476c52f5fee9": {
      "model_module": "@jupyter-widgets/base",
      "model_module_version": "1.2.0",
      "model_name": "LayoutModel",
      "state": {}
     },
     "8c6d8e59b2b04f38a371acc108f2f11f": {
      "model_module": "@jupyter-widgets/controls",
      "model_module_version": "1.5.0",
      "model_name": "DropdownModel",
      "state": {
       "_options_labels": [
        "1",
        "2",
        "3",
        "4",
        "5"
       ],
       "description": "amplitude",
       "index": 2,
       "layout": "IPY_MODEL_0964a56855a14f2aa9f8214308e9a843",
       "style": "IPY_MODEL_532fe3a4099647b7859037498e8deae2"
      }
     },
     "8db0c079d83d450d9280151212cbe5e5": {
      "model_module": "@jupyter-widgets/controls",
      "model_module_version": "1.5.0",
      "model_name": "SliderStyleModel",
      "state": {
       "description_width": ""
      }
     },
     "8e3eb73021da42adb6e2ba6dceac9ecd": {
      "model_module": "@jupyter-widgets/controls",
      "model_module_version": "1.5.0",
      "model_name": "SliderStyleModel",
      "state": {
       "description_width": ""
      }
     },
     "8e716cf1fce04acaa9f06c71c4246cda": {
      "model_module": "@jupyter-widgets/controls",
      "model_module_version": "1.5.0",
      "model_name": "SliderStyleModel",
      "state": {
       "description_width": ""
      }
     },
     "90920666d8e94c6a8f6b47fdf6c27bf7": {
      "model_module": "@jupyter-widgets/controls",
      "model_module_version": "1.5.0",
      "model_name": "SliderStyleModel",
      "state": {
       "description_width": ""
      }
     },
     "90fcb9c6ac30439c946bbcc071c3aeb6": {
      "model_module": "@jupyter-widgets/output",
      "model_module_version": "1.0.0",
      "model_name": "OutputModel",
      "state": {
       "layout": "IPY_MODEL_932a57ed79fe4542b46705ebfc1b3f0f",
       "outputs": [
        {
         "data": {
          "image/png": "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\n",
          "text/plain": "<Figure size 576x360 with 1 Axes>"
         },
         "metadata": {
          "needs_background": "light"
         },
         "output_type": "display_data"
        }
       ]
      }
     },
     "910fc5420eb14f26b7cce7924ea73263": {
      "model_module": "@jupyter-widgets/base",
      "model_module_version": "1.2.0",
      "model_name": "LayoutModel",
      "state": {}
     },
     "914587e272834095b96e4c3b59eb70ca": {
      "model_module": "@jupyter-widgets/controls",
      "model_module_version": "1.5.0",
      "model_name": "VBoxModel",
      "state": {
       "_dom_classes": [
        "widget-interact"
       ],
       "children": [
        "IPY_MODEL_bf5931e1655a406c888808f6011b3db6",
        "IPY_MODEL_62a2bc64ca1b4cd1bc33b48fcbd1c5ad",
        "IPY_MODEL_a1d76f7ff01b41c09c4d46b17c336ab7",
        "IPY_MODEL_7ae08cfefe804d3794fd50408aa8fcca",
        "IPY_MODEL_cc64c38cdfdd41e5aa5624e15f613fa9",
        "IPY_MODEL_ccf979945b144ddb801f3a362a44dfe9"
       ],
       "layout": "IPY_MODEL_c8f8b1b1ff924b58a409f7351bee9495"
      }
     },
     "9272e5effeb341258d675de803ce2493": {
      "model_module": "@jupyter-widgets/controls",
      "model_module_version": "1.5.0",
      "model_name": "DescriptionStyleModel",
      "state": {
       "description_width": ""
      }
     },
     "932a57ed79fe4542b46705ebfc1b3f0f": {
      "model_module": "@jupyter-widgets/base",
      "model_module_version": "1.2.0",
      "model_name": "LayoutModel",
      "state": {}
     },
     "93b50b9cc63342b999e7b1b6338d8e5d": {
      "model_module": "@jupyter-widgets/output",
      "model_module_version": "1.0.0",
      "model_name": "OutputModel",
      "state": {
       "layout": "IPY_MODEL_7111d830c2ac4043a6bd722e4f180a5a",
       "outputs": [
        {
         "data": {
          "image/png": "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\n",
          "text/plain": "<Figure size 576x360 with 1 Axes>"
         },
         "metadata": {
          "needs_background": "light"
         },
         "output_type": "display_data"
        }
       ]
      }
     },
     "93bb2c94f05548aaac0c01fe10cbdf1a": {
      "model_module": "@jupyter-widgets/controls",
      "model_module_version": "1.5.0",
      "model_name": "FloatSliderModel",
      "state": {
       "description": "noise_mean",
       "layout": "IPY_MODEL_7903fe8c0b71486e99b50025b71e349f",
       "max": 1,
       "min": -1,
       "step": 0.2,
       "style": "IPY_MODEL_5498976ff197497baa570c67501761f8",
       "value": 0.1
      }
     },
     "960422ec34634e1c8f06116fdcbcdb20": {
      "model_module": "@jupyter-widgets/base",
      "model_module_version": "1.2.0",
      "model_name": "LayoutModel",
      "state": {}
     },
     "977b52a4c1af4414964a2854a983c70f": {
      "model_module": "@jupyter-widgets/controls",
      "model_module_version": "1.5.0",
      "model_name": "FloatSliderModel",
      "state": {
       "description": "ideal_sigma",
       "layout": "IPY_MODEL_7137a8fa5a8746a8ae82c72625aa6678",
       "max": 2,
       "step": 0.2,
       "style": "IPY_MODEL_ea48aafee1d847bb9944731a20dea831",
       "value": 1
      }
     },
     "98b7f3b86eed46939b7ae27052448030": {
      "model_module": "@jupyter-widgets/controls",
      "model_module_version": "1.5.0",
      "model_name": "VBoxModel",
      "state": {
       "_dom_classes": [
        "widget-interact"
       ],
       "children": [
        "IPY_MODEL_b0dc65680d5f4836956575a3ba3c9676",
        "IPY_MODEL_b74d8ba5774c4c99a59ff8583a108ce2",
        "IPY_MODEL_f6c3ceecdd0945a695f7410f175cb1c8",
        "IPY_MODEL_ff836b9f61634ca7912a5c124a630201",
        "IPY_MODEL_ba95c800698c42139cf0834ff713b6a4",
        "IPY_MODEL_7b0bd36bf3d84d2ca1d28c75795102ca"
       ],
       "layout": "IPY_MODEL_f3fa43dfe20d4e75bc5d89cf8cd4a043"
      }
     },
     "990d6b0de3ee464fbfc3491833990672": {
      "model_module": "@jupyter-widgets/base",
      "model_module_version": "1.2.0",
      "model_name": "LayoutModel",
      "state": {}
     },
     "997e75010c6a43d4a1302c1507cab498": {
      "model_module": "@jupyter-widgets/controls",
      "model_module_version": "1.5.0",
      "model_name": "VBoxModel",
      "state": {
       "_dom_classes": [
        "widget-interact"
       ],
       "children": [
        "IPY_MODEL_b4ff9891d81d4a3e9e83d7c93d8df53a",
        "IPY_MODEL_60b61eb769f74f3a8ec64ff3fd665ac3",
        "IPY_MODEL_aefe5297cbd54bfda2d2d134e74edccd",
        "IPY_MODEL_49ffb4159b004a7da8df0366718317cb",
        "IPY_MODEL_c3ddc9f7b141452c9643d8fd7b78cd60",
        "IPY_MODEL_d2176effd57646168e6dc935b77d8148"
       ],
       "layout": "IPY_MODEL_4963e1a5673e4676ad055ffec08ec8dc"
      }
     },
     "998106818d9d4512a7c1123dffd233e4": {
      "model_module": "@jupyter-widgets/controls",
      "model_module_version": "1.5.0",
      "model_name": "DropdownModel",
      "state": {
       "_options_labels": [
        "1",
        "2",
        "3",
        "4",
        "5"
       ],
       "description": "amplitude",
       "index": 2,
       "layout": "IPY_MODEL_aaeb4b4665494cdaa5344fc43eb0432d",
       "style": "IPY_MODEL_eb505c2a8a25407a994b2041fae327e9"
      }
     },
     "99a27b2e456e4a5d9223e99478a8fc7a": {
      "model_module": "@jupyter-widgets/controls",
      "model_module_version": "1.5.0",
      "model_name": "FloatSliderModel",
      "state": {
       "description": "noise_mean",
       "layout": "IPY_MODEL_0f4cd2982cd84602868310b0b20afdd5",
       "max": 1,
       "min": -1,
       "step": 0.2,
       "style": "IPY_MODEL_6ec7d649e7f4469183d1d12a6afba5fe"
      }
     },
     "99ead28cab2145d3a4ddf43fd4781d65": {
      "model_module": "@jupyter-widgets/controls",
      "model_module_version": "1.5.0",
      "model_name": "FloatSliderModel",
      "state": {
       "description": "noise_sd",
       "layout": "IPY_MODEL_40b086c6c3f144999974acbe5c26ff34",
       "max": 1,
       "step": 0.1,
       "style": "IPY_MODEL_9ed67847f844437d82668a20c1376988",
       "value": 0.4
      }
     },
     "9ad18ecd9a624014b88c318fca61ec1e": {
      "model_module": "@jupyter-widgets/base",
      "model_module_version": "1.2.0",
      "model_name": "LayoutModel",
      "state": {}
     },
     "9b99195866b1425c8036bac5c46a4248": {
      "model_module": "@jupyter-widgets/base",
      "model_module_version": "1.2.0",
      "model_name": "LayoutModel",
      "state": {}
     },
     "9ba744ac93d24158a1f36ecd07bac4bf": {
      "model_module": "@jupyter-widgets/controls",
      "model_module_version": "1.5.0",
      "model_name": "FloatSliderModel",
      "state": {
       "description": "ideal_sigma",
       "layout": "IPY_MODEL_a87649416df24a7a9011bb4ec4da63c6",
       "max": 2,
       "step": 0.2,
       "style": "IPY_MODEL_5a229b90c0404f3a81e18902448503af",
       "value": 1
      }
     },
     "9c38c0fae7094bb3b210a0485ae59f66": {
      "model_module": "@jupyter-widgets/controls",
      "model_module_version": "1.5.0",
      "model_name": "FloatSliderModel",
      "state": {
       "description": "ideal_mu",
       "layout": "IPY_MODEL_d2bddfdc5d054d2f813136277aca4511",
       "max": 5,
       "min": -5,
       "step": 0.5,
       "style": "IPY_MODEL_873beebf364c4d82a98bc41cbcb832c5"
      }
     },
     "9c826479069f406ba5a1ddcd1187362b": {
      "model_module": "@jupyter-widgets/controls",
      "model_module_version": "1.5.0",
      "model_name": "FloatSliderModel",
      "state": {
       "description": "ideal_mu",
       "layout": "IPY_MODEL_ca69142b47db4b97acee06a3ed38ef34",
       "max": 5,
       "min": -5,
       "step": 0.5,
       "style": "IPY_MODEL_5d740106f592436889a997843622466d"
      }
     },
     "9d0b37076d6449c582585af19d232021": {
      "model_module": "@jupyter-widgets/controls",
      "model_module_version": "1.5.0",
      "model_name": "SliderStyleModel",
      "state": {
       "description_width": ""
      }
     },
     "9ebc51ee80cf49388d6f9fd268e24634": {
      "model_module": "@jupyter-widgets/controls",
      "model_module_version": "1.5.0",
      "model_name": "SliderStyleModel",
      "state": {
       "description_width": ""
      }
     },
     "9ed67847f844437d82668a20c1376988": {
      "model_module": "@jupyter-widgets/controls",
      "model_module_version": "1.5.0",
      "model_name": "SliderStyleModel",
      "state": {
       "description_width": ""
      }
     },
     "a04e912356e3408ea03041d04ddc9d15": {
      "model_module": "@jupyter-widgets/controls",
      "model_module_version": "1.5.0",
      "model_name": "DescriptionStyleModel",
      "state": {
       "description_width": ""
      }
     },
     "a099c14cb3424b65b50a2af848d1e439": {
      "model_module": "@jupyter-widgets/base",
      "model_module_version": "1.2.0",
      "model_name": "LayoutModel",
      "state": {}
     },
     "a1c620248c9f4f1d9bc5c75e94dc6dc4": {
      "model_module": "@jupyter-widgets/base",
      "model_module_version": "1.2.0",
      "model_name": "LayoutModel",
      "state": {}
     },
     "a1d76f7ff01b41c09c4d46b17c336ab7": {
      "model_module": "@jupyter-widgets/controls",
      "model_module_version": "1.5.0",
      "model_name": "FloatSliderModel",
      "state": {
       "description": "ideal_sigma",
       "layout": "IPY_MODEL_f6cf40263d0e424fab1d63e55dab6a0f",
       "max": 2,
       "step": 0.2,
       "style": "IPY_MODEL_63f082dbb0eb4eac843b31718ff0ba27",
       "value": 1
      }
     },
     "a211f346d04a4512914128c4bef7596b": {
      "model_module": "@jupyter-widgets/controls",
      "model_module_version": "1.5.0",
      "model_name": "FloatSliderModel",
      "state": {
       "description": "ideal_sigma",
       "layout": "IPY_MODEL_2e51e4e72c374a4790ad6ca494810816",
       "max": 2,
       "step": 0.2,
       "style": "IPY_MODEL_4bfe122ca1a54c93b5a2eea779f54f0c",
       "value": 1
      }
     },
     "a2bce66189d241b7991007dc6bf0366d": {
      "model_module": "@jupyter-widgets/controls",
      "model_module_version": "1.5.0",
      "model_name": "SliderStyleModel",
      "state": {
       "description_width": ""
      }
     },
     "a48e67adac8b4e4b92e18279292e0d77": {
      "model_module": "@jupyter-widgets/controls",
      "model_module_version": "1.5.0",
      "model_name": "DescriptionStyleModel",
      "state": {
       "description_width": ""
      }
     },
     "a5c6f450f8814818bf51a0715e2e282d": {
      "model_module": "@jupyter-widgets/base",
      "model_module_version": "1.2.0",
      "model_name": "LayoutModel",
      "state": {}
     },
     "a6363d3e07e148cf98f99126fbf0c2b2": {
      "model_module": "@jupyter-widgets/base",
      "model_module_version": "1.2.0",
      "model_name": "LayoutModel",
      "state": {}
     },
     "a6605d1287f942478c1fc958377aa340": {
      "model_module": "@jupyter-widgets/controls",
      "model_module_version": "1.5.0",
      "model_name": "FloatSliderModel",
      "state": {
       "description": "ideal_sigma",
       "layout": "IPY_MODEL_e3409188dcda4ff0bfbc29162779f93a",
       "max": 2,
       "step": 0.2,
       "style": "IPY_MODEL_2cfe4658a9164b27820ce5f77edf48ef",
       "value": 1
      }
     },
     "a6f94ff33b7d41b6a4ef4f046dae660d": {
      "model_module": "@jupyter-widgets/controls",
      "model_module_version": "1.5.0",
      "model_name": "SliderStyleModel",
      "state": {
       "description_width": ""
      }
     },
     "a716adb2a3044a609c69f76d093e6619": {
      "model_module": "@jupyter-widgets/controls",
      "model_module_version": "1.5.0",
      "model_name": "SliderStyleModel",
      "state": {
       "description_width": ""
      }
     },
     "a8552ea42f874499a15e773e0f3c19bc": {
      "model_module": "@jupyter-widgets/controls",
      "model_module_version": "1.5.0",
      "model_name": "SliderStyleModel",
      "state": {
       "description_width": ""
      }
     },
     "a8588a2c90e44b86b31bb82df1554a00": {
      "model_module": "@jupyter-widgets/controls",
      "model_module_version": "1.5.0",
      "model_name": "FloatSliderModel",
      "state": {
       "description": "noise_sd",
       "layout": "IPY_MODEL_a099c14cb3424b65b50a2af848d1e439",
       "max": 1,
       "step": 0.1,
       "style": "IPY_MODEL_44ab4b9e51bd4f1ab2fbfb5dce90b479",
       "value": 0.5
      }
     },
     "a87649416df24a7a9011bb4ec4da63c6": {
      "model_module": "@jupyter-widgets/base",
      "model_module_version": "1.2.0",
      "model_name": "LayoutModel",
      "state": {}
     },
     "a8cbcaa21dfb4c8ab9dd4e1c3ec8eeea": {
      "model_module": "@jupyter-widgets/controls",
      "model_module_version": "1.5.0",
      "model_name": "DropdownModel",
      "state": {
       "_options_labels": [
        "1",
        "2",
        "3",
        "4",
        "5"
       ],
       "description": "amplitude",
       "index": 4,
       "layout": "IPY_MODEL_b131f10668d8419fae0eaac9bbcb390c",
       "style": "IPY_MODEL_7411b60f32d24ad99002351a4cc91081"
      }
     },
     "a8ed63a1db7f4f1f9bb0b6ef2ce6724c": {
      "model_module": "@jupyter-widgets/controls",
      "model_module_version": "1.5.0",
      "model_name": "SliderStyleModel",
      "state": {
       "description_width": ""
      }
     },
     "a97537ad244e48fba990a926b2b09db6": {
      "model_module": "@jupyter-widgets/base",
      "model_module_version": "1.2.0",
      "model_name": "LayoutModel",
      "state": {}
     },
     "a9aa5b62bc4944088a4888216a405094": {
      "model_module": "@jupyter-widgets/controls",
      "model_module_version": "1.5.0",
      "model_name": "SliderStyleModel",
      "state": {
       "description_width": ""
      }
     },
     "a9d970b9f3f94b558edc69f3deab5338": {
      "model_module": "@jupyter-widgets/controls",
      "model_module_version": "1.5.0",
      "model_name": "DescriptionStyleModel",
      "state": {
       "description_width": ""
      }
     },
     "aa3c2fb033964f8eb6eb4ed9effda95d": {
      "model_module": "@jupyter-widgets/controls",
      "model_module_version": "1.5.0",
      "model_name": "SliderStyleModel",
      "state": {
       "description_width": ""
      }
     },
     "aa539a70ef7e41259b31fcbf283dea71": {
      "model_module": "@jupyter-widgets/controls",
      "model_module_version": "1.5.0",
      "model_name": "FloatSliderModel",
      "state": {
       "description": "ideal_sigma",
       "layout": "IPY_MODEL_c51b64872d6c4388b369caad0947d5d0",
       "max": 2,
       "step": 0.2,
       "style": "IPY_MODEL_6560596ca4e443d1af00416dfa557d5e",
       "value": 1
      }
     },
     "aaeb4b4665494cdaa5344fc43eb0432d": {
      "model_module": "@jupyter-widgets/base",
      "model_module_version": "1.2.0",
      "model_name": "LayoutModel",
      "state": {}
     },
     "ab7f9682d511413aba78da84da7be6a1": {
      "model_module": "@jupyter-widgets/base",
      "model_module_version": "1.2.0",
      "model_name": "LayoutModel",
      "state": {}
     },
     "ab9e4fee8293468a8ee94443cda7f7a7": {
      "model_module": "@jupyter-widgets/controls",
      "model_module_version": "1.5.0",
      "model_name": "FloatSliderModel",
      "state": {
       "description": "ideal_mu",
       "layout": "IPY_MODEL_ed58b0c470ba45648f890b62afb4bb69",
       "max": 5,
       "min": -5,
       "step": 0.5,
       "style": "IPY_MODEL_e346199c3a9e4fe6b6233c2853f4d17d"
      }
     },
     "abbf0aa6645c422ab04666f4edaf1256": {
      "model_module": "@jupyter-widgets/controls",
      "model_module_version": "1.5.0",
      "model_name": "DescriptionStyleModel",
      "state": {
       "description_width": ""
      }
     },
     "ad742d903e3c451e92e92b78b3721e94": {
      "model_module": "@jupyter-widgets/base",
      "model_module_version": "1.2.0",
      "model_name": "LayoutModel",
      "state": {}
     },
     "adf2dd5025644c129ff13a7eca7fc76a": {
      "model_module": "@jupyter-widgets/output",
      "model_module_version": "1.0.0",
      "model_name": "OutputModel",
      "state": {
       "layout": "IPY_MODEL_9b99195866b1425c8036bac5c46a4248",
       "outputs": [
        {
         "data": {
          "image/png": "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\n",
          "text/plain": "<Figure size 576x360 with 1 Axes>"
         },
         "metadata": {
          "needs_background": "light"
         },
         "output_type": "display_data"
        }
       ]
      }
     },
     "ae3370e3066a409d9ccd33a5f8144ce0": {
      "model_module": "@jupyter-widgets/controls",
      "model_module_version": "1.5.0",
      "model_name": "FloatSliderModel",
      "state": {
       "description": "ideal_mu",
       "layout": "IPY_MODEL_ef4c960080f34f8aadc114e550e232cd",
       "max": 5,
       "min": -5,
       "step": 0.5,
       "style": "IPY_MODEL_0f4ffe4859934aa9a77efb2e6a2513c9"
      }
     },
     "ae5f151fa5dd475ca8c56f7ed6f1f751": {
      "model_module": "@jupyter-widgets/controls",
      "model_module_version": "1.5.0",
      "model_name": "FloatSliderModel",
      "state": {
       "description": "ideal_mu",
       "layout": "IPY_MODEL_d99690466fc64b0a801f9e23f76c1e92",
       "max": 5,
       "min": -5,
       "step": 0.5,
       "style": "IPY_MODEL_a8552ea42f874499a15e773e0f3c19bc"
      }
     },
     "aef14ff400984be69a2f40432ca76dbb": {
      "model_module": "@jupyter-widgets/base",
      "model_module_version": "1.2.0",
      "model_name": "LayoutModel",
      "state": {}
     },
     "aefe5297cbd54bfda2d2d134e74edccd": {
      "model_module": "@jupyter-widgets/controls",
      "model_module_version": "1.5.0",
      "model_name": "FloatSliderModel",
      "state": {
       "description": "ideal_sigma",
       "layout": "IPY_MODEL_babec14e9a43446ab0eaf923074ead00",
       "max": 2,
       "step": 0.2,
       "style": "IPY_MODEL_842e7c532ec34bf7bc04b5d0b85f78be",
       "value": 1
      }
     },
     "afb655f5c5ee4624a4b9e68364fd3a7c": {
      "model_module": "@jupyter-widgets/output",
      "model_module_version": "1.0.0",
      "model_name": "OutputModel",
      "state": {
       "layout": "IPY_MODEL_67d5a5751eac43c3b5055ea3634eb3d1",
       "outputs": [
        {
         "ename": "NameError",
         "evalue": "name 'x' is not defined",
         "output_type": "error",
         "traceback": [
          "\u001b[1;31m---------------------------------------------------------------------------\u001b[0m",
          "\u001b[1;31mNameError\u001b[0m                                 Traceback (most recent call last)",
          "\u001b[1;32mC:\\Anaconda3\\envs\\quantecon\\lib\\site-packages\\ipywidgets\\widgets\\interaction.py\u001b[0m in \u001b[0;36mupdate\u001b[1;34m(self, *args)\u001b[0m\n\u001b[0;32m    249\u001b[0m                     \u001b[0mvalue\u001b[0m \u001b[1;33m=\u001b[0m \u001b[0mwidget\u001b[0m\u001b[1;33m.\u001b[0m\u001b[0mget_interact_value\u001b[0m\u001b[1;33m(\u001b[0m\u001b[1;33m)\u001b[0m\u001b[1;33m\u001b[0m\u001b[1;33m\u001b[0m\u001b[0m\n\u001b[0;32m    250\u001b[0m                     \u001b[0mself\u001b[0m\u001b[1;33m.\u001b[0m\u001b[0mkwargs\u001b[0m\u001b[1;33m[\u001b[0m\u001b[0mwidget\u001b[0m\u001b[1;33m.\u001b[0m\u001b[0m_kwarg\u001b[0m\u001b[1;33m]\u001b[0m \u001b[1;33m=\u001b[0m \u001b[0mvalue\u001b[0m\u001b[1;33m\u001b[0m\u001b[1;33m\u001b[0m\u001b[0m\n\u001b[1;32m--> 251\u001b[1;33m                 \u001b[0mself\u001b[0m\u001b[1;33m.\u001b[0m\u001b[0mresult\u001b[0m \u001b[1;33m=\u001b[0m \u001b[0mself\u001b[0m\u001b[1;33m.\u001b[0m\u001b[0mf\u001b[0m\u001b[1;33m(\u001b[0m\u001b[1;33m**\u001b[0m\u001b[0mself\u001b[0m\u001b[1;33m.\u001b[0m\u001b[0mkwargs\u001b[0m\u001b[1;33m)\u001b[0m\u001b[1;33m\u001b[0m\u001b[1;33m\u001b[0m\u001b[0m\n\u001b[0m\u001b[0;32m    252\u001b[0m                 \u001b[0mshow_inline_matplotlib_plots\u001b[0m\u001b[1;33m(\u001b[0m\u001b[1;33m)\u001b[0m\u001b[1;33m\u001b[0m\u001b[1;33m\u001b[0m\u001b[0m\n\u001b[0;32m    253\u001b[0m                 \u001b[1;32mif\u001b[0m \u001b[0mself\u001b[0m\u001b[1;33m.\u001b[0m\u001b[0mauto_display\u001b[0m \u001b[1;32mand\u001b[0m \u001b[0mself\u001b[0m\u001b[1;33m.\u001b[0m\u001b[0mresult\u001b[0m \u001b[1;32mis\u001b[0m \u001b[1;32mnot\u001b[0m \u001b[1;32mNone\u001b[0m\u001b[1;33m:\u001b[0m\u001b[1;33m\u001b[0m\u001b[1;33m\u001b[0m\u001b[0m\n",
          "\u001b[1;32m<ipython-input-4-6bd9d44a270d>\u001b[0m in \u001b[0;36mfunc\u001b[1;34m(ideal_mu, amplitude, ideal_sigma, noise_sd, noise_mean)\u001b[0m\n\u001b[0;32m      1\u001b[0m \u001b[1;32mdef\u001b[0m \u001b[0mfunc\u001b[0m\u001b[1;33m(\u001b[0m\u001b[0mideal_mu\u001b[0m\u001b[1;33m=\u001b[0m\u001b[0mideal_mu\u001b[0m\u001b[1;33m,\u001b[0m \u001b[0mamplitude\u001b[0m\u001b[1;33m=\u001b[0m\u001b[0mamplitude\u001b[0m\u001b[1;33m,\u001b[0m \u001b[0mideal_sigma\u001b[0m\u001b[1;33m=\u001b[0m\u001b[0mideal_sigma\u001b[0m\u001b[1;33m,\u001b[0m \u001b[0mnoise_sd\u001b[0m\u001b[1;33m=\u001b[0m\u001b[0mnoise_sd\u001b[0m\u001b[1;33m,\u001b[0m \u001b[0mnoise_mean\u001b[0m\u001b[1;33m=\u001b[0m\u001b[0mnoise_mean\u001b[0m\u001b[1;33m)\u001b[0m\u001b[1;33m:\u001b[0m\u001b[1;33m\u001b[0m\u001b[1;33m\u001b[0m\u001b[0m\n\u001b[1;32m----> 2\u001b[1;33m     \u001b[0mr\u001b[0m \u001b[1;33m=\u001b[0m \u001b[0mamplitude\u001b[0m \u001b[1;33m*\u001b[0m \u001b[1;33m(\u001b[0m\u001b[0mnp\u001b[0m\u001b[1;33m.\u001b[0m\u001b[0mexp\u001b[0m\u001b[1;33m(\u001b[0m\u001b[1;33m-\u001b[0m\u001b[1;33m(\u001b[0m\u001b[0mx\u001b[0m\u001b[1;33m-\u001b[0m\u001b[0mideal_mu\u001b[0m\u001b[1;33m)\u001b[0m\u001b[1;33m**\u001b[0m\u001b[1;36m2\u001b[0m\u001b[1;33m)\u001b[0m \u001b[1;33m/\u001b[0m \u001b[1;33m(\u001b[0m\u001b[1;36m2\u001b[0m\u001b[1;33m*\u001b[0m\u001b[0mideal_sigma\u001b[0m\u001b[1;33m**\u001b[0m\u001b[1;36m2\u001b[0m\u001b[1;33m)\u001b[0m\u001b[1;33m)\u001b[0m\u001b[1;33m\u001b[0m\u001b[1;33m\u001b[0m\u001b[0m\n\u001b[0m\u001b[0;32m      3\u001b[0m     \u001b[0mplt\u001b[0m\u001b[1;33m.\u001b[0m\u001b[0mfigure\u001b[0m\u001b[1;33m(\u001b[0m\u001b[0mfigsize\u001b[0m\u001b[1;33m=\u001b[0m\u001b[1;33m(\u001b[0m\u001b[1;36m8\u001b[0m\u001b[1;33m,\u001b[0m\u001b[1;36m5\u001b[0m\u001b[1;33m)\u001b[0m\u001b[1;33m)\u001b[0m\u001b[1;33m\u001b[0m\u001b[1;33m\u001b[0m\u001b[0m\n\u001b[0;32m      4\u001b[0m     \u001b[0mplt\u001b[0m\u001b[1;33m.\u001b[0m\u001b[0mplot\u001b[0m\u001b[1;33m(\u001b[0m\u001b[0mx\u001b[0m\u001b[1;33m,\u001b[0m \u001b[0mr\u001b[0m\u001b[1;33m,\u001b[0m \u001b[0mc\u001b[0m\u001b[1;33m=\u001b[0m\u001b[1;34m'k'\u001b[0m\u001b[1;33m,\u001b[0m \u001b[0mlw\u001b[0m\u001b[1;33m=\u001b[0m\u001b[1;36m3\u001b[0m\u001b[1;33m)\u001b[0m\u001b[1;33m\u001b[0m\u001b[1;33m\u001b[0m\u001b[0m\n\u001b[0;32m      5\u001b[0m     \u001b[0mplt\u001b[0m\u001b[1;33m.\u001b[0m\u001b[0mylim\u001b[0m\u001b[1;33m=\u001b[0m\u001b[1;36m5\u001b[0m\u001b[1;33m\u001b[0m\u001b[1;33m\u001b[0m\u001b[0m\n",
          "\u001b[1;31mNameError\u001b[0m: name 'x' is not defined"
         ]
        }
       ]
      }
     },
     "b034b74c248f4926bb2287fb76a2777f": {
      "model_module": "@jupyter-widgets/base",
      "model_module_version": "1.2.0",
      "model_name": "LayoutModel",
      "state": {}
     },
     "b063682be71a4f56ac89cff786b82b6c": {
      "model_module": "@jupyter-widgets/base",
      "model_module_version": "1.2.0",
      "model_name": "LayoutModel",
      "state": {}
     },
     "b0cc87dd13344b8786c69f7620b19220": {
      "model_module": "@jupyter-widgets/controls",
      "model_module_version": "1.5.0",
      "model_name": "FloatSliderModel",
      "state": {
       "description": "noise_mean",
       "layout": "IPY_MODEL_ea578f7d79f84d73b9a050f3ca402f2a",
       "max": 1,
       "min": -1,
       "step": 0.2,
       "style": "IPY_MODEL_9ebc51ee80cf49388d6f9fd268e24634"
      }
     },
     "b0dc65680d5f4836956575a3ba3c9676": {
      "model_module": "@jupyter-widgets/controls",
      "model_module_version": "1.5.0",
      "model_name": "FloatSliderModel",
      "state": {
       "description": "ideal_mu",
       "layout": "IPY_MODEL_c0c5744499bd42a4b2ec1f05518d8dcd",
       "max": 5,
       "min": -5,
       "step": 0.5,
       "style": "IPY_MODEL_3cf0d46ede344e90bd1c6bad853802ac"
      }
     },
     "b131f10668d8419fae0eaac9bbcb390c": {
      "model_module": "@jupyter-widgets/base",
      "model_module_version": "1.2.0",
      "model_name": "LayoutModel",
      "state": {}
     },
     "b157cdc40d3d4a1493ce9e1886d9a802": {
      "model_module": "@jupyter-widgets/base",
      "model_module_version": "1.2.0",
      "model_name": "LayoutModel",
      "state": {}
     },
     "b1d1179e05d94bfc83278e8124cdc619": {
      "model_module": "@jupyter-widgets/base",
      "model_module_version": "1.2.0",
      "model_name": "LayoutModel",
      "state": {}
     },
     "b3260fae76e34a80b5523d92d8cca1ac": {
      "model_module": "@jupyter-widgets/controls",
      "model_module_version": "1.5.0",
      "model_name": "SliderStyleModel",
      "state": {
       "description_width": ""
      }
     },
     "b4bdd8a476824a44bb100a1485c41e04": {
      "model_module": "@jupyter-widgets/controls",
      "model_module_version": "1.5.0",
      "model_name": "FloatSliderModel",
      "state": {
       "description": "ideal_mu",
       "layout": "IPY_MODEL_85b61849782548fe95bffcdbb5517d1a",
       "max": 5,
       "min": -5,
       "step": 0.5,
       "style": "IPY_MODEL_312a090bb5e446079cba2d7fd3a626d4"
      }
     },
     "b4ff9891d81d4a3e9e83d7c93d8df53a": {
      "model_module": "@jupyter-widgets/controls",
      "model_module_version": "1.5.0",
      "model_name": "DropdownModel",
      "state": {
       "_options_labels": [
        "1",
        "2",
        "3",
        "4",
        "5"
       ],
       "description": "amplitude",
       "index": 4,
       "layout": "IPY_MODEL_a1c620248c9f4f1d9bc5c75e94dc6dc4",
       "style": "IPY_MODEL_f0efeac78c014b3e9c9fd553aeb720b4"
      }
     },
     "b5de324e3d204cdc9ca5d564acf4b37d": {
      "model_module": "@jupyter-widgets/base",
      "model_module_version": "1.2.0",
      "model_name": "LayoutModel",
      "state": {}
     },
     "b697b5b813344d1ea8ce6ecf5e8f2b6b": {
      "model_module": "@jupyter-widgets/base",
      "model_module_version": "1.2.0",
      "model_name": "LayoutModel",
      "state": {}
     },
     "b6a98197632a4bb2a34045d27c6f04dc": {
      "model_module": "@jupyter-widgets/controls",
      "model_module_version": "1.5.0",
      "model_name": "SliderStyleModel",
      "state": {
       "description_width": ""
      }
     },
     "b74d8ba5774c4c99a59ff8583a108ce2": {
      "model_module": "@jupyter-widgets/controls",
      "model_module_version": "1.5.0",
      "model_name": "FloatSliderModel",
      "state": {
       "description": "ideal_sigma",
       "layout": "IPY_MODEL_59c98dbd280d4744a8ecec92b6612348",
       "max": 2,
       "step": 0.2,
       "style": "IPY_MODEL_d2c07c6be01e4878973f2c7247c016cb",
       "value": 1
      }
     },
     "b9a373839a66408695c7ca69a2b3c1ee": {
      "model_module": "@jupyter-widgets/base",
      "model_module_version": "1.2.0",
      "model_name": "LayoutModel",
      "state": {}
     },
     "b9b3a982f1654cfb89f009b84f7f5efe": {
      "model_module": "@jupyter-widgets/base",
      "model_module_version": "1.2.0",
      "model_name": "LayoutModel",
      "state": {}
     },
     "b9e23b25b81940fdaae2e33b66107dda": {
      "model_module": "@jupyter-widgets/controls",
      "model_module_version": "1.5.0",
      "model_name": "FloatSliderModel",
      "state": {
       "description": "noise_sd",
       "layout": "IPY_MODEL_e023876cb5d942ed99dd35853a1825f7",
       "max": 1,
       "step": 0.1,
       "style": "IPY_MODEL_e2f5354571af46c8b04faf485facc542",
       "value": 0.5
      }
     },
     "ba31a37dab824b7f834c190e2a882d2b": {
      "model_module": "@jupyter-widgets/base",
      "model_module_version": "1.2.0",
      "model_name": "LayoutModel",
      "state": {}
     },
     "ba55003802234eba91faf4bde4ce0b40": {
      "model_module": "@jupyter-widgets/base",
      "model_module_version": "1.2.0",
      "model_name": "LayoutModel",
      "state": {}
     },
     "ba95c800698c42139cf0834ff713b6a4": {
      "model_module": "@jupyter-widgets/controls",
      "model_module_version": "1.5.0",
      "model_name": "FloatSliderModel",
      "state": {
       "description": "noise_sd",
       "layout": "IPY_MODEL_ba31a37dab824b7f834c190e2a882d2b",
       "max": 1,
       "step": 0.1,
       "style": "IPY_MODEL_6635689411994df9bcc2e26cfb1c1683",
       "value": 0.5
      }
     },
     "babec14e9a43446ab0eaf923074ead00": {
      "model_module": "@jupyter-widgets/base",
      "model_module_version": "1.2.0",
      "model_name": "LayoutModel",
      "state": {}
     },
     "bbf961c0253a415ab37edc2206ca9622": {
      "model_module": "@jupyter-widgets/base",
      "model_module_version": "1.2.0",
      "model_name": "LayoutModel",
      "state": {}
     },
     "be0b03abd99248e19c3ced6689cceb16": {
      "model_module": "@jupyter-widgets/base",
      "model_module_version": "1.2.0",
      "model_name": "LayoutModel",
      "state": {}
     },
     "beb26ee8bf414d31ad34d4d4c5f3ef27": {
      "model_module": "@jupyter-widgets/controls",
      "model_module_version": "1.5.0",
      "model_name": "SliderStyleModel",
      "state": {
       "description_width": ""
      }
     },
     "bef43cb7266e45669a33acf74cd76032": {
      "model_module": "@jupyter-widgets/output",
      "model_module_version": "1.0.0",
      "model_name": "OutputModel",
      "state": {
       "layout": "IPY_MODEL_17a243bb90e543ae9fcdc8713ea40871",
       "outputs": [
        {
         "data": {
          "image/png": "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\n",
          "text/plain": "<Figure size 576x360 with 1 Axes>"
         },
         "metadata": {
          "needs_background": "light"
         },
         "output_type": "display_data"
        }
       ]
      }
     },
     "bf00f9980a47413189e4c2178884729a": {
      "model_module": "@jupyter-widgets/controls",
      "model_module_version": "1.5.0",
      "model_name": "VBoxModel",
      "state": {
       "_dom_classes": [
        "widget-interact"
       ],
       "children": [
        "IPY_MODEL_9c38c0fae7094bb3b210a0485ae59f66",
        "IPY_MODEL_73caacea62454778b56bc37fa326290d",
        "IPY_MODEL_f13930e00e844133adac78f10b0eb314",
        "IPY_MODEL_580774fdfbd343d2ab294f922a286b38",
        "IPY_MODEL_8b082288409b40b483db66b998c5be7e",
        "IPY_MODEL_93b50b9cc63342b999e7b1b6338d8e5d"
       ],
       "layout": "IPY_MODEL_d987bd89b0e449f48b59142a93aef0b0"
      }
     },
     "bf5931e1655a406c888808f6011b3db6": {
      "model_module": "@jupyter-widgets/controls",
      "model_module_version": "1.5.0",
      "model_name": "DropdownModel",
      "state": {
       "_options_labels": [
        "1",
        "2",
        "3",
        "4",
        "5"
       ],
       "description": "amplitude",
       "index": 0,
       "layout": "IPY_MODEL_34846cf0466a4f2389f79b8fdbe72f5f",
       "style": "IPY_MODEL_45e35eb2f5f24ecaac860268eebe1b9a"
      }
     },
     "c0c5744499bd42a4b2ec1f05518d8dcd": {
      "model_module": "@jupyter-widgets/base",
      "model_module_version": "1.2.0",
      "model_name": "LayoutModel",
      "state": {}
     },
     "c15ec1f5004742e1b3d00ef96f85139d": {
      "model_module": "@jupyter-widgets/controls",
      "model_module_version": "1.5.0",
      "model_name": "FloatSliderModel",
      "state": {
       "description": "ideal_sigma",
       "layout": "IPY_MODEL_c969773f66134d64a55cae3d0e8a38fb",
       "max": 2,
       "step": 0.2,
       "style": "IPY_MODEL_da8ffeca63c54f169d1ecdc9e88b939c",
       "value": 0.8
      }
     },
     "c225dcbab25e472a8626851eb1d310a3": {
      "model_module": "@jupyter-widgets/base",
      "model_module_version": "1.2.0",
      "model_name": "LayoutModel",
      "state": {}
     },
     "c293271a9ca84775ac03767c6448b8c4": {
      "model_module": "@jupyter-widgets/controls",
      "model_module_version": "1.5.0",
      "model_name": "FloatSliderModel",
      "state": {
       "description": "noise_sd",
       "layout": "IPY_MODEL_b5de324e3d204cdc9ca5d564acf4b37d",
       "max": 1,
       "step": 0.1,
       "style": "IPY_MODEL_0eab60a4adad446197e003de73794751",
       "value": 0.7
      }
     },
     "c34e3e42a6d04f63a1c15ba4e32142f8": {
      "model_module": "@jupyter-widgets/controls",
      "model_module_version": "1.5.0",
      "model_name": "FloatSliderModel",
      "state": {
       "description": "ideal_mu",
       "layout": "IPY_MODEL_049259c29285429bb1f61bb5e831715b",
       "max": 5,
       "min": -5,
       "step": 0.5,
       "style": "IPY_MODEL_3a636075cfb84abe9cf6542b1cd352af"
      }
     },
     "c3ddc9f7b141452c9643d8fd7b78cd60": {
      "model_module": "@jupyter-widgets/controls",
      "model_module_version": "1.5.0",
      "model_name": "FloatSliderModel",
      "state": {
       "description": "noise_mean",
       "layout": "IPY_MODEL_b157cdc40d3d4a1493ce9e1886d9a802",
       "max": 1,
       "min": -1,
       "step": 0.2,
       "style": "IPY_MODEL_644723695607439798cd28452cc31560"
      }
     },
     "c51b64872d6c4388b369caad0947d5d0": {
      "model_module": "@jupyter-widgets/base",
      "model_module_version": "1.2.0",
      "model_name": "LayoutModel",
      "state": {}
     },
     "c605402ffb3a412db7f6091f55c6137a": {
      "model_module": "@jupyter-widgets/base",
      "model_module_version": "1.2.0",
      "model_name": "LayoutModel",
      "state": {}
     },
     "c7e57aa425ad45f99ff599f2ccc7e093": {
      "model_module": "@jupyter-widgets/controls",
      "model_module_version": "1.5.0",
      "model_name": "FloatSliderModel",
      "state": {
       "description": "noise_mean",
       "layout": "IPY_MODEL_401c65556e904796b82695bdd3f85983",
       "max": 1,
       "min": -1,
       "step": 0.2,
       "style": "IPY_MODEL_e8f52bb7b6fc450ea4e30756ed008019",
       "value": 0.1
      }
     },
     "c8f8b1b1ff924b58a409f7351bee9495": {
      "model_module": "@jupyter-widgets/base",
      "model_module_version": "1.2.0",
      "model_name": "LayoutModel",
      "state": {}
     },
     "c969773f66134d64a55cae3d0e8a38fb": {
      "model_module": "@jupyter-widgets/base",
      "model_module_version": "1.2.0",
      "model_name": "LayoutModel",
      "state": {}
     },
     "c9b1ea054a9a498285cdc999d890d1fe": {
      "model_module": "@jupyter-widgets/controls",
      "model_module_version": "1.5.0",
      "model_name": "FloatSliderModel",
      "state": {
       "description": "noise_sd",
       "layout": "IPY_MODEL_b9a373839a66408695c7ca69a2b3c1ee",
       "max": 1,
       "step": 0.1,
       "style": "IPY_MODEL_836f3fa95dd044f68ba9a01e301a6a79",
       "value": 0.7
      }
     },
     "c9d4bcf33bd9416483c2c41d75414b9b": {
      "model_module": "@jupyter-widgets/controls",
      "model_module_version": "1.5.0",
      "model_name": "DropdownModel",
      "state": {
       "_options_labels": [
        "1",
        "2",
        "3",
        "4",
        "5"
       ],
       "description": "amplitude",
       "index": 4,
       "layout": "IPY_MODEL_cd920e2a1d84420da17b645ae14a3123",
       "style": "IPY_MODEL_1bac4232daa340b782969288ab9aaa08"
      }
     },
     "ca69142b47db4b97acee06a3ed38ef34": {
      "model_module": "@jupyter-widgets/base",
      "model_module_version": "1.2.0",
      "model_name": "LayoutModel",
      "state": {}
     },
     "cb2c44b0f2634e6c8affd0c580510c77": {
      "model_module": "@jupyter-widgets/controls",
      "model_module_version": "1.5.0",
      "model_name": "SliderStyleModel",
      "state": {
       "description_width": ""
      }
     },
     "cc64c38cdfdd41e5aa5624e15f613fa9": {
      "model_module": "@jupyter-widgets/controls",
      "model_module_version": "1.5.0",
      "model_name": "FloatSliderModel",
      "state": {
       "description": "noise_mean",
       "layout": "IPY_MODEL_b034b74c248f4926bb2287fb76a2777f",
       "max": 1,
       "min": -1,
       "step": 0.2,
       "style": "IPY_MODEL_814b7eff028247cc96a169e414e3a79d"
      }
     },
     "ccaa096214d5433ea5a3626b3863e10e": {
      "model_module": "@jupyter-widgets/controls",
      "model_module_version": "1.5.0",
      "model_name": "SliderStyleModel",
      "state": {
       "description_width": ""
      }
     },
     "ccb151517a734672bc6b01a051d90095": {
      "model_module": "@jupyter-widgets/controls",
      "model_module_version": "1.5.0",
      "model_name": "FloatSliderModel",
      "state": {
       "description": "noise_mean",
       "layout": "IPY_MODEL_58651254b8a346c99ee4530bee1458c3",
       "max": 1,
       "min": -1,
       "step": 0.2,
       "style": "IPY_MODEL_cecf413022014f36a6b5b55756363f18"
      }
     },
     "ccbc689d014d4965a0e293dc666da577": {
      "model_module": "@jupyter-widgets/controls",
      "model_module_version": "1.5.0",
      "model_name": "FloatSliderModel",
      "state": {
       "description": "ideal_mu",
       "layout": "IPY_MODEL_8a7d3110669b48539cba76785881179f",
       "max": 5,
       "min": -5,
       "step": 0.5,
       "style": "IPY_MODEL_e0b6a6cdd2ee4526bb93410c81574e72"
      }
     },
     "ccf979945b144ddb801f3a362a44dfe9": {
      "model_module": "@jupyter-widgets/output",
      "model_module_version": "1.0.0",
      "model_name": "OutputModel",
      "state": {
       "layout": "IPY_MODEL_fa76d61ff4ef445f8a8c465b1529a656",
       "outputs": [
        {
         "ename": "NameError",
         "evalue": "name 'x' is not defined",
         "output_type": "error",
         "traceback": [
          "\u001b[1;31m---------------------------------------------------------------------------\u001b[0m",
          "\u001b[1;31mNameError\u001b[0m                                 Traceback (most recent call last)",
          "\u001b[1;32mC:\\Anaconda3\\envs\\quantecon\\lib\\site-packages\\ipywidgets\\widgets\\interaction.py\u001b[0m in \u001b[0;36mupdate\u001b[1;34m(self, *args)\u001b[0m\n\u001b[0;32m    249\u001b[0m                     \u001b[0mvalue\u001b[0m \u001b[1;33m=\u001b[0m \u001b[0mwidget\u001b[0m\u001b[1;33m.\u001b[0m\u001b[0mget_interact_value\u001b[0m\u001b[1;33m(\u001b[0m\u001b[1;33m)\u001b[0m\u001b[1;33m\u001b[0m\u001b[1;33m\u001b[0m\u001b[0m\n\u001b[0;32m    250\u001b[0m                     \u001b[0mself\u001b[0m\u001b[1;33m.\u001b[0m\u001b[0mkwargs\u001b[0m\u001b[1;33m[\u001b[0m\u001b[0mwidget\u001b[0m\u001b[1;33m.\u001b[0m\u001b[0m_kwarg\u001b[0m\u001b[1;33m]\u001b[0m \u001b[1;33m=\u001b[0m \u001b[0mvalue\u001b[0m\u001b[1;33m\u001b[0m\u001b[1;33m\u001b[0m\u001b[0m\n\u001b[1;32m--> 251\u001b[1;33m                 \u001b[0mself\u001b[0m\u001b[1;33m.\u001b[0m\u001b[0mresult\u001b[0m \u001b[1;33m=\u001b[0m \u001b[0mself\u001b[0m\u001b[1;33m.\u001b[0m\u001b[0mf\u001b[0m\u001b[1;33m(\u001b[0m\u001b[1;33m**\u001b[0m\u001b[0mself\u001b[0m\u001b[1;33m.\u001b[0m\u001b[0mkwargs\u001b[0m\u001b[1;33m)\u001b[0m\u001b[1;33m\u001b[0m\u001b[1;33m\u001b[0m\u001b[0m\n\u001b[0m\u001b[0;32m    252\u001b[0m                 \u001b[0mshow_inline_matplotlib_plots\u001b[0m\u001b[1;33m(\u001b[0m\u001b[1;33m)\u001b[0m\u001b[1;33m\u001b[0m\u001b[1;33m\u001b[0m\u001b[0m\n\u001b[0;32m    253\u001b[0m                 \u001b[1;32mif\u001b[0m \u001b[0mself\u001b[0m\u001b[1;33m.\u001b[0m\u001b[0mauto_display\u001b[0m \u001b[1;32mand\u001b[0m \u001b[0mself\u001b[0m\u001b[1;33m.\u001b[0m\u001b[0mresult\u001b[0m \u001b[1;32mis\u001b[0m \u001b[1;32mnot\u001b[0m \u001b[1;32mNone\u001b[0m\u001b[1;33m:\u001b[0m\u001b[1;33m\u001b[0m\u001b[1;33m\u001b[0m\u001b[0m\n",
          "\u001b[1;32m<ipython-input-3-fd9d03851208>\u001b[0m in \u001b[0;36mfunc\u001b[1;34m(amplitude, ideal_mu, ideal_sigma, noise_sd, noise_mean)\u001b[0m\n\u001b[0;32m      1\u001b[0m \u001b[1;32mdef\u001b[0m \u001b[0mfunc\u001b[0m\u001b[1;33m(\u001b[0m\u001b[0mamplitude\u001b[0m\u001b[1;33m,\u001b[0m\u001b[0mideal_mu\u001b[0m\u001b[1;33m,\u001b[0m\u001b[0mideal_sigma\u001b[0m\u001b[1;33m,\u001b[0m\u001b[0mnoise_sd\u001b[0m\u001b[1;33m,\u001b[0m\u001b[0mnoise_mean\u001b[0m\u001b[1;33m)\u001b[0m\u001b[1;33m:\u001b[0m\u001b[1;33m\u001b[0m\u001b[1;33m\u001b[0m\u001b[0m\n\u001b[1;32m----> 2\u001b[1;33m     \u001b[0mr\u001b[0m\u001b[1;33m=\u001b[0m\u001b[0mamplitude\u001b[0m\u001b[1;33m*\u001b[0m\u001b[0mnp\u001b[0m\u001b[1;33m.\u001b[0m\u001b[0mexp\u001b[0m\u001b[1;33m(\u001b[0m\u001b[1;33m-\u001b[0m\u001b[1;33m(\u001b[0m\u001b[0mx\u001b[0m\u001b[1;33m-\u001b[0m\u001b[0mideal_mu\u001b[0m\u001b[1;33m)\u001b[0m\u001b[1;33m**\u001b[0m\u001b[1;36m2\u001b[0m\u001b[1;33m/\u001b[0m\u001b[1;33m(\u001b[0m\u001b[1;36m2\u001b[0m\u001b[1;33m*\u001b[0m\u001b[0mideal_sigma\u001b[0m\u001b[1;33m**\u001b[0m\u001b[1;36m2\u001b[0m\u001b[1;33m)\u001b[0m\u001b[1;33m)\u001b[0m\u001b[1;33m\u001b[0m\u001b[1;33m\u001b[0m\u001b[0m\n\u001b[0m\u001b[0;32m      3\u001b[0m     \u001b[0mplt\u001b[0m\u001b[1;33m.\u001b[0m\u001b[0mfigure\u001b[0m\u001b[1;33m(\u001b[0m\u001b[0mfigsize\u001b[0m\u001b[1;33m=\u001b[0m\u001b[1;33m(\u001b[0m\u001b[1;36m8\u001b[0m\u001b[1;33m,\u001b[0m\u001b[1;36m5\u001b[0m\u001b[1;33m)\u001b[0m\u001b[1;33m)\u001b[0m\u001b[1;33m\u001b[0m\u001b[1;33m\u001b[0m\u001b[0m\n\u001b[0;32m      4\u001b[0m     \u001b[0mplt\u001b[0m\u001b[1;33m.\u001b[0m\u001b[0mplot\u001b[0m\u001b[1;33m(\u001b[0m\u001b[0mx\u001b[0m\u001b[1;33m,\u001b[0m\u001b[0mr\u001b[0m\u001b[1;33m,\u001b[0m\u001b[0mc\u001b[0m\u001b[1;33m=\u001b[0m\u001b[1;34m'k'\u001b[0m\u001b[1;33m,\u001b[0m\u001b[0mlw\u001b[0m\u001b[1;33m=\u001b[0m\u001b[1;36m3\u001b[0m\u001b[1;33m)\u001b[0m\u001b[1;33m\u001b[0m\u001b[1;33m\u001b[0m\u001b[0m\n\u001b[0;32m      5\u001b[0m     \u001b[0mr\u001b[0m\u001b[1;33m=\u001b[0m \u001b[0mr\u001b[0m\u001b[1;33m+\u001b[0m\u001b[0mnp\u001b[0m\u001b[1;33m.\u001b[0m\u001b[0mrandom\u001b[0m\u001b[1;33m.\u001b[0m\u001b[0mnormal\u001b[0m\u001b[1;33m(\u001b[0m\u001b[0mloc\u001b[0m\u001b[1;33m=\u001b[0m\u001b[0mnoise_mean\u001b[0m\u001b[1;33m,\u001b[0m\u001b[0mscale\u001b[0m\u001b[1;33m=\u001b[0m\u001b[0mnoise_sd\u001b[0m\u001b[1;33m,\u001b[0m\u001b[0msize\u001b[0m\u001b[1;33m=\u001b[0m\u001b[0mN_samples\u001b[0m\u001b[1;33m)\u001b[0m\u001b[1;33m\u001b[0m\u001b[1;33m\u001b[0m\u001b[0m\n",
          "\u001b[1;31mNameError\u001b[0m: name 'x' is not defined"
         ]
        }
       ]
      }
     },
     "cd811630643542f7b747a37c83b65153": {
      "model_module": "@jupyter-widgets/base",
      "model_module_version": "1.2.0",
      "model_name": "LayoutModel",
      "state": {}
     },
     "cd920e2a1d84420da17b645ae14a3123": {
      "model_module": "@jupyter-widgets/base",
      "model_module_version": "1.2.0",
      "model_name": "LayoutModel",
      "state": {}
     },
     "cea5e8b713524ed7917f05d32a7f12ca": {
      "model_module": "@jupyter-widgets/base",
      "model_module_version": "1.2.0",
      "model_name": "LayoutModel",
      "state": {}
     },
     "cecf413022014f36a6b5b55756363f18": {
      "model_module": "@jupyter-widgets/controls",
      "model_module_version": "1.5.0",
      "model_name": "SliderStyleModel",
      "state": {
       "description_width": ""
      }
     },
     "cee06eb51a7948428c1cd435b6ecb684": {
      "model_module": "@jupyter-widgets/controls",
      "model_module_version": "1.5.0",
      "model_name": "FloatSliderModel",
      "state": {
       "description": "noise_mean",
       "layout": "IPY_MODEL_fd890dc1fb0f4b37b5462678b500bde7",
       "max": 1,
       "min": -1,
       "step": 0.2,
       "style": "IPY_MODEL_aa3c2fb033964f8eb6eb4ed9effda95d",
       "value": 0.3
      }
     },
     "cf136d984c3240659f24a936fe3f3eed": {
      "model_module": "@jupyter-widgets/controls",
      "model_module_version": "1.5.0",
      "model_name": "VBoxModel",
      "state": {
       "_dom_classes": [
        "widget-interact"
       ],
       "children": [
        "IPY_MODEL_46a0a35292284032ab76e1eb2c5a6641",
        "IPY_MODEL_6e6543b044404fbf88d7cf2af86a3eeb",
        "IPY_MODEL_37387c6f414e4b91b13a73cae70a1aa3",
        "IPY_MODEL_d8d0cd6e6b6243d285796ed19622c302",
        "IPY_MODEL_6bb795ba5d494e858673d3ed63abb787",
        "IPY_MODEL_cff7606d7764480aa78df6abb0ea4766"
       ],
       "layout": "IPY_MODEL_b1d1179e05d94bfc83278e8124cdc619"
      }
     },
     "cfd7d6ec90394e2dbf2a1e24bcbc2311": {
      "model_module": "@jupyter-widgets/base",
      "model_module_version": "1.2.0",
      "model_name": "LayoutModel",
      "state": {}
     },
     "cfe46ee326cc46dbb5845b14ccb7f644": {
      "model_module": "@jupyter-widgets/controls",
      "model_module_version": "1.5.0",
      "model_name": "FloatSliderModel",
      "state": {
       "description": "noise_mean",
       "layout": "IPY_MODEL_990d6b0de3ee464fbfc3491833990672",
       "max": 1,
       "min": -1,
       "step": 0.2,
       "style": "IPY_MODEL_25e3a6668a814d949d4cecde09c485fd"
      }
     },
     "cff7606d7764480aa78df6abb0ea4766": {
      "model_module": "@jupyter-widgets/output",
      "model_module_version": "1.0.0",
      "model_name": "OutputModel",
      "state": {
       "layout": "IPY_MODEL_b063682be71a4f56ac89cff786b82b6c",
       "outputs": [
        {
         "data": {
          "image/png": "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\n",
          "text/plain": "<Figure size 576x360 with 1 Axes>"
         },
         "metadata": {
          "needs_background": "light"
         },
         "output_type": "display_data"
        }
       ]
      }
     },
     "d023ba9f570e47e8a6deadfcd34705cd": {
      "model_module": "@jupyter-widgets/base",
      "model_module_version": "1.2.0",
      "model_name": "LayoutModel",
      "state": {}
     },
     "d05e002a95f34787980a795d2e3e223d": {
      "model_module": "@jupyter-widgets/output",
      "model_module_version": "1.0.0",
      "model_name": "OutputModel",
      "state": {
       "layout": "IPY_MODEL_24543b6e2e0c44b09d237edfd2fcc464",
       "outputs": [
        {
         "data": {
          "image/png": "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\n",
          "text/plain": "<Figure size 576x360 with 1 Axes>"
         },
         "metadata": {
          "needs_background": "light"
         },
         "output_type": "display_data"
        }
       ]
      }
     },
     "d08e3b4933bd41c993e4a149570ccbdf": {
      "model_module": "@jupyter-widgets/base",
      "model_module_version": "1.2.0",
      "model_name": "LayoutModel",
      "state": {}
     },
     "d0940be2fedc4a9193d37c6fcf6f9d02": {
      "model_module": "@jupyter-widgets/controls",
      "model_module_version": "1.5.0",
      "model_name": "SliderStyleModel",
      "state": {
       "description_width": ""
      }
     },
     "d154f453945d4faf999a7c384630ea1d": {
      "model_module": "@jupyter-widgets/controls",
      "model_module_version": "1.5.0",
      "model_name": "FloatSliderModel",
      "state": {
       "description": "ideal_sigma",
       "layout": "IPY_MODEL_780ae344c55d47de80222b748ee00b0f",
       "max": 2,
       "step": 0.2,
       "style": "IPY_MODEL_a9aa5b62bc4944088a4888216a405094",
       "value": 1
      }
     },
     "d2014a72959e4395b933f8b5043bdbc7": {
      "model_module": "@jupyter-widgets/controls",
      "model_module_version": "1.5.0",
      "model_name": "FloatSliderModel",
      "state": {
       "description": "noise_sd",
       "layout": "IPY_MODEL_50d248459b3b4e58964f38ae011eba26",
       "max": 1,
       "step": 0.1,
       "style": "IPY_MODEL_04ed9b3dd54c4635bd71c070bc05201c",
       "value": 0.5
      }
     },
     "d2176effd57646168e6dc935b77d8148": {
      "model_module": "@jupyter-widgets/output",
      "model_module_version": "1.0.0",
      "model_name": "OutputModel",
      "state": {
       "layout": "IPY_MODEL_0256a658c0c5478697ce06059e958131",
       "outputs": [
        {
         "data": {
          "image/png": "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\n",
          "text/plain": "<Figure size 576x360 with 1 Axes>"
         },
         "metadata": {
          "needs_background": "light"
         },
         "output_type": "display_data"
        }
       ]
      }
     },
     "d225e8fdc4e4488894981561ad0fcb6d": {
      "model_module": "@jupyter-widgets/base",
      "model_module_version": "1.2.0",
      "model_name": "LayoutModel",
      "state": {}
     },
     "d2bddfdc5d054d2f813136277aca4511": {
      "model_module": "@jupyter-widgets/base",
      "model_module_version": "1.2.0",
      "model_name": "LayoutModel",
      "state": {}
     },
     "d2c07c6be01e4878973f2c7247c016cb": {
      "model_module": "@jupyter-widgets/controls",
      "model_module_version": "1.5.0",
      "model_name": "SliderStyleModel",
      "state": {
       "description_width": ""
      }
     },
     "d441cf1c50884e6981e29b257b97c4e7": {
      "model_module": "@jupyter-widgets/controls",
      "model_module_version": "1.5.0",
      "model_name": "FloatSliderModel",
      "state": {
       "description": "ideal_mu",
       "layout": "IPY_MODEL_0a8c0633c2244ffbac5bd1ce642c0cda",
       "max": 5,
       "min": -5,
       "step": 0.5,
       "style": "IPY_MODEL_626ff010794d463d8ee6428414724743",
       "value": -1
      }
     },
     "d45841523a3140e28093f8c078144fa0": {
      "model_module": "@jupyter-widgets/controls",
      "model_module_version": "1.5.0",
      "model_name": "FloatSliderModel",
      "state": {
       "description": "ideal_mu",
       "layout": "IPY_MODEL_910fc5420eb14f26b7cce7924ea73263",
       "max": 5,
       "min": -5,
       "step": 0.5,
       "style": "IPY_MODEL_e276bb74c34b450880840954a6ef439a"
      }
     },
     "d516c40e5618404694a8655f4fbde5fc": {
      "model_module": "@jupyter-widgets/base",
      "model_module_version": "1.2.0",
      "model_name": "LayoutModel",
      "state": {}
     },
     "d5563b79a86e4f62b68c1fff80b5d12a": {
      "model_module": "@jupyter-widgets/controls",
      "model_module_version": "1.5.0",
      "model_name": "DescriptionStyleModel",
      "state": {
       "description_width": ""
      }
     },
     "d5a3ffa4b59244808d5ef23aa473b3b4": {
      "model_module": "@jupyter-widgets/base",
      "model_module_version": "1.2.0",
      "model_name": "LayoutModel",
      "state": {}
     },
     "d646cd2e750642e6b16f27cbb4a56915": {
      "model_module": "@jupyter-widgets/controls",
      "model_module_version": "1.5.0",
      "model_name": "FloatSliderModel",
      "state": {
       "description": "ideal_mu",
       "layout": "IPY_MODEL_048d5dabe5f34c44bb360df96606c9bc",
       "max": 5,
       "min": -5,
       "step": 0.5,
       "style": "IPY_MODEL_dd2aa24cc5424f988ff45ac365980655"
      }
     },
     "d6c3a10b968b49e18339678de86ab7c3": {
      "model_module": "@jupyter-widgets/base",
      "model_module_version": "1.2.0",
      "model_name": "LayoutModel",
      "state": {}
     },
     "d77b2d706f134be4aaf5e359905a59db": {
      "model_module": "@jupyter-widgets/controls",
      "model_module_version": "1.5.0",
      "model_name": "FloatSliderModel",
      "state": {
       "description": "ideal_mu",
       "layout": "IPY_MODEL_5c6f15f26c2849a9a2df65b566ccb578",
       "max": 5,
       "min": -5,
       "step": 0.5,
       "style": "IPY_MODEL_070537a30fb645e983e5e935ce78e28f"
      }
     },
     "d7ddca432534421185d886b88bff1324": {
      "model_module": "@jupyter-widgets/controls",
      "model_module_version": "1.5.0",
      "model_name": "DescriptionStyleModel",
      "state": {
       "description_width": ""
      }
     },
     "d882bf1cba47401a845dddf178874564": {
      "model_module": "@jupyter-widgets/controls",
      "model_module_version": "1.5.0",
      "model_name": "FloatSliderModel",
      "state": {
       "description": "ideal_mu",
       "layout": "IPY_MODEL_3e70b3c3f14a429d865687bc04eca397",
       "max": 5,
       "min": -5,
       "step": 0.5,
       "style": "IPY_MODEL_1ef5fb96dfbe45338e2c2ad3f005b26c"
      }
     },
     "d8d0cd6e6b6243d285796ed19622c302": {
      "model_module": "@jupyter-widgets/controls",
      "model_module_version": "1.5.0",
      "model_name": "FloatSliderModel",
      "state": {
       "description": "noise_sd",
       "layout": "IPY_MODEL_e4ca70cc8a004c59a6d3cd0e612e6999",
       "max": 1,
       "step": 0.1,
       "style": "IPY_MODEL_8db0c079d83d450d9280151212cbe5e5",
       "value": 0.6
      }
     },
     "d970a5e078454f019bcff13ad77b24ce": {
      "model_module": "@jupyter-widgets/controls",
      "model_module_version": "1.5.0",
      "model_name": "DropdownModel",
      "state": {
       "_options_labels": [
        "1",
        "2",
        "3",
        "4",
        "5"
       ],
       "description": "amplitude",
       "index": 4,
       "layout": "IPY_MODEL_68ba881932364e1b83b6c849fbfa4f5c",
       "style": "IPY_MODEL_d5563b79a86e4f62b68c1fff80b5d12a"
      }
     },
     "d987bd89b0e449f48b59142a93aef0b0": {
      "model_module": "@jupyter-widgets/base",
      "model_module_version": "1.2.0",
      "model_name": "LayoutModel",
      "state": {}
     },
     "d99690466fc64b0a801f9e23f76c1e92": {
      "model_module": "@jupyter-widgets/base",
      "model_module_version": "1.2.0",
      "model_name": "LayoutModel",
      "state": {}
     },
     "d9ef062e35fd42898bb83cafcec10847": {
      "model_module": "@jupyter-widgets/controls",
      "model_module_version": "1.5.0",
      "model_name": "VBoxModel",
      "state": {
       "_dom_classes": [
        "widget-interact"
       ],
       "children": [
        "IPY_MODEL_256ba3d39a1f451da25f300501762fa0",
        "IPY_MODEL_11c528d9866b43aeb464afbcc1fb01f0",
        "IPY_MODEL_080e8337bce546f39ad1bc54e1e27a3c",
        "IPY_MODEL_99a27b2e456e4a5d9223e99478a8fc7a",
        "IPY_MODEL_685cf79c7a3f4bb4a02531c3d5af63d6",
        "IPY_MODEL_5956981054684b4ca0bde497db00b129"
       ],
       "layout": "IPY_MODEL_0df282cceed54fc48d719f617453c834"
      }
     },
     "da0d113d499c4663998f1753aa3d7663": {
      "model_module": "@jupyter-widgets/controls",
      "model_module_version": "1.5.0",
      "model_name": "FloatSliderModel",
      "state": {
       "description": "noise_mean",
       "layout": "IPY_MODEL_089d55f936814b89bbfcf73bc57ae325",
       "max": 1,
       "min": -1,
       "step": 0.2,
       "style": "IPY_MODEL_808bec2701d84ddab3bbea35839e8055",
       "value": 0.2
      }
     },
     "da8ffeca63c54f169d1ecdc9e88b939c": {
      "model_module": "@jupyter-widgets/controls",
      "model_module_version": "1.5.0",
      "model_name": "SliderStyleModel",
      "state": {
       "description_width": ""
      }
     },
     "daa415dc168c4a8e874631f4ee8e8cc0": {
      "model_module": "@jupyter-widgets/controls",
      "model_module_version": "1.5.0",
      "model_name": "SliderStyleModel",
      "state": {
       "description_width": ""
      }
     },
     "db93be62330149f18370838bc0ec0937": {
      "model_module": "@jupyter-widgets/controls",
      "model_module_version": "1.5.0",
      "model_name": "FloatSliderModel",
      "state": {
       "description": "noise_mean",
       "layout": "IPY_MODEL_85cb6a4d536b44e5b5552a4ed9470940",
       "max": 1,
       "min": -1,
       "step": 0.2,
       "style": "IPY_MODEL_65a3fde6c4d743bb825039016b77b504",
       "value": 0.1
      }
     },
     "dd2aa24cc5424f988ff45ac365980655": {
      "model_module": "@jupyter-widgets/controls",
      "model_module_version": "1.5.0",
      "model_name": "SliderStyleModel",
      "state": {
       "description_width": ""
      }
     },
     "ddcf5865d4fd45c2a36eb72e949a3729": {
      "model_module": "@jupyter-widgets/controls",
      "model_module_version": "1.5.0",
      "model_name": "FloatSliderModel",
      "state": {
       "description": "ideal_mu",
       "layout": "IPY_MODEL_432f44b15c2a4bbb868ca94d357a2c90",
       "max": 5,
       "min": -5,
       "step": 0.5,
       "style": "IPY_MODEL_1eff6d292134403eb384fca51a01f5ba"
      }
     },
     "e023876cb5d942ed99dd35853a1825f7": {
      "model_module": "@jupyter-widgets/base",
      "model_module_version": "1.2.0",
      "model_name": "LayoutModel",
      "state": {}
     },
     "e03cbd2ef7b34fcc8988e7dfa14cec2c": {
      "model_module": "@jupyter-widgets/controls",
      "model_module_version": "1.5.0",
      "model_name": "SliderStyleModel",
      "state": {
       "description_width": ""
      }
     },
     "e0b6a6cdd2ee4526bb93410c81574e72": {
      "model_module": "@jupyter-widgets/controls",
      "model_module_version": "1.5.0",
      "model_name": "SliderStyleModel",
      "state": {
       "description_width": ""
      }
     },
     "e0d15046a62b455a941f313983ea58d8": {
      "model_module": "@jupyter-widgets/base",
      "model_module_version": "1.2.0",
      "model_name": "LayoutModel",
      "state": {}
     },
     "e276bb74c34b450880840954a6ef439a": {
      "model_module": "@jupyter-widgets/controls",
      "model_module_version": "1.5.0",
      "model_name": "SliderStyleModel",
      "state": {
       "description_width": ""
      }
     },
     "e2f5354571af46c8b04faf485facc542": {
      "model_module": "@jupyter-widgets/controls",
      "model_module_version": "1.5.0",
      "model_name": "SliderStyleModel",
      "state": {
       "description_width": ""
      }
     },
     "e3409188dcda4ff0bfbc29162779f93a": {
      "model_module": "@jupyter-widgets/base",
      "model_module_version": "1.2.0",
      "model_name": "LayoutModel",
      "state": {}
     },
     "e346199c3a9e4fe6b6233c2853f4d17d": {
      "model_module": "@jupyter-widgets/controls",
      "model_module_version": "1.5.0",
      "model_name": "SliderStyleModel",
      "state": {
       "description_width": ""
      }
     },
     "e3a2589ff5fd426eaaa3bf7e0d61031f": {
      "model_module": "@jupyter-widgets/controls",
      "model_module_version": "1.5.0",
      "model_name": "FloatSliderModel",
      "state": {
       "description": "noise_sd",
       "layout": "IPY_MODEL_b697b5b813344d1ea8ce6ecf5e8f2b6b",
       "max": 1,
       "step": 0.5,
       "style": "IPY_MODEL_398ce02f27ad42fbb2816b2564d5269c",
       "value": 0.5
      }
     },
     "e4ca70cc8a004c59a6d3cd0e612e6999": {
      "model_module": "@jupyter-widgets/base",
      "model_module_version": "1.2.0",
      "model_name": "LayoutModel",
      "state": {}
     },
     "e56f7cc4037d42d29ff4cdfc96a662eb": {
      "model_module": "@jupyter-widgets/base",
      "model_module_version": "1.2.0",
      "model_name": "LayoutModel",
      "state": {}
     },
     "e6392a3b9d184f2aa708d6c5f58c278b": {
      "model_module": "@jupyter-widgets/base",
      "model_module_version": "1.2.0",
      "model_name": "LayoutModel",
      "state": {}
     },
     "e6783faee2a84875ad624633574a99cc": {
      "model_module": "@jupyter-widgets/controls",
      "model_module_version": "1.5.0",
      "model_name": "SliderStyleModel",
      "state": {
       "description_width": ""
      }
     },
     "e6b93647b59a450692ea802811152c56": {
      "model_module": "@jupyter-widgets/controls",
      "model_module_version": "1.5.0",
      "model_name": "DescriptionStyleModel",
      "state": {
       "description_width": ""
      }
     },
     "e6d1d8777dd34c4f8c8bf99f74d09797": {
      "model_module": "@jupyter-widgets/controls",
      "model_module_version": "1.5.0",
      "model_name": "SliderStyleModel",
      "state": {
       "description_width": ""
      }
     },
     "e718c48b3cf94ab591b712afdb5ed391": {
      "model_module": "@jupyter-widgets/base",
      "model_module_version": "1.2.0",
      "model_name": "LayoutModel",
      "state": {}
     },
     "e8c2cf76dc2847a48904901401dede6d": {
      "model_module": "@jupyter-widgets/base",
      "model_module_version": "1.2.0",
      "model_name": "LayoutModel",
      "state": {}
     },
     "e8f52bb7b6fc450ea4e30756ed008019": {
      "model_module": "@jupyter-widgets/controls",
      "model_module_version": "1.5.0",
      "model_name": "SliderStyleModel",
      "state": {
       "description_width": ""
      }
     },
     "e94c8c2a599142ceb9f56d569b28b2d2": {
      "model_module": "@jupyter-widgets/controls",
      "model_module_version": "1.5.0",
      "model_name": "SliderStyleModel",
      "state": {
       "description_width": ""
      }
     },
     "e97d790fb0684de3b72e63006a22a5b3": {
      "model_module": "@jupyter-widgets/controls",
      "model_module_version": "1.5.0",
      "model_name": "SliderStyleModel",
      "state": {
       "description_width": ""
      }
     },
     "e9bb2beaac8e402a918499b6e2248d16": {
      "model_module": "@jupyter-widgets/controls",
      "model_module_version": "1.5.0",
      "model_name": "DescriptionStyleModel",
      "state": {
       "description_width": ""
      }
     },
     "e9c6d00bd4aa47b9816ffc72419ad40f": {
      "model_module": "@jupyter-widgets/output",
      "model_module_version": "1.0.0",
      "model_name": "OutputModel",
      "state": {
       "layout": "IPY_MODEL_6ef40152a2f546589b6e4d57a369f61e",
       "outputs": [
        {
         "data": {
          "image/png": "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\n",
          "text/plain": "<Figure size 576x360 with 1 Axes>"
         },
         "metadata": {
          "needs_background": "light"
         },
         "output_type": "display_data"
        }
       ]
      }
     },
     "ea1d3d09f633446db31b8207d5de8680": {
      "model_module": "@jupyter-widgets/controls",
      "model_module_version": "1.5.0",
      "model_name": "FloatSliderModel",
      "state": {
       "description": "noise_sd",
       "layout": "IPY_MODEL_cd811630643542f7b747a37c83b65153",
       "max": 1,
       "step": 0.1,
       "style": "IPY_MODEL_16296a830b47441281fe10a467854afe",
       "value": 0.6
      }
     },
     "ea48aafee1d847bb9944731a20dea831": {
      "model_module": "@jupyter-widgets/controls",
      "model_module_version": "1.5.0",
      "model_name": "SliderStyleModel",
      "state": {
       "description_width": ""
      }
     },
     "ea578f7d79f84d73b9a050f3ca402f2a": {
      "model_module": "@jupyter-widgets/base",
      "model_module_version": "1.2.0",
      "model_name": "LayoutModel",
      "state": {}
     },
     "ea92d0a4569249b995afc01f8d8339d8": {
      "model_module": "@jupyter-widgets/controls",
      "model_module_version": "1.5.0",
      "model_name": "FloatSliderModel",
      "state": {
       "description": "ideal_sigma",
       "layout": "IPY_MODEL_4ca920c07013471fa9493d2d405f16d3",
       "max": 2,
       "step": 0.2,
       "style": "IPY_MODEL_2853509f63804b8d98a51f7e9d24900b",
       "value": 1
      }
     },
     "ea9489e98f224e8c8a03437ccd590c17": {
      "model_module": "@jupyter-widgets/base",
      "model_module_version": "1.2.0",
      "model_name": "LayoutModel",
      "state": {}
     },
     "eada2721ba374026a44a06a3c7628b4e": {
      "model_module": "@jupyter-widgets/controls",
      "model_module_version": "1.5.0",
      "model_name": "SliderStyleModel",
      "state": {
       "description_width": ""
      }
     },
     "eb505c2a8a25407a994b2041fae327e9": {
      "model_module": "@jupyter-widgets/controls",
      "model_module_version": "1.5.0",
      "model_name": "DescriptionStyleModel",
      "state": {
       "description_width": ""
      }
     },
     "eb8a0835851b49a48c12de52e8b2bd79": {
      "model_module": "@jupyter-widgets/base",
      "model_module_version": "1.2.0",
      "model_name": "LayoutModel",
      "state": {}
     },
     "ebabdb2a9d6d48b38fd0c667b44f944a": {
      "model_module": "@jupyter-widgets/output",
      "model_module_version": "1.0.0",
      "model_name": "OutputModel",
      "state": {
       "layout": "IPY_MODEL_230ec4ea1e0849898bc3fcafc4a73468",
       "outputs": [
        {
         "data": {
          "image/png": "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\n",
          "text/plain": "<Figure size 576x360 with 1 Axes>"
         },
         "metadata": {
          "needs_background": "light"
         },
         "output_type": "display_data"
        }
       ]
      }
     },
     "ed58b0c470ba45648f890b62afb4bb69": {
      "model_module": "@jupyter-widgets/base",
      "model_module_version": "1.2.0",
      "model_name": "LayoutModel",
      "state": {}
     },
     "ee5368d9e6874e5490b2b252129b8de7": {
      "model_module": "@jupyter-widgets/controls",
      "model_module_version": "1.5.0",
      "model_name": "SliderStyleModel",
      "state": {
       "description_width": ""
      }
     },
     "ef4c960080f34f8aadc114e550e232cd": {
      "model_module": "@jupyter-widgets/base",
      "model_module_version": "1.2.0",
      "model_name": "LayoutModel",
      "state": {}
     },
     "f07023c3bbd74b0f92aa0aed2d17e76a": {
      "model_module": "@jupyter-widgets/output",
      "model_module_version": "1.0.0",
      "model_name": "OutputModel",
      "state": {
       "layout": "IPY_MODEL_7b757a56c0f44e9faf9139b7ccb2fd7c",
       "outputs": [
        {
         "data": {
          "image/png": "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\n",
          "text/plain": "<Figure size 576x360 with 1 Axes>"
         },
         "metadata": {
          "needs_background": "light"
         },
         "output_type": "display_data"
        }
       ]
      }
     },
     "f08628219e7c4a3bbc900a26b0cd77fd": {
      "model_module": "@jupyter-widgets/output",
      "model_module_version": "1.0.0",
      "model_name": "OutputModel",
      "state": {
       "layout": "IPY_MODEL_4b41525db8b14c06951d8892362d5bcc",
       "outputs": [
        {
         "data": {
          "image/png": "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\n",
          "text/plain": "<Figure size 576x360 with 1 Axes>"
         },
         "metadata": {
          "needs_background": "light"
         },
         "output_type": "display_data"
        }
       ]
      }
     },
     "f0efeac78c014b3e9c9fd553aeb720b4": {
      "model_module": "@jupyter-widgets/controls",
      "model_module_version": "1.5.0",
      "model_name": "DescriptionStyleModel",
      "state": {
       "description_width": ""
      }
     },
     "f10ddda1a36b4cd3b285275d61eb2d4e": {
      "model_module": "@jupyter-widgets/controls",
      "model_module_version": "1.5.0",
      "model_name": "FloatSliderModel",
      "state": {
       "description": "noise_sd",
       "layout": "IPY_MODEL_ad742d903e3c451e92e92b78b3721e94",
       "max": 1,
       "step": 0.1,
       "style": "IPY_MODEL_230cfb758df14ddc976ce8768b5ef520",
       "value": 0.6
      }
     },
     "f121ab66579143f1882caaeb7266779b": {
      "model_module": "@jupyter-widgets/controls",
      "model_module_version": "1.5.0",
      "model_name": "SliderStyleModel",
      "state": {
       "description_width": ""
      }
     },
     "f13930e00e844133adac78f10b0eb314": {
      "model_module": "@jupyter-widgets/controls",
      "model_module_version": "1.5.0",
      "model_name": "FloatSliderModel",
      "state": {
       "description": "noise_mean",
       "layout": "IPY_MODEL_f150b3fb8d124b4d91a04af4980c8b65",
       "max": 1,
       "min": -1,
       "step": 0.2,
       "style": "IPY_MODEL_beb26ee8bf414d31ad34d4d4c5f3ef27"
      }
     },
     "f142a95bb31d43cd994812fc5149932b": {
      "model_module": "@jupyter-widgets/controls",
      "model_module_version": "1.5.0",
      "model_name": "FloatSliderModel",
      "state": {
       "description": "ideal_mu",
       "layout": "IPY_MODEL_e8c2cf76dc2847a48904901401dede6d",
       "max": 5,
       "min": -5,
       "step": 0.5,
       "style": "IPY_MODEL_a6f94ff33b7d41b6a4ef4f046dae660d"
      }
     },
     "f150b3fb8d124b4d91a04af4980c8b65": {
      "model_module": "@jupyter-widgets/base",
      "model_module_version": "1.2.0",
      "model_name": "LayoutModel",
      "state": {}
     },
     "f18f030bc18940ec80bbdd089f95916c": {
      "model_module": "@jupyter-widgets/base",
      "model_module_version": "1.2.0",
      "model_name": "LayoutModel",
      "state": {}
     },
     "f3fa43dfe20d4e75bc5d89cf8cd4a043": {
      "model_module": "@jupyter-widgets/base",
      "model_module_version": "1.2.0",
      "model_name": "LayoutModel",
      "state": {}
     },
     "f40b5579e4944582807a0ec79ed38f8d": {
      "model_module": "@jupyter-widgets/controls",
      "model_module_version": "1.5.0",
      "model_name": "SliderStyleModel",
      "state": {
       "description_width": ""
      }
     },
     "f5db8953402d45b38a8764a8510eeb62": {
      "model_module": "@jupyter-widgets/output",
      "model_module_version": "1.0.0",
      "model_name": "OutputModel",
      "state": {
       "layout": "IPY_MODEL_0646bbad6fec45848807da1829af79cc",
       "outputs": [
        {
         "data": {
          "image/png": "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\n",
          "text/plain": "<Figure size 576x360 with 1 Axes>"
         },
         "metadata": {
          "needs_background": "light"
         },
         "output_type": "display_data"
        }
       ]
      }
     },
     "f62bf49761b24f259ea0090389fd606c": {
      "model_module": "@jupyter-widgets/controls",
      "model_module_version": "1.5.0",
      "model_name": "FloatSliderModel",
      "state": {
       "description": "noise_sd",
       "layout": "IPY_MODEL_d6c3a10b968b49e18339678de86ab7c3",
       "max": 1,
       "step": 0.1,
       "style": "IPY_MODEL_7adf3a115a11430c93e664237f8aa0fd",
       "value": 0.7
      }
     },
     "f63a618b4fba451ba10aec5242e3b6bf": {
      "model_module": "@jupyter-widgets/controls",
      "model_module_version": "1.5.0",
      "model_name": "VBoxModel",
      "state": {
       "_dom_classes": [
        "widget-interact"
       ],
       "children": [
        "IPY_MODEL_d77b2d706f134be4aaf5e359905a59db",
        "IPY_MODEL_8c6d8e59b2b04f38a371acc108f2f11f",
        "IPY_MODEL_a211f346d04a4512914128c4bef7596b",
        "IPY_MODEL_f62bf49761b24f259ea0090389fd606c",
        "IPY_MODEL_7bf9005c4d4841009d55c1cb3eb9b4d2",
        "IPY_MODEL_e9c6d00bd4aa47b9816ffc72419ad40f"
       ],
       "layout": "IPY_MODEL_664941afb4b94b6ab0e233308632a296"
      }
     },
     "f6c3ceecdd0945a695f7410f175cb1c8": {
      "model_module": "@jupyter-widgets/controls",
      "model_module_version": "1.5.0",
      "model_name": "FloatSliderModel",
      "state": {
       "description": "noise_mean",
       "layout": "IPY_MODEL_322b4823a249490d9e9abbc65e16f7ea",
       "max": 1,
       "min": -1,
       "step": 0.2,
       "style": "IPY_MODEL_a8ed63a1db7f4f1f9bb0b6ef2ce6724c"
      }
     },
     "f6cf40263d0e424fab1d63e55dab6a0f": {
      "model_module": "@jupyter-widgets/base",
      "model_module_version": "1.2.0",
      "model_name": "LayoutModel",
      "state": {}
     },
     "f7ace7d2acfc42e4815b2b7a8f2238c0": {
      "model_module": "@jupyter-widgets/controls",
      "model_module_version": "1.5.0",
      "model_name": "VBoxModel",
      "state": {
       "_dom_classes": [
        "widget-interact"
       ],
       "children": [
        "IPY_MODEL_ccbc689d014d4965a0e293dc666da577",
        "IPY_MODEL_4db57953fd4b4200b71c09ed96812823",
        "IPY_MODEL_13ce6ed2f92e4636a011c142398d5f3f",
        "IPY_MODEL_5618022958d947958b56fb5b9dd83f47",
        "IPY_MODEL_db93be62330149f18370838bc0ec0937",
        "IPY_MODEL_90fcb9c6ac30439c946bbcc071c3aeb6"
       ],
       "layout": "IPY_MODEL_f18f030bc18940ec80bbdd089f95916c"
      }
     },
     "f7d8f622231e49c7a099509e4792cb8f": {
      "model_module": "@jupyter-widgets/controls",
      "model_module_version": "1.5.0",
      "model_name": "SliderStyleModel",
      "state": {
       "description_width": ""
      }
     },
     "f88bcc6fdc444588bb6fceca9bb61016": {
      "model_module": "@jupyter-widgets/base",
      "model_module_version": "1.2.0",
      "model_name": "LayoutModel",
      "state": {}
     },
     "fa218a7cfe484346a7d5f24e780c67b3": {
      "model_module": "@jupyter-widgets/controls",
      "model_module_version": "1.5.0",
      "model_name": "FloatSliderModel",
      "state": {
       "description": "ideal_mu",
       "layout": "IPY_MODEL_3d5a3603294c454f8dbb69818325253f",
       "max": 5,
       "min": -5,
       "step": 0.5,
       "style": "IPY_MODEL_3139d3b84114484dbca1ad4ca561797e",
       "value": 0.5
      }
     },
     "fa3e5bec8b48451bbb552f22c9f94794": {
      "model_module": "@jupyter-widgets/base",
      "model_module_version": "1.2.0",
      "model_name": "LayoutModel",
      "state": {}
     },
     "fa76d61ff4ef445f8a8c465b1529a656": {
      "model_module": "@jupyter-widgets/base",
      "model_module_version": "1.2.0",
      "model_name": "LayoutModel",
      "state": {}
     },
     "facc9378e4594b858523bd386fb9dca5": {
      "model_module": "@jupyter-widgets/base",
      "model_module_version": "1.2.0",
      "model_name": "LayoutModel",
      "state": {}
     },
     "fd890dc1fb0f4b37b5462678b500bde7": {
      "model_module": "@jupyter-widgets/base",
      "model_module_version": "1.2.0",
      "model_name": "LayoutModel",
      "state": {}
     },
     "fe9f4fc44287420585f0485abd5a94d7": {
      "model_module": "@jupyter-widgets/base",
      "model_module_version": "1.2.0",
      "model_name": "LayoutModel",
      "state": {}
     },
     "feb7eabc479c47dc87ab9af5dc595307": {
      "model_module": "@jupyter-widgets/base",
      "model_module_version": "1.2.0",
      "model_name": "LayoutModel",
      "state": {}
     },
     "ff836b9f61634ca7912a5c124a630201": {
      "model_module": "@jupyter-widgets/controls",
      "model_module_version": "1.5.0",
      "model_name": "DropdownModel",
      "state": {
       "_options_labels": [
        "1",
        "2",
        "3",
        "4",
        "5"
       ],
       "description": "amplitude",
       "index": 2,
       "layout": "IPY_MODEL_8bc72b162d364f208c8d783f9a0352e7",
       "style": "IPY_MODEL_78d9e8e0b7aa4cf1b0ba92b1ac268785"
      }
     }
    },
    "version_major": 2,
    "version_minor": 0
   }
  }
 },
 "nbformat": 4,
 "nbformat_minor": 2
}
